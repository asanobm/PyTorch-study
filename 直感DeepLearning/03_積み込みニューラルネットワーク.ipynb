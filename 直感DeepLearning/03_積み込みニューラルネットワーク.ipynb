{
 "cells": [
  {
   "cell_type": "markdown",
   "metadata": {},
   "source": [
    "3.3. CIFAR-10 画像認識\n",
    "\n",
    "CIFAR-10 は、カナダのトロント大学が提供する、10種類の画像を分類するためのデータセットです。このデータセットは、32x32ピクセルのカラー画像 60,000枚で構成されています。そのうち、50,000枚が訓練用、10,000枚がテスト用になっています。画像は、飛行機、自動車、鳥、猫、鹿、犬、カエル、馬、船、トラックの10種類です。"
   ]
  },
  {
   "cell_type": "code",
   "execution_count": 28,
   "metadata": {},
   "outputs": [],
   "source": [
    "import os\n",
    "import keras\n",
    "\n",
    "from keras.models import Sequential\n",
    "\n",
    "from keras.layers import Conv2D, MaxPooling2D, Activation\n",
    "from keras.layers import Flatten, Dense, Dropout\n",
    "\n",
    "from keras.datasets import cifar10\n",
    "\n",
    "from keras.optimizers import RMSprop\n",
    "\n",
    "from keras.callbacks import TensorBoard, ModelCheckpoint\n"
   ]
  },
  {
   "cell_type": "code",
   "execution_count": 41,
   "metadata": {},
   "outputs": [],
   "source": [
    "# LeNet configuration\n",
    "\n",
    "def network(input_shape, num_classes):\n",
    "  model = Sequential()\n",
    "\n",
    "  model.add(Conv2D(32, (3, 3), padding='same', input_shape=input_shape, activation='relu'))\n",
    "  model.add(MaxPooling2D(pool_size=(2, 2)))\n",
    "  model.add(Conv2D(64, (3, 3), padding='same', activation='relu'))\n",
    "  model.add(MaxPooling2D(pool_size=(2, 2)))\n",
    "  model.add(Dropout(0.5))\n",
    "  model.add(Flatten())\n",
    "  model.add(Dense(512, activation='relu'))\n",
    "  model.add(Dropout(0.5))\n",
    "  model.add(Dense(num_classes, activation='softmax'))\n",
    "  return model"
   ]
  },
  {
   "cell_type": "code",
   "execution_count": 42,
   "metadata": {},
   "outputs": [],
   "source": [
    "class CIFAR10Dataset():\n",
    "  \"\"\"\n",
    "  CIFAR-10 dataset.\n",
    "  attributes:\n",
    "    - image_shape: image shape\n",
    "    - num_classes: number of classes\n",
    "  \"\"\"\n",
    "  def __init__(self):\n",
    "    self.image_shape = (32, 32, 3)\n",
    "    self.num_classes = 10\n",
    "\n",
    "  def get_batch(self):\n",
    "    (x_train, y_train), (x_test, y_test) = cifar10.load_data()\n",
    "\n",
    "    x_train = x_train.astype('float32')\n",
    "    x_test = x_test.astype('float32')\n",
    "\n",
    "    x_train /= 255\n",
    "    x_test /= 255\n",
    "\n",
    "    y_train = keras.utils.to_categorical(y_train, self.num_classes)\n",
    "    y_test = keras.utils.to_categorical(y_test, self.num_classes)\n",
    "\n",
    "    return x_train, y_train, x_test, y_test\n",
    "  \n",
    "  def preprocess(slef, data, label_data=False):\n",
    "    if label_data:\n",
    "      data = keras.utils.to_categorical(data, self.num_classes)\n",
    "    else:\n",
    "      data = data.astype('float32')\n",
    "      data /= 255\n",
    "      shape = (data.shape[0],) + self.image_shape\n",
    "      return data"
   ]
  },
  {
   "cell_type": "code",
   "execution_count": 43,
   "metadata": {},
   "outputs": [],
   "source": [
    "class Trainer():\n",
    "  def __init__(self, model, loss, optimizer):\n",
    "    self._target = model\n",
    "    self._target.compile(loss=loss, optimizer=optimizer, metrics=['accuracy'])\n",
    "    self.verbose = 1\n",
    "    self.log_dir = os.path.join(os.getcwd(), 'logdir')\n",
    "    \n",
    "    \n",
    "    self.model_file_name = 'model_file.hdf5'\n",
    "\n",
    "  def train(self, x_train, y_train, batch_size, epochs, validation_split):\n",
    "    if os.path.exists(self.log_dir):\n",
    "      import shutil\n",
    "      shutil.rmtree(self.log_dir)\n",
    "    os.mkdir(self.log_dir)\n",
    "\n",
    "    self._target.fit(\n",
    "      x_train, y_train,\n",
    "      batch_size=batch_size, epochs=epochs,\n",
    "      validation_split=validation_split,\n",
    "      callbacks=[\n",
    "        TensorBoard(log_dir=self.log_dir),\n",
    "        ModelCheckpoint(os.path.join(self.log_dir, self.model_file_name), save_best_only=True)\n",
    "      ],\n",
    "      verbose=self.verbose)"
   ]
  },
  {
   "cell_type": "code",
   "execution_count": 44,
   "metadata": {},
   "outputs": [
    {
     "name": "stderr",
     "output_type": "stream",
     "text": [
      "WARNING:absl:At this time, the v2.11+ optimizer `tf.keras.optimizers.RMSprop` runs slowly on M1/M2 Macs, please use the legacy Keras optimizer instead, located at `tf.keras.optimizers.legacy.RMSprop`.\n"
     ]
    },
    {
     "name": "stdout",
     "output_type": "stream",
     "text": [
      "Epoch 1/12\n",
      "313/313 [==============================] - 8s 22ms/step - loss: 1.7259 - accuracy: 0.3789 - val_loss: 1.5396 - val_accuracy: 0.4675\n",
      "Epoch 2/12\n",
      "313/313 [==============================] - 7s 21ms/step - loss: 1.3734 - accuracy: 0.5126 - val_loss: 1.2589 - val_accuracy: 0.5535\n",
      "Epoch 3/12\n",
      "313/313 [==============================] - 7s 21ms/step - loss: 1.2463 - accuracy: 0.5621 - val_loss: 1.1621 - val_accuracy: 0.5909\n",
      "Epoch 4/12\n",
      "313/313 [==============================] - 7s 22ms/step - loss: 1.1869 - accuracy: 0.5865 - val_loss: 1.0662 - val_accuracy: 0.6301\n",
      "Epoch 5/12\n",
      "313/313 [==============================] - 7s 23ms/step - loss: 1.1588 - accuracy: 0.5999 - val_loss: 1.1204 - val_accuracy: 0.6142\n",
      "Epoch 6/12\n",
      "313/313 [==============================] - 7s 21ms/step - loss: 1.1815 - accuracy: 0.6023 - val_loss: 1.1226 - val_accuracy: 0.6176\n",
      "Epoch 7/12\n",
      "313/313 [==============================] - 7s 22ms/step - loss: 1.2406 - accuracy: 0.5937 - val_loss: 1.1283 - val_accuracy: 0.6170\n",
      "Epoch 8/12\n",
      "313/313 [==============================] - 7s 22ms/step - loss: 1.3076 - accuracy: 0.5788 - val_loss: 1.2002 - val_accuracy: 0.6014\n",
      "Epoch 9/12\n",
      "313/313 [==============================] - 7s 21ms/step - loss: 1.4252 - accuracy: 0.5649 - val_loss: 1.4378 - val_accuracy: 0.5691\n",
      "Epoch 10/12\n",
      "313/313 [==============================] - 7s 21ms/step - loss: 1.5441 - accuracy: 0.5508 - val_loss: 1.2730 - val_accuracy: 0.5959\n",
      "Epoch 11/12\n",
      "313/313 [==============================] - 7s 22ms/step - loss: 1.7595 - accuracy: 0.5298 - val_loss: 2.0691 - val_accuracy: 0.4767\n",
      "Epoch 12/12\n",
      "313/313 [==============================] - 7s 21ms/step - loss: 1.9372 - accuracy: 0.5166 - val_loss: 1.9975 - val_accuracy: 0.5127\n"
     ]
    }
   ],
   "source": [
    "dataset = CIFAR10Dataset()\n",
    "x_train, y_train, x_test, y_test = dataset.get_batch()\n",
    "\n",
    "model = network(dataset.image_shape, dataset.num_classes)\n",
    "trainer = Trainer(model, loss='categorical_crossentropy', optimizer=RMSprop())\n",
    "trainer.train(x_train, y_train, batch_size=128, epochs=12, validation_split=0.2)\n",
    "\n",
    "# show result\n",
    "score = model.evaluate(x_test, y_test, verbose=0)\n",
    "print('Test loss:', score[0])\n",
    "print('Test accuracy:', score[1])"
   ]
  },
  {
   "cell_type": "markdown",
   "metadata": {},
   "source": [
    "参考書と同じコードだと思うが、結果が大違いだ！"
   ]
  },
  {
   "cell_type": "code",
   "execution_count": 45,
   "metadata": {},
   "outputs": [],
   "source": [
    "# check tensorboard\n",
    "# !tensorboard --logdir=logdir"
   ]
  },
  {
   "cell_type": "markdown",
   "metadata": {},
   "source": [
    "**ネットワークをもっと深くすることによる改善**"
   ]
  },
  {
   "cell_type": "code",
   "execution_count": 46,
   "metadata": {},
   "outputs": [],
   "source": [
    "# LeNet configuration\n",
    "\n",
    "def network(input_shape, num_classes):\n",
    "  model = Sequential()\n",
    "\n",
    "  model.add(Conv2D(32, (3, 3), padding='same', input_shape=input_shape, activation='relu'))\n",
    "  model.add(Conv2D(32, (3, 3), padding='same', activation='relu'))\n",
    "  model.add(MaxPooling2D(pool_size=(2, 2)))\n",
    "  model.add(Dropout(0.25))\n",
    "  model.add(Conv2D(64, (3, 3), padding='same', activation='relu'))\n",
    "  model.add(Conv2D(64, (3, 3), activation='relu'))\n",
    "  model.add(MaxPooling2D(pool_size=(2, 2)))\n",
    "  model.add(Dropout(0.5))\n",
    "  model.add(Flatten())\n",
    "  model.add(Dense(512, activation='relu'))\n",
    "  model.add(Dropout(0.5))\n",
    "  model.add(Dense(num_classes, activation='softmax'))\n",
    "  return model"
   ]
  },
  {
   "cell_type": "code",
   "execution_count": 47,
   "metadata": {},
   "outputs": [
    {
     "name": "stderr",
     "output_type": "stream",
     "text": [
      "WARNING:absl:At this time, the v2.11+ optimizer `tf.keras.optimizers.RMSprop` runs slowly on M1/M2 Macs, please use the legacy Keras optimizer instead, located at `tf.keras.optimizers.legacy.RMSprop`.\n"
     ]
    },
    {
     "name": "stdout",
     "output_type": "stream",
     "text": [
      "Epoch 1/12\n",
      "313/313 [==============================] - 10s 28ms/step - loss: 1.8976 - accuracy: 0.3102 - val_loss: 1.5836 - val_accuracy: 0.4160\n",
      "Epoch 2/12\n",
      "313/313 [==============================] - 8s 26ms/step - loss: 1.5087 - accuracy: 0.4529 - val_loss: 1.3280 - val_accuracy: 0.5209\n",
      "Epoch 3/12\n",
      "313/313 [==============================] - 8s 25ms/step - loss: 1.3483 - accuracy: 0.5199 - val_loss: 1.2712 - val_accuracy: 0.5362\n",
      "Epoch 4/12\n",
      "313/313 [==============================] - 8s 25ms/step - loss: 1.3157 - accuracy: 0.5497 - val_loss: 1.1755 - val_accuracy: 0.5949\n",
      "Epoch 5/12\n",
      "313/313 [==============================] - 8s 25ms/step - loss: 1.5503 - accuracy: 0.5425 - val_loss: 1.6928 - val_accuracy: 0.5319\n",
      "Epoch 6/12\n",
      "313/313 [==============================] - 8s 25ms/step - loss: 2.7145 - accuracy: 0.4997 - val_loss: 2.9195 - val_accuracy: 0.5418\n",
      "Epoch 7/12\n",
      "313/313 [==============================] - 8s 25ms/step - loss: 6.6445 - accuracy: 0.4588 - val_loss: 7.5319 - val_accuracy: 0.4624\n",
      "Epoch 8/12\n",
      "313/313 [==============================] - 8s 25ms/step - loss: 15.9236 - accuracy: 0.4351 - val_loss: 20.1293 - val_accuracy: 0.4435\n",
      "Epoch 9/12\n",
      "313/313 [==============================] - 8s 25ms/step - loss: 29.6235 - accuracy: 0.4302 - val_loss: 31.8024 - val_accuracy: 0.4588\n",
      "Epoch 10/12\n",
      "313/313 [==============================] - 8s 25ms/step - loss: 45.3606 - accuracy: 0.4322 - val_loss: 48.6312 - val_accuracy: 0.4595\n",
      "Epoch 11/12\n",
      "313/313 [==============================] - 8s 25ms/step - loss: 71.9373 - accuracy: 0.4348 - val_loss: 90.6851 - val_accuracy: 0.4184\n",
      "Epoch 12/12\n",
      "313/313 [==============================] - 8s 25ms/step - loss: 112.2267 - accuracy: 0.4338 - val_loss: 100.3984 - val_accuracy: 0.4851\n",
      "Test loss: 99.34716033935547\n",
      "Test accuracy: 0.4828999936580658\n"
     ]
    }
   ],
   "source": [
    "dataset = CIFAR10Dataset()\n",
    "x_train, y_train, x_test, y_test = dataset.get_batch()\n",
    "\n",
    "model = network(dataset.image_shape, dataset.num_classes)\n",
    "trainer = Trainer(model, loss='categorical_crossentropy', optimizer=RMSprop())\n",
    "trainer.train(x_train, y_train, batch_size=128, epochs=12, validation_split=0.2)\n",
    "\n",
    "# show result\n",
    "score = model.evaluate(x_test, y_test, verbose=0)\n",
    "print('Test loss:', score[0])\n",
    "print('Test accuracy:', score[1])"
   ]
  },
  {
   "cell_type": "code",
   "execution_count": null,
   "metadata": {},
   "outputs": [],
   "source": []
  }
 ],
 "metadata": {
  "kernelspec": {
   "display_name": "pytorch-study",
   "language": "python",
   "name": "python3"
  },
  "language_info": {
   "codemirror_mode": {
    "name": "ipython",
    "version": 3
   },
   "file_extension": ".py",
   "mimetype": "text/x-python",
   "name": "python",
   "nbconvert_exporter": "python",
   "pygments_lexer": "ipython3",
   "version": "3.11.7"
  }
 },
 "nbformat": 4,
 "nbformat_minor": 2
}
