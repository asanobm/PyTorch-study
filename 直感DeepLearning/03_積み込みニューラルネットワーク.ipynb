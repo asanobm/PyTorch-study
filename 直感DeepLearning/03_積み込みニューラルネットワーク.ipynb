{
 "cells": [
  {
   "cell_type": "markdown",
   "metadata": {},
   "source": [
    "3.3. CIFAR-10 画像認識\n",
    "\n",
    "CIFAR-10 は、カナダのトロント大学が提供する、10種類の画像を分類するためのデータセットです。このデータセットは、32x32ピクセルのカラー画像 60,000枚で構成されています。そのうち、50,000枚が訓練用、10,000枚がテスト用になっています。画像は、飛行機、自動車、鳥、猫、鹿、犬、カエル、馬、船、トラックの10種類です。"
   ]
  },
  {
   "cell_type": "code",
   "execution_count": 33,
   "metadata": {},
   "outputs": [],
   "source": [
    "import os\n",
    "import keras\n",
    "\n",
    "from keras.models import Sequential\n",
    "\n",
    "from keras.layers import Conv2D, MaxPooling2D, Activation\n",
    "from keras.layers import Flatten, Dense, Dropout\n",
    "\n",
    "from keras.datasets import cifar10\n",
    "\n",
    "from keras.optimizers import RMSprop\n",
    "\n",
    "from keras.callbacks import TensorBoard, ModelCheckpoint\n"
   ]
  },
  {
   "cell_type": "code",
   "execution_count": 34,
   "metadata": {},
   "outputs": [],
   "source": [
    "# LeNet configuration\n",
    "\n",
    "def network(input_shape, num_classes):\n",
    "  model = Sequential()\n",
    "\n",
    "  model.add(Conv2D(32, (3, 3), padding='same', input_shape=input_shape, activation='relu'))\n",
    "  model.add(MaxPooling2D(pool_size=(2, 2)))\n",
    "  model.add(Conv2D(64, (3, 3), padding='same', activation='relu'))\n",
    "  model.add(MaxPooling2D(pool_size=(2, 2)))\n",
    "  model.add(Dropout(0.5))\n",
    "  model.add(Flatten())\n",
    "  model.add(Dense(512, activation='relu'))\n",
    "  model.add(Dropout(0.5))\n",
    "  model.add(Dense(num_classes, activation='softmax'))\n",
    "  return model"
   ]
  },
  {
   "cell_type": "code",
   "execution_count": 35,
   "metadata": {},
   "outputs": [],
   "source": [
    "class CIFAR10Dataset():\n",
    "  \"\"\"\n",
    "  CIFAR-10 dataset.\n",
    "  attributes:\n",
    "    - image_shape: image shape\n",
    "    - num_classes: number of classes\n",
    "  \"\"\"\n",
    "  def __init__(self):\n",
    "    self.image_shape = (32, 32, 3)\n",
    "    self.num_classes = 10\n",
    "\n",
    "  def get_batch(self):\n",
    "    (x_train, y_train), (x_test, y_test) = cifar10.load_data()\n",
    "\n",
    "    x_train = x_train.astype('float32')\n",
    "    x_test = x_test.astype('float32')\n",
    "\n",
    "    x_train /= 255\n",
    "    x_test /= 255\n",
    "\n",
    "    y_train = keras.utils.to_categorical(y_train, self.num_classes)\n",
    "    y_test = keras.utils.to_categorical(y_test, self.num_classes)\n",
    "\n",
    "    return x_train, y_train, x_test, y_test\n",
    "  \n",
    "  def preprocess(slef, data, label_data=False):\n",
    "    if label_data:\n",
    "      data = keras.utils.to_categorical(data, self.num_classes)\n",
    "    else:\n",
    "      data = data.astype('float32')\n",
    "      data /= 255\n",
    "      shape = (data.shape[0],) + self.image_shape\n",
    "      return data"
   ]
  },
  {
   "cell_type": "code",
   "execution_count": 36,
   "metadata": {},
   "outputs": [],
   "source": [
    "class Trainer():\n",
    "  def __init__(self, model, loss, optimizer):\n",
    "    self._target = model\n",
    "    self._target.compile(loss=loss, optimizer=optimizer, metrics=['accuracy'])\n",
    "    self.verbose = 1\n",
    "    self.log_dir = os.path.join(os.getcwd(), 'logdir')\n",
    "    \n",
    "    \n",
    "    self.model_file_name = 'model_file.hdf5'\n",
    "\n",
    "  def train(self, x_train, y_train, batch_size, epochs, validation_split):\n",
    "    if os.path.exists(self.log_dir):\n",
    "      import shutil\n",
    "      shutil.rmtree(self.log_dir)\n",
    "    os.mkdir(self.log_dir)\n",
    "\n",
    "    self._target.fit(\n",
    "      x_train, y_train,\n",
    "      batch_size=batch_size, epochs=epochs,\n",
    "      validation_split=validation_split,\n",
    "      callbacks=[\n",
    "        TensorBoard(log_dir=self.log_dir),\n",
    "        ModelCheckpoint(os.path.join(self.log_dir, self.model_file_name), save_best_only=True)\n",
    "      ],\n",
    "      verbose=self.verbose)"
   ]
  },
  {
   "cell_type": "code",
   "execution_count": 37,
   "metadata": {},
   "outputs": [
    {
     "name": "stdout",
     "output_type": "stream",
     "text": [
      "Downloading data from https://www.cs.toronto.edu/~kriz/cifar-10-python.tar.gz\n",
      "170498071/170498071 [==============================] - 26s 0us/step\n"
     ]
    },
    {
     "name": "stderr",
     "output_type": "stream",
     "text": [
      "2024-02-02 10:45:56.553153: I external/local_xla/xla/stream_executor/cuda/cuda_executor.cc:887] could not open file to read NUMA node: /sys/bus/pci/devices/0000:01:00.0/numa_node\n",
      "Your kernel may have been built without NUMA support.\n",
      "2024-02-02 10:45:56.554711: I external/local_xla/xla/stream_executor/cuda/cuda_executor.cc:887] could not open file to read NUMA node: /sys/bus/pci/devices/0000:01:00.0/numa_node\n",
      "Your kernel may have been built without NUMA support.\n",
      "2024-02-02 10:45:56.554736: I external/local_xla/xla/stream_executor/cuda/cuda_executor.cc:887] could not open file to read NUMA node: /sys/bus/pci/devices/0000:01:00.0/numa_node\n",
      "Your kernel may have been built without NUMA support.\n",
      "2024-02-02 10:45:56.557841: I external/local_xla/xla/stream_executor/cuda/cuda_executor.cc:887] could not open file to read NUMA node: /sys/bus/pci/devices/0000:01:00.0/numa_node\n",
      "Your kernel may have been built without NUMA support.\n",
      "2024-02-02 10:45:56.557861: I external/local_xla/xla/stream_executor/cuda/cuda_executor.cc:887] could not open file to read NUMA node: /sys/bus/pci/devices/0000:01:00.0/numa_node\n",
      "Your kernel may have been built without NUMA support.\n",
      "2024-02-02 10:45:56.557868: I external/local_xla/xla/stream_executor/cuda/cuda_executor.cc:887] could not open file to read NUMA node: /sys/bus/pci/devices/0000:01:00.0/numa_node\n",
      "Your kernel may have been built without NUMA support.\n",
      "2024-02-02 10:45:56.558362: I external/local_xla/xla/stream_executor/cuda/cuda_executor.cc:887] could not open file to read NUMA node: /sys/bus/pci/devices/0000:01:00.0/numa_node\n",
      "Your kernel may have been built without NUMA support.\n",
      "2024-02-02 10:45:56.558409: I external/local_xla/xla/stream_executor/cuda/cuda_executor.cc:887] could not open file to read NUMA node: /sys/bus/pci/devices/0000:01:00.0/numa_node\n",
      "Your kernel may have been built without NUMA support.\n",
      "2024-02-02 10:45:56.558416: I tensorflow/core/common_runtime/gpu/gpu_device.cc:2022] Could not identify NUMA node of platform GPU id 0, defaulting to 0.  Your kernel may not have been built with NUMA support.\n",
      "2024-02-02 10:45:56.558430: I external/local_xla/xla/stream_executor/cuda/cuda_executor.cc:887] could not open file to read NUMA node: /sys/bus/pci/devices/0000:01:00.0/numa_node\n",
      "Your kernel may have been built without NUMA support.\n",
      "2024-02-02 10:45:56.558459: I tensorflow/core/common_runtime/gpu/gpu_device.cc:1929] Created device /job:localhost/replica:0/task:0/device:GPU:0 with 20692 MB memory:  -> device: 0, name: NVIDIA GeForce RTX 4090, pci bus id: 0000:01:00.0, compute capability: 8.9\n"
     ]
    },
    {
     "name": "stdout",
     "output_type": "stream",
     "text": [
      "Epoch 1/12\n"
     ]
    },
    {
     "name": "stderr",
     "output_type": "stream",
     "text": [
      "2024-02-02 10:45:59.676155: E tensorflow/core/grappler/optimizers/meta_optimizer.cc:961] layout failed: INVALID_ARGUMENT: Size of values 0 does not match size of permutation 4 @ fanin shape insequential/dropout/dropout/SelectV2-2-TransposeNHWCToNCHW-LayoutOptimizer\n",
      "2024-02-02 10:46:00.803206: I external/local_xla/xla/stream_executor/cuda/cuda_dnn.cc:454] Loaded cuDNN version 8902\n",
      "2024-02-02 10:46:02.562755: I external/local_xla/xla/service/service.cc:168] XLA service 0x7f1de4028710 initialized for platform CUDA (this does not guarantee that XLA will be used). Devices:\n",
      "2024-02-02 10:46:02.562782: I external/local_xla/xla/service/service.cc:176]   StreamExecutor device (0): NVIDIA GeForce RTX 4090, Compute Capability 8.9\n",
      "2024-02-02 10:46:02.568600: I tensorflow/compiler/mlir/tensorflow/utils/dump_mlir_util.cc:269] disabling MLIR crash reproducer, set env var `MLIR_CRASH_REPRODUCER_DIRECTORY` to enable.\n",
      "WARNING: All log messages before absl::InitializeLog() is called are written to STDERR\n",
      "I0000 00:00:1706838362.607428   28437 device_compiler.h:186] Compiled cluster using XLA!  This line is logged at most once for the lifetime of the process.\n"
     ]
    },
    {
     "name": "stdout",
     "output_type": "stream",
     "text": [
      "313/313 [==============================] - 7s 6ms/step - loss: 1.7325 - accuracy: 0.3753 - val_loss: 1.3956 - val_accuracy: 0.5027\n",
      "Epoch 2/12\n",
      " 44/313 [===>..........................] - ETA: 0s - loss: 1.4411 - accuracy: 0.4846"
     ]
    },
    {
     "name": "stderr",
     "output_type": "stream",
     "text": [
      "/home/asanobm/miniforge3/envs/ai/lib/python3.11/site-packages/keras/src/engine/training.py:3103: UserWarning: You are saving your model as an HDF5 file via `model.save()`. This file format is considered legacy. We recommend using instead the native Keras format, e.g. `model.save('my_model.keras')`.\n",
      "  saving_api.save_model(\n"
     ]
    },
    {
     "name": "stdout",
     "output_type": "stream",
     "text": [
      "313/313 [==============================] - 1s 4ms/step - loss: 1.3721 - accuracy: 0.5099 - val_loss: 1.2178 - val_accuracy: 0.5807\n",
      "Epoch 3/12\n",
      "313/313 [==============================] - 1s 4ms/step - loss: 1.2174 - accuracy: 0.5726 - val_loss: 1.1853 - val_accuracy: 0.5974\n",
      "Epoch 4/12\n",
      "313/313 [==============================] - 1s 5ms/step - loss: 1.1154 - accuracy: 0.6071 - val_loss: 1.0855 - val_accuracy: 0.6254\n",
      "Epoch 5/12\n",
      "313/313 [==============================] - 1s 5ms/step - loss: 1.0397 - accuracy: 0.6324 - val_loss: 0.9932 - val_accuracy: 0.6484\n",
      "Epoch 6/12\n",
      "313/313 [==============================] - 1s 4ms/step - loss: 0.9803 - accuracy: 0.6563 - val_loss: 1.1114 - val_accuracy: 0.6037\n",
      "Epoch 7/12\n",
      "313/313 [==============================] - 1s 5ms/step - loss: 0.9362 - accuracy: 0.6720 - val_loss: 0.9068 - val_accuracy: 0.6857\n",
      "Epoch 8/12\n",
      "313/313 [==============================] - 1s 4ms/step - loss: 0.8946 - accuracy: 0.6867 - val_loss: 0.9618 - val_accuracy: 0.6653\n",
      "Epoch 9/12\n",
      "313/313 [==============================] - 1s 4ms/step - loss: 0.8575 - accuracy: 0.7032 - val_loss: 0.8410 - val_accuracy: 0.7087\n",
      "Epoch 10/12\n",
      "313/313 [==============================] - 1s 4ms/step - loss: 0.8302 - accuracy: 0.7103 - val_loss: 0.8731 - val_accuracy: 0.6987\n",
      "Epoch 11/12\n",
      "313/313 [==============================] - 1s 5ms/step - loss: 0.7929 - accuracy: 0.7227 - val_loss: 0.8110 - val_accuracy: 0.7245\n",
      "Epoch 12/12\n",
      "313/313 [==============================] - 1s 5ms/step - loss: 0.7640 - accuracy: 0.7319 - val_loss: 0.7886 - val_accuracy: 0.7291\n",
      "Test loss: 0.7863341569900513\n",
      "Test accuracy: 0.7296000123023987\n"
     ]
    }
   ],
   "source": [
    "dataset = CIFAR10Dataset()\n",
    "x_train, y_train, x_test, y_test = dataset.get_batch()\n",
    "\n",
    "model = network(dataset.image_shape, dataset.num_classes)\n",
    "trainer = Trainer(model, loss='categorical_crossentropy', optimizer=RMSprop())\n",
    "trainer.train(x_train, y_train, batch_size=128, epochs=12, validation_split=0.2)\n",
    "\n",
    "# show result\n",
    "score = model.evaluate(x_test, y_test, verbose=0)\n",
    "print('Test loss:', score[0])\n",
    "print('Test accuracy:', score[1])"
   ]
  },
  {
   "cell_type": "markdown",
   "metadata": {},
   "source": [
    "参考書と同じコードだと思うが、結果が大違いだ！"
   ]
  },
  {
   "cell_type": "code",
   "execution_count": 38,
   "metadata": {},
   "outputs": [],
   "source": [
    "# check tensorboard\n",
    "# !tensorboard --logdir=logdir"
   ]
  },
  {
   "cell_type": "markdown",
   "metadata": {},
   "source": [
    "**ネットワークをもっと深くすることによる改善**"
   ]
  },
  {
   "cell_type": "code",
   "execution_count": 39,
   "metadata": {},
   "outputs": [],
   "source": [
    "# LeNet configuration\n",
    "\n",
    "def network(input_shape, num_classes):\n",
    "  model = Sequential()\n",
    "\n",
    "  model.add(Conv2D(32, (3, 3), padding='same', input_shape=input_shape, activation='relu'))\n",
    "  model.add(Conv2D(32, (3, 3), padding='same', activation='relu'))\n",
    "  model.add(MaxPooling2D(pool_size=(2, 2)))\n",
    "  model.add(Dropout(0.25))\n",
    "  model.add(Conv2D(64, (3, 3), padding='same', activation='relu'))\n",
    "  model.add(Conv2D(64, (3, 3), activation='relu'))\n",
    "  model.add(MaxPooling2D(pool_size=(2, 2)))\n",
    "  model.add(Dropout(0.5))\n",
    "  model.add(Flatten())\n",
    "  model.add(Dense(512, activation='relu'))\n",
    "  model.add(Dropout(0.5))\n",
    "  model.add(Dense(num_classes, activation='softmax'))\n",
    "  return model"
   ]
  },
  {
   "cell_type": "code",
   "execution_count": 40,
   "metadata": {},
   "outputs": [
    {
     "name": "stdout",
     "output_type": "stream",
     "text": [
      "Epoch 1/12\n",
      "313/313 [==============================] - 3s 6ms/step - loss: 1.8644 - accuracy: 0.3211 - val_loss: 1.4696 - val_accuracy: 0.4587\n",
      "Epoch 2/12\n",
      "313/313 [==============================] - 2s 5ms/step - loss: 1.4342 - accuracy: 0.4867 - val_loss: 1.2785 - val_accuracy: 0.5337\n",
      "Epoch 3/12\n",
      "313/313 [==============================] - 2s 5ms/step - loss: 1.2290 - accuracy: 0.5642 - val_loss: 1.0850 - val_accuracy: 0.6102\n",
      "Epoch 4/12\n",
      "313/313 [==============================] - 2s 5ms/step - loss: 1.1114 - accuracy: 0.6045 - val_loss: 0.9798 - val_accuracy: 0.6455\n",
      "Epoch 5/12\n",
      "313/313 [==============================] - 2s 5ms/step - loss: 1.0154 - accuracy: 0.6425 - val_loss: 1.1113 - val_accuracy: 0.6253\n",
      "Epoch 6/12\n",
      "313/313 [==============================] - 2s 5ms/step - loss: 0.9447 - accuracy: 0.6698 - val_loss: 0.9162 - val_accuracy: 0.6712\n",
      "Epoch 7/12\n",
      "313/313 [==============================] - 2s 5ms/step - loss: 0.8891 - accuracy: 0.6864 - val_loss: 0.7770 - val_accuracy: 0.7311\n",
      "Epoch 8/12\n",
      "313/313 [==============================] - 2s 5ms/step - loss: 0.8406 - accuracy: 0.7049 - val_loss: 0.7784 - val_accuracy: 0.7298\n",
      "Epoch 9/12\n",
      "313/313 [==============================] - 2s 5ms/step - loss: 0.7914 - accuracy: 0.7222 - val_loss: 0.8171 - val_accuracy: 0.7117\n",
      "Epoch 10/12\n",
      "313/313 [==============================] - 2s 5ms/step - loss: 0.7640 - accuracy: 0.7332 - val_loss: 0.7610 - val_accuracy: 0.7377\n",
      "Epoch 11/12\n",
      "313/313 [==============================] - 2s 5ms/step - loss: 0.7311 - accuracy: 0.7426 - val_loss: 0.7299 - val_accuracy: 0.7444\n",
      "Epoch 12/12\n",
      "313/313 [==============================] - 2s 5ms/step - loss: 0.7063 - accuracy: 0.7553 - val_loss: 0.6700 - val_accuracy: 0.7659\n",
      "Test loss: 0.6960493326187134\n",
      "Test accuracy: 0.7573999762535095\n"
     ]
    }
   ],
   "source": [
    "dataset = CIFAR10Dataset()\n",
    "x_train, y_train, x_test, y_test = dataset.get_batch()\n",
    "\n",
    "model = network(dataset.image_shape, dataset.num_classes)\n",
    "trainer = Trainer(model, loss='categorical_crossentropy', optimizer=RMSprop())\n",
    "trainer.train(x_train, y_train, batch_size=128, epochs=12, validation_split=0.2)\n",
    "\n",
    "# show result\n",
    "score = model.evaluate(x_test, y_test, verbose=0)\n",
    "print('Test loss:', score[0])\n",
    "print('Test accuracy:', score[1])"
   ]
  },
  {
   "cell_type": "code",
   "execution_count": null,
   "metadata": {},
   "outputs": [],
   "source": []
  }
 ],
 "metadata": {
  "kernelspec": {
   "display_name": "Python 3 (ipykernel)",
   "language": "python",
   "name": "python3"
  },
  "language_info": {
   "codemirror_mode": {
    "name": "ipython",
    "version": 3
   },
   "file_extension": ".py",
   "mimetype": "text/x-python",
   "name": "python",
   "nbconvert_exporter": "python",
   "pygments_lexer": "ipython3",
   "version": "3.11.0"
  }
 },
 "nbformat": 4,
 "nbformat_minor": 2
}
