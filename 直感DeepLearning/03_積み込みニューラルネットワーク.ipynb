{
 "cells": [
  {
   "cell_type": "markdown",
   "metadata": {},
   "source": [
    "3.3. CIFAR-10 画像認識\n",
    "\n",
    "CIFAR-10 は、カナダのトロント大学が提供する、10種類の画像を分類するためのデータセットです。このデータセットは、32x32ピクセルのカラー画像 60,000枚で構成されています。そのうち、50,000枚が訓練用、10,000枚がテスト用になっています。画像は、飛行機、自動車、鳥、猫、鹿、犬、カエル、馬、船、トラックの10種類です。"
   ]
  },
  {
   "cell_type": "code",
   "execution_count": 15,
   "metadata": {
    "ExecuteTime": {
     "end_time": "2024-02-07T06:57:06.732398340Z",
     "start_time": "2024-02-07T06:57:06.730877167Z"
    }
   },
   "outputs": [],
   "source": [
    "import os\n",
    "import keras\n",
    "\n",
    "from keras.models import Sequential\n",
    "\n",
    "from keras.layers import Conv2D, MaxPooling2D, Activation\n",
    "from keras.layers import Flatten, Dense, Dropout\n",
    "\n",
    "from keras.datasets import cifar10\n",
    "\n",
    "from keras.optimizers import RMSprop\n",
    "\n",
    "from keras.callbacks import TensorBoard, ModelCheckpoint\n"
   ]
  },
  {
   "cell_type": "code",
   "execution_count": 16,
   "metadata": {
    "ExecuteTime": {
     "end_time": "2024-02-07T06:57:06.735852907Z",
     "start_time": "2024-02-07T06:57:06.734269132Z"
    }
   },
   "outputs": [],
   "source": [
    "# LeNet configuration\n",
    "\n",
    "def network(input_shape, num_classes):\n",
    "  model = Sequential()\n",
    "\n",
    "  model.add(Conv2D(32, (3, 3), padding='same', input_shape=input_shape, activation='relu'))\n",
    "  model.add(MaxPooling2D(pool_size=(2, 2)))\n",
    "  model.add(Conv2D(64, (3, 3), padding='same', activation='relu'))\n",
    "  model.add(MaxPooling2D(pool_size=(2, 2)))\n",
    "  model.add(Dropout(0.5))\n",
    "  model.add(Flatten())\n",
    "  model.add(Dense(512, activation='relu'))\n",
    "  model.add(Dropout(0.5))\n",
    "  model.add(Dense(num_classes, activation='softmax'))\n",
    "  return model"
   ]
  },
  {
   "cell_type": "code",
   "execution_count": 17,
   "metadata": {
    "ExecuteTime": {
     "end_time": "2024-02-07T06:57:06.784260794Z",
     "start_time": "2024-02-07T06:57:06.737919139Z"
    }
   },
   "outputs": [],
   "source": [
    "class CIFAR10Dataset():\n",
    "  \"\"\"\n",
    "  CIFAR-10 dataset.\n",
    "  attributes:\n",
    "    - image_shape: image shape\n",
    "    - num_classes: number of classes\n",
    "  \"\"\"\n",
    "  def __init__(self):\n",
    "    self.image_shape = (32, 32, 3)\n",
    "    self.num_classes = 10\n",
    "\n",
    "  def get_batch(self):\n",
    "    (x_train, y_train), (x_test, y_test) = cifar10.load_data()\n",
    "\n",
    "    x_train = x_train.astype('float32')\n",
    "    x_test = x_test.astype('float32')\n",
    "\n",
    "    x_train /= 255\n",
    "    x_test /= 255\n",
    "\n",
    "    y_train = keras.utils.to_categorical(y_train, self.num_classes)\n",
    "    y_test = keras.utils.to_categorical(y_test, self.num_classes)\n",
    "\n",
    "    return x_train, y_train, x_test, y_test\n",
    "  \n",
    "  def preprocess(slef, data, label_data=False):\n",
    "    if label_data:\n",
    "      data = keras.utils.to_categorical(data, self.num_classes)\n",
    "    else:\n",
    "      data = data.astype('float32')\n",
    "      data /= 255\n",
    "      shape = (data.shape[0],) + self.image_shape\n",
    "      return data"
   ]
  },
  {
   "cell_type": "code",
   "execution_count": 18,
   "metadata": {
    "ExecuteTime": {
     "end_time": "2024-02-07T06:57:06.785063106Z",
     "start_time": "2024-02-07T06:57:06.784065075Z"
    }
   },
   "outputs": [],
   "source": [
    "class Trainer():\n",
    "  def __init__(self, model, loss, optimizer):\n",
    "    self._target = model\n",
    "    self._target.compile(loss=loss, optimizer=optimizer, metrics=['accuracy'])\n",
    "    self.verbose = 1\n",
    "    self.log_dir = os.path.join(os.getcwd(), 'logdir')\n",
    "    \n",
    "    \n",
    "    self.model_file_name = 'model_file.hdf5'\n",
    "\n",
    "  def train(self, x_train, y_train, batch_size, epochs, validation_split):\n",
    "    if os.path.exists(self.log_dir):\n",
    "      import shutil\n",
    "      shutil.rmtree(self.log_dir)\n",
    "    os.mkdir(self.log_dir)\n",
    "\n",
    "    self._target.fit(\n",
    "      x_train, y_train,\n",
    "      batch_size=batch_size, epochs=epochs,\n",
    "      validation_split=validation_split,\n",
    "      callbacks=[\n",
    "        TensorBoard(log_dir=self.log_dir),\n",
    "        ModelCheckpoint(os.path.join(self.log_dir, self.model_file_name), save_best_only=True)\n",
    "      ],\n",
    "      verbose=self.verbose)"
   ]
  },
  {
   "cell_type": "code",
   "execution_count": 19,
   "metadata": {
    "ExecuteTime": {
     "end_time": "2024-02-07T06:57:50.649228164Z",
     "start_time": "2024-02-07T06:57:06.784269252Z"
    }
   },
   "outputs": [
    {
     "name": "stdout",
     "output_type": "stream",
     "text": [
      "Epoch 1/12\n",
      "313/313 [==============================] - 2s 6ms/step - loss: 1.7606 - accuracy: 0.3611 - val_loss: 1.5824 - val_accuracy: 0.4140\n",
      "Epoch 2/12\n",
      "313/313 [==============================] - 1s 5ms/step - loss: 1.3881 - accuracy: 0.5060 - val_loss: 1.2723 - val_accuracy: 0.5449\n",
      "Epoch 3/12\n",
      "313/313 [==============================] - 2s 5ms/step - loss: 1.2322 - accuracy: 0.5622 - val_loss: 1.2537 - val_accuracy: 0.5637\n",
      "Epoch 4/12\n",
      "313/313 [==============================] - 2s 5ms/step - loss: 1.1372 - accuracy: 0.5978 - val_loss: 1.0958 - val_accuracy: 0.6258\n",
      "Epoch 5/12\n",
      "313/313 [==============================] - 2s 5ms/step - loss: 1.0639 - accuracy: 0.6263 - val_loss: 1.0067 - val_accuracy: 0.6512\n",
      "Epoch 6/12\n",
      "313/313 [==============================] - 1s 5ms/step - loss: 1.0051 - accuracy: 0.6468 - val_loss: 0.9594 - val_accuracy: 0.6634\n",
      "Epoch 7/12\n",
      "313/313 [==============================] - 2s 5ms/step - loss: 0.9580 - accuracy: 0.6628 - val_loss: 0.9594 - val_accuracy: 0.6684\n",
      "Epoch 8/12\n",
      "313/313 [==============================] - 2s 5ms/step - loss: 0.9155 - accuracy: 0.6801 - val_loss: 0.8984 - val_accuracy: 0.6924\n",
      "Epoch 9/12\n",
      "313/313 [==============================] - 2s 5ms/step - loss: 0.8788 - accuracy: 0.6927 - val_loss: 0.8647 - val_accuracy: 0.6992\n",
      "Epoch 10/12\n",
      "313/313 [==============================] - 2s 5ms/step - loss: 0.8449 - accuracy: 0.7063 - val_loss: 0.8713 - val_accuracy: 0.7050\n",
      "Epoch 11/12\n",
      "313/313 [==============================] - 2s 5ms/step - loss: 0.8142 - accuracy: 0.7134 - val_loss: 0.8316 - val_accuracy: 0.7187\n",
      "Epoch 12/12\n",
      "313/313 [==============================] - 1s 5ms/step - loss: 0.7875 - accuracy: 0.7229 - val_loss: 0.8460 - val_accuracy: 0.7157\n",
      "Test loss: 0.853747546672821\n",
      "Test accuracy: 0.7064999938011169\n"
     ]
    }
   ],
   "source": [
    "dataset = CIFAR10Dataset()\n",
    "x_train, y_train, x_test, y_test = dataset.get_batch()\n",
    "\n",
    "model = network(dataset.image_shape, dataset.num_classes)\n",
    "trainer = Trainer(model, loss='categorical_crossentropy', optimizer=RMSprop())\n",
    "trainer.train(x_train, y_train, batch_size=128, epochs=12, validation_split=0.2)\n",
    "\n",
    "# show result\n",
    "score = model.evaluate(x_test, y_test, verbose=0)\n",
    "print('Test loss:', score[0])\n",
    "print('Test accuracy:', score[1])"
   ]
  },
  {
   "cell_type": "markdown",
   "metadata": {},
   "source": [
    "参考書と同じコードだと思うが、結果が大違いだ！"
   ]
  },
  {
   "cell_type": "code",
   "execution_count": 20,
   "metadata": {
    "ExecuteTime": {
     "end_time": "2024-02-07T06:57:50.649783446Z",
     "start_time": "2024-02-07T06:57:29.138332205Z"
    }
   },
   "outputs": [],
   "source": [
    "# check tensorboard\n",
    "# !tensorboard --logdir=logdir"
   ]
  },
  {
   "cell_type": "markdown",
   "metadata": {},
   "source": [
    "**ネットワークをもっと深くすることによる改善**"
   ]
  },
  {
   "cell_type": "code",
   "execution_count": 21,
   "metadata": {
    "ExecuteTime": {
     "end_time": "2024-02-07T06:57:50.650079318Z",
     "start_time": "2024-02-07T06:57:29.141431168Z"
    }
   },
   "outputs": [],
   "source": [
    "# LeNet configuration\n",
    "\n",
    "def network(input_shape, num_classes):\n",
    "  model = Sequential()\n",
    "\n",
    "  model.add(Conv2D(32, (3, 3), padding='same', input_shape=input_shape, activation='relu'))\n",
    "  model.add(Conv2D(32, (3, 3), padding='same', activation='relu'))\n",
    "  model.add(MaxPooling2D(pool_size=(2, 2)))\n",
    "  model.add(Dropout(0.25))\n",
    "  model.add(Conv2D(64, (3, 3), padding='same', activation='relu'))\n",
    "  model.add(Conv2D(64, (3, 3), activation='relu'))\n",
    "  model.add(MaxPooling2D(pool_size=(2, 2)))\n",
    "  model.add(Dropout(0.5))\n",
    "  model.add(Flatten())\n",
    "  model.add(Dense(512, activation='relu'))\n",
    "  model.add(Dropout(0.5))\n",
    "  model.add(Dense(num_classes, activation='softmax'))\n",
    "  return model"
   ]
  },
  {
   "cell_type": "code",
   "execution_count": 22,
   "metadata": {
    "ExecuteTime": {
     "end_time": "2024-02-07T06:57:52.571386951Z",
     "start_time": "2024-02-07T06:57:29.149926537Z"
    }
   },
   "outputs": [
    {
     "name": "stdout",
     "output_type": "stream",
     "text": [
      "Epoch 1/12\n"
     ]
    },
    {
     "name": "stderr",
     "output_type": "stream",
     "text": [
      "2024-02-07 15:57:31.613924: E tensorflow/core/grappler/optimizers/meta_optimizer.cc:961] layout failed: INVALID_ARGUMENT: Size of values 0 does not match size of permutation 4 @ fanin shape insequential_4/dropout_9/dropout/SelectV2-2-TransposeNHWCToNCHW-LayoutOptimizer\n"
     ]
    },
    {
     "name": "stdout",
     "output_type": "stream",
     "text": [
      "313/313 [==============================] - 2s 6ms/step - loss: 1.8431 - accuracy: 0.3327 - val_loss: 1.6507 - val_accuracy: 0.4204\n",
      "Epoch 2/12\n",
      "313/313 [==============================] - 2s 5ms/step - loss: 1.4255 - accuracy: 0.4902 - val_loss: 1.2419 - val_accuracy: 0.5583\n",
      "Epoch 3/12\n",
      "313/313 [==============================] - 2s 5ms/step - loss: 1.2176 - accuracy: 0.5648 - val_loss: 1.1780 - val_accuracy: 0.5745\n",
      "Epoch 4/12\n",
      "313/313 [==============================] - 2s 5ms/step - loss: 1.0982 - accuracy: 0.6108 - val_loss: 0.9344 - val_accuracy: 0.6708\n",
      "Epoch 5/12\n",
      "313/313 [==============================] - 2s 5ms/step - loss: 1.0054 - accuracy: 0.6457 - val_loss: 0.8630 - val_accuracy: 0.6944\n",
      "Epoch 6/12\n",
      "313/313 [==============================] - 2s 5ms/step - loss: 0.9356 - accuracy: 0.6709 - val_loss: 0.8825 - val_accuracy: 0.6901\n",
      "Epoch 7/12\n",
      "313/313 [==============================] - 2s 5ms/step - loss: 0.8719 - accuracy: 0.6941 - val_loss: 0.8475 - val_accuracy: 0.7016\n",
      "Epoch 8/12\n",
      "313/313 [==============================] - 2s 5ms/step - loss: 0.8289 - accuracy: 0.7072 - val_loss: 0.8619 - val_accuracy: 0.7045\n",
      "Epoch 9/12\n",
      "313/313 [==============================] - 2s 5ms/step - loss: 0.7874 - accuracy: 0.7247 - val_loss: 0.7095 - val_accuracy: 0.7569\n",
      "Epoch 10/12\n",
      "313/313 [==============================] - 2s 5ms/step - loss: 0.7571 - accuracy: 0.7360 - val_loss: 0.7096 - val_accuracy: 0.7549\n",
      "Epoch 11/12\n",
      "313/313 [==============================] - 2s 5ms/step - loss: 0.7206 - accuracy: 0.7493 - val_loss: 0.7301 - val_accuracy: 0.7476\n",
      "Epoch 12/12\n",
      "313/313 [==============================] - 2s 5ms/step - loss: 0.6967 - accuracy: 0.7565 - val_loss: 0.7130 - val_accuracy: 0.7537\n",
      "Test loss: 0.7218886017799377\n",
      "Test accuracy: 0.746999979019165\n"
     ]
    }
   ],
   "source": [
    "dataset = CIFAR10Dataset()\n",
    "x_train, y_train, x_test, y_test = dataset.get_batch()\n",
    "\n",
    "model = network(dataset.image_shape, dataset.num_classes)\n",
    "trainer = Trainer(model, loss='categorical_crossentropy', optimizer=RMSprop())\n",
    "trainer.train(x_train, y_train, batch_size=128, epochs=12, validation_split=0.2)\n",
    "\n",
    "# show result\n",
    "score = model.evaluate(x_test, y_test, verbose=0)\n",
    "print('Test loss:', score[0])\n",
    "print('Test accuracy:', score[1])"
   ]
  },
  {
   "cell_type": "code",
   "execution_count": 22,
   "metadata": {
    "ExecuteTime": {
     "end_time": "2024-02-07T06:57:52.573031395Z",
     "start_time": "2024-02-07T06:57:52.571739120Z"
    }
   },
   "outputs": [],
   "source": []
  }
 ],
 "metadata": {
  "kernelspec": {
   "display_name": "Python 3 (ipykernel)",
   "language": "python",
   "name": "python3"
  },
  "language_info": {
   "codemirror_mode": {
    "name": "ipython",
    "version": 3
   },
   "file_extension": ".py",
   "mimetype": "text/x-python",
   "name": "python",
   "nbconvert_exporter": "python",
   "pygments_lexer": "ipython3",
   "version": "3.11.0"
  }
 },
 "nbformat": 4,
 "nbformat_minor": 2
}
