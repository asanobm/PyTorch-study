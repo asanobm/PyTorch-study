{
 "cells": [
  {
   "cell_type": "markdown",
   "metadata": {},
   "source": [
    "# 4. 좋은 훈련 데이터셋 만들기:파이토치\n",
    "\n",
    "* 누락된 데이터 다루기\n",
    "* 범주형 데이터 다루기\n",
    "* 데이터셋을 훈련 데이터셋과 테스트 데이터셋으로 나누기\n",
    "* 특성 스케일 맞추기\n",
    "* 유용한 특성 선택하기\n",
    "* 랜덤 포레스트 특성 중요도 사용\n",
    "..."
   ]
  },
  {
   "cell_type": "markdown",
   "metadata": {},
   "source": []
  }
 ],
 "metadata": {
  "language_info": {
   "name": "python"
  }
 },
 "nbformat": 4,
 "nbformat_minor": 2
}
