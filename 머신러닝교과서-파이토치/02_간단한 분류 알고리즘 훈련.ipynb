{
 "cells": [
  {
   "cell_type": "markdown",
   "metadata": {},
   "source": [
    "# 간단한 분류 알고리즘 훈련\n",
    "\n",
    "**목차**\n",
    "* 2.1. 인공 뉴런: 초기 머신 러닝의 간단한 역사\n",
    "* 2.2. 파이썬으로 퍼셉트론 하습 알고리즘 구현\n",
    "* 2.2. 적응형 선형 뉴런과 학습의 수렴\n",
    "\n",
    "**주제**\n",
    "* 머신러닝의 알고리즘을 직관적으로 이해하기\n",
    "* 판다스, 넘파이, 맷플롯립을 사용하여 데이터를 다루는 방법을 익히기\n",
    "* 파이썬으로 선형 분류 알고리즘을 구현하기"
   ]
  },
  {
   "cell_type": "markdown",
   "metadata": {},
   "source": [
    "2.1 인공 뉴런: 초기 머신 러닝의 간단한 역사\n",
    "\n",
    "1943년 워렌 맥컬록과 월터 피츠는 인공지능 설계를 위해 뇌의 동작 방식을 이해하려는 첫 시도로 간소화된 뇌의 뉴런 개념, 즉 맥컬록-피츠 뉴런을 발표했습니다. 이들은 뉴런을 이진 출력을 내는 간단한 논리 회로로 표현했습니다. 수상 돌기에 도착하는 여러 신호가 세포체에서 합쳐지고, 이 합쳐진 신호가 특정 임계값을 넘으면 출력 신호가 생성되어 축삭 돌기를 통해 전달됩니다.\n",
    "\n",
    "프랑크 로젠블라트는 이 맥컬록-피츠 뉴런 모델을 기반으로 퍼셉트론 학습 개념을 발표했습니다. 로젠블라트는 퍼셉트론 규칙에서 자동으로 최적의 가중치를 학습하는 알고리즘을 제안했습니다. 이 가중치는 뉴런의 출력 신호를 결정하기 위해 입력 특성에 곱하는 계수로, 이 알고리즘을 사용하면 새로운 데이터 포인트가 한 클래스에 속하는지 아닌지를 예측할 수 있습니다."
   ]
  },
  {
   "cell_type": "markdown",
   "metadata": {},
   "source": [
    "### 2.1.1 인공뉴런의 수학적 정의\n",
    "\n",
    "퍼셉트론은 간단한 선형 이진 분류 알고리즘이다. 입력값과 가중치의 선형 조합을 계산하여 결과를 출력한다. 이 결과는 임계 함수를 적용하여 결정된다.\n",
    "\n",
    "$$\n",
    "w = \\begin{bmatrix} w_1 \\\\ w_2 \\\\ w_3 \\\\ ... \\\\ w_m \\end{bmatrix}, x = \\begin{bmatrix} x_1 \\\\ x_2 \\\\ x_3 \\\\ ... \\\\ x_m \\end{bmatrix}\n",
    "$$\n",
    "\n",
    "퍼셉트론 알고리즘은 결정함수$\\phi(z)$를 정의한다. 이 함수는 가중치의 선형 조합을 계산한 후 임계 함수를 적용하여 결과를 출력한다.\n",
    "\n",
    "$$\n",
    "\\phi(z) = \\begin{cases} 1 & \\text{if } z \\geq \\theta \\\\ -1 & \\text{otherwise} \\end{cases}\n",
    "$$"
   ]
  },
  {
   "cell_type": "markdown",
   "metadata": {},
   "source": [
    "### 2.1.2 퍼셉트론의 학습 규칙\n",
    "\n",
    "MCP 뉴런과 퍼셉트론의 차이점은 가중치를 자동으로 학습하는 능력이다. 이를 위해 로젠블라트는 학습 규칙을 제안했다. 이 규칙은 뉴런의 가중치를 조정하여 오분류된 표본을 올바르게 분류할 수 있도록 한다.\n",
    "\n",
    "1. 가중치를 0 또는 작은 랜덤한 수로 초기화한다.\n",
    "2. 각 훈련 샘플 $x^{(i)}$마다 다음을 수행한다.\n",
    "    1. 출력값 $\\hat{y}$를 계산한다.\n",
    "    2. 가중치를 업데이트한다.\n",
    "\n",
    "여기서 출력값은 계단 함수로 예측한 클래스 레이블이다. 가중치 벡터$w$에 있는 개발 가중치$w_{j}$를 업데이트하는 규칙은 다음과 같다.\n",
    "$$\n",
    "w_{j} := w_{j} + \\Delta w_{j}\\\\\n",
    "그리고 \\Delta w_{j} = \\eta(y^{(i)} - \\hat{y}^{(i)})x_{j}^{(i)}\n",
    "$$\n",
    "\n",
    "업데디트값(\"델타\")의 계산\n",
    "\n",
    "$$\n",
    "\\Delta w_{j} = \\eta(y^{(i)} - \\hat{y}^{(i)})x_{j}^{(i)} \\\\\n",
    "그리고 \\Delta w_{j} = \\eta(y^{(i)} - \\hat{y}^{(i)})\n",
    "$$\n",
    "\n",
    "* 절편 유닛과 달리 각 가중치$w_{j}$는 데이터셋에 있는 특성 $x_{j}$에 대응한다. 이 특성은 $\\Delta w_{j}$를 결정하는데 사용된다.\n",
    "* $\\eta$는 학습률이다. 이 값은 0과 1사이의 실수이다.\n",
    "* $\\hat{y}^{(i)}$는 가중치를 사용하여 계산한 출력이다.\n",
    "* $y^{(i)}$는 실제 클래스 레이블이다.\n",
    "\n",
    "2차원 데이터셋에서 업데이트 방법\n",
    "\n",
    "$$\n",
    "\\Delta w_{1} = \\eta(y^{(i)} - output^{(i)})x_{1}^{(i)} \\\\\n",
    "\\Delta w_{2} = \\eta(y^{(i)} - output^{(i)})x_{2}^{(i)} \\\\\n",
    "\\Delta b = \\eta(y^{(i)} - output^{(i)})\n",
    "$$\n",
    "\n",
    "**간단한 사고 실험**\n",
    "\n",
    "퍼셉트론이 클래스 레이블을 정확히 예측한 두 경우는 가중치와 절편 유닛이 변경되지 않는다.\n",
    "\n",
    "$$\n",
    "(1) y^{(i)} = 0, \\Delta w_{j} = \\eta(0 - 0)x_{j}^{(i)} = 0, \\Delta b = \\eta(0 - 0) = 0\n",
    "$$\n",
    "$$\n",
    "(2) y^{(i)} = 1, \\Delta w_{j} = \\eta(1 - 1)x_{j}^{(i)} = 0, \\Delta b = \\eta(1 - 1) = 0\n",
    "$$\n",
    "\n",
    "퍼셉트론이 잘못된 클래스 레이블을 예측한 경우에는 가중치가 조정된다. 예를 들어, 양성 클래스 레이블 $y^{(i)} = 1$인데 퍼셉트론이 음성 클래스 레이블 $output^{(i)} = -1$을 출력했다고 가정하자. 이 경우에는 가중치가 증가한다.\n",
    "\n",
    "$$\n",
    "(3) y^{(i)} = 1, \\hat{y}^{(i)} = 0, \\Delta w_{j} = \\eta(1 - 0)x_{j}^{(i)} = \\eta x_{j}^{(i)}, \\Delta b = \\eta(1 - 0) = \\eta\n",
    "$$\n",
    "$$\n",
    "(4) y^{(i)} = 0, \\hat{y}^{(i)} = 1, \\Delta w_{j} = \\eta(0 - 1)x_{j}^{(i)} = -\\eta x_{j}^{(i)}, \\Delta b = \\eta(0 - 1) = -\\eta\n",
    "$$\n",
    "\n",
    "퍼셉트론은 두 클래스가 선형적으로 구분될 수 있을 때 수렴한다. "
   ]
  },
  {
   "cell_type": "markdown",
   "metadata": {},
   "source": [
    "## 2.2 파이썬으로 퍼셉트론 학습 알고리즘 구현"
   ]
  },
  {
   "cell_type": "markdown",
   "metadata": {},
   "source": [
    "### 2.2.1 객체 지향 퍼셉트론 API\n",
    "\n",
    "객체 지향 방식을 사용하여 퍼셉트론 인터페이스를 가진 파이썬 클래스를 정의한다.\n",
    "\n",
    "Perceptron객체를 초기화하고 fit메서드를 사용하여 훈련한다. predict메서드를 사용하여 예측한다."
   ]
  },
  {
   "cell_type": "code",
   "execution_count": 67,
   "metadata": {},
   "outputs": [],
   "source": [
    "import numpy as np\n",
    "\n",
    "\n",
    "class Perceptron:\n",
    "    \"\"\"퍼셉트론 분류기\n",
    "\n",
    "    매개변수\n",
    "    ------------\n",
    "    eta : float\n",
    "      학습률 (0.0과 1.0 사이)\n",
    "    n_iter : int\n",
    "      훈련 데이터셋 반복 횟수\n",
    "    random_state : int\n",
    "      가중치 무작위 초기화를 위한 난수 생성기 시드\n",
    "\n",
    "    속성\n",
    "    -----------\n",
    "    w_ : 1d-array\n",
    "      학습된 가중치\n",
    "    b_ : 스칼라\n",
    "      학습된 절편 유닛\n",
    "    errors_ : list\n",
    "      에포크마다 누적된 분류 오류\n",
    "\n",
    "    \"\"\"\n",
    "    def __init__(self, eta=0.01, n_iter=50, random_state=2):\n",
    "        self.eta = eta\n",
    "        self.n_iter = n_iter\n",
    "        self.random_state = random_state\n",
    "\n",
    "    def fit(self, X, y):\n",
    "        \"\"\"훈련 데이터 학습\n",
    "\n",
    "        매개변수\n",
    "        ----------\n",
    "        X : array-like, shape = [n_samples, n_features]\n",
    "          n_samples개의 샘플과 n_features개의 특성으로 이루어진 훈련 데이터\n",
    "        y : array-like, shape = [n_samples]\n",
    "          타깃값\n",
    "\n",
    "        반환값\n",
    "        -------\n",
    "        self : object\n",
    "        \"\"\"\n",
    "        \n",
    "        \n",
    "        \"\"\"RandomState 클래스 : 난수 생성기\n",
    "        \n",
    "        RandomState(seed=None)는 느린 Mersenne Twister 의의 가상 난수 생성기를 위한 컨테이너입니다. \n",
    "        대신 Generator 컨테이너와 함께 다른 BitGenerator를 사용하는 것이 좋습니다.\n",
    "\n",
    "        RandomState 및 Generator는 다양한 확률 분포에서 생성된 난수를 생성하는 데 사용되는 여러 메서드를 노출합니다.\n",
    "        분포별 매개변수 외에도 각 메서드는 기본값이 None인 size 키워드 인수를 취합니다.\n",
    "        size가 None인 경우 하나의 값이 생성되어 반환됩니다.\n",
    "        size가 정수인 경우 생성된 값으로 채워진 1차원 배열이 반환됩니다.\n",
    "        size가 튜플인 경우 해당 모양으로 채워진 배열이 반환됩니다.\n",
    "        \n",
    "        > __init__() 메서드에서 random_state의 기본겂은 2로 설정되어 있다.\n",
    "        > 즉 rgen은 RandomState(2)로 size가 2로 설정되어 2로 채워진 1차원 배열이 반환된다.\n",
    "        \"\"\"\n",
    "        rgen = np.random.RandomState(self.random_state)\n",
    "        \n",
    "        \"\"\"RandomState.normal 메서드 : 정규 분포에서 난수 생성\n",
    "        \n",
    "        RandomState.normal(loc=0.0, scale=1.0, size=None)은 정규 분포에서 난수를 생성합니다.\n",
    "        loc는 평균, scale은 표준 편차입니다.\n",
    "        scale은 0보다 커야합니다.\n",
    "        size는 생성할 난수의 개수입니다.\n",
    "        \n",
    "        > loc=0.0, scale=0.01, size=X.shape[1]로 설정되어 있다.\n",
    "        > 즉 평균이 0.0, 표준편차가 0.01인 정규분포에서 X.shape[1]개의 난수를 생성한다. X는 훈련 데이터이므로 X.shape[1]은 특성의 개수이다.\n",
    "        \"\"\"\n",
    "        self.w_ = rgen.normal(loc=0.0, scale=0.01, size=X.shape[1])\n",
    "        \n",
    "        \"\"\"b_ : 스칼라\n",
    "        \n",
    "        > 0.으로 초기화된 절편 유닛이다.\n",
    "        \"\"\"\n",
    "        self.b_ = np.float_(0.)\n",
    "\n",
    "        # 에포크마다 누적된 분류 오류\n",
    "        self.errors_ = []\n",
    "\n",
    "        for _ in range(self.n_iter): # n_iter만큼 반복\n",
    "            errors = 0\n",
    "            for xi, target in zip(X, y): # X(특성)과 y(타깃)을 묶어서 반복\n",
    "              \n",
    "                \"\"\"update : 갱신값\n",
    "                \n",
    "                > self.eta * (target - self.predict(xi))로 설정되어 있다.\n",
    "                > 즉 학습률 * (타깃값 - 예측값)으로 update를 계산한다.\n",
    "                \"\"\"\n",
    "                update = self.eta * (target - self.predict(xi))\n",
    "                \n",
    "                \"\"\"가중치와 절편 갱신\"\"\"\n",
    "                self.w_ += update * xi\n",
    "                self.b_ += update\n",
    "                \n",
    "                \"\"\"update가 0이 아닐 경우 오류를 1 증가시킨다.\"\"\"\n",
    "                errors += int(update != 0.0)\n",
    "            self.errors_.append(errors)\n",
    "        return self\n",
    "\n",
    "    def net_input(self, X):\n",
    "        \"\"\"입력 계산\n",
    "        \n",
    "        np.dot메서드를 사용하여 특성과 가중치를 곱한 다음 절편을 더한다.\n",
    "        그리고 그 결과를 반환한다.\n",
    "        \"\"\"\n",
    "        return np.dot(X, self.w_) + self.b_\n",
    "\n",
    "    def predict(self, X):\n",
    "        \"\"\"단위 계단 함수를 사용하여 클래스 레이블을 반환합니다\n",
    "\n",
    "        np.where 메서드를 사용하여 net_input이 0보다 크거나 같으면 1을 반환하고 그렇지 않으면 0을 반환한다.\n",
    "        * 단위 계단 함수의 역할을 한다.        \n",
    "        \"\"\"\n",
    "        return np.where(self.net_input(X) >= 0.0, 1, 0)"
   ]
  },
  {
   "cell_type": "code",
   "execution_count": 68,
   "metadata": {},
   "outputs": [
    {
     "data": {
      "text/plain": [
       "0.0"
      ]
     },
     "execution_count": 68,
     "metadata": {},
     "output_type": "execute_result"
    }
   ],
   "source": [
    "v1 = np.array([1, 2, 3])\n",
    "v2 = 0.5 * v1\n",
    "np.arccos(v1.dot(v2) / (np.linalg.norm(v1) * np.linalg.norm(v2)))"
   ]
  },
  {
   "cell_type": "markdown",
   "metadata": {},
   "source": [
    "## 2.2.2 붓꽃 데이터 퍼셉트론 훈련\n",
    "\n",
    "붓꽃 데이터셋을 사용하여 퍼셉트론을 훈련한다.\n",
    "\n",
    "* 꽃받침 길이와 꽃잎 길이 두 개의 특성을 사용하여 두 개의 붓꽃 종(Setosa, Versicolor)을 구분한다."
   ]
  },
  {
   "cell_type": "code",
   "execution_count": 69,
   "metadata": {},
   "outputs": [
    {
     "name": "stdout",
     "output_type": "stream",
     "text": [
      "붓꽃 데이터의 형태 : (150, 5)\n"
     ]
    },
    {
     "data": {
      "text/html": [
       "<div>\n",
       "<style scoped>\n",
       "    .dataframe tbody tr th:only-of-type {\n",
       "        vertical-align: middle;\n",
       "    }\n",
       "\n",
       "    .dataframe tbody tr th {\n",
       "        vertical-align: top;\n",
       "    }\n",
       "\n",
       "    .dataframe thead th {\n",
       "        text-align: right;\n",
       "    }\n",
       "</style>\n",
       "<table border=\"1\" class=\"dataframe\">\n",
       "  <thead>\n",
       "    <tr style=\"text-align: right;\">\n",
       "      <th></th>\n",
       "      <th>0</th>\n",
       "      <th>1</th>\n",
       "      <th>2</th>\n",
       "      <th>3</th>\n",
       "      <th>4</th>\n",
       "    </tr>\n",
       "  </thead>\n",
       "  <tbody>\n",
       "    <tr>\n",
       "      <th>0</th>\n",
       "      <td>5.1</td>\n",
       "      <td>3.5</td>\n",
       "      <td>1.4</td>\n",
       "      <td>0.2</td>\n",
       "      <td>Iris-setosa</td>\n",
       "    </tr>\n",
       "    <tr>\n",
       "      <th>1</th>\n",
       "      <td>4.9</td>\n",
       "      <td>3.0</td>\n",
       "      <td>1.4</td>\n",
       "      <td>0.2</td>\n",
       "      <td>Iris-setosa</td>\n",
       "    </tr>\n",
       "    <tr>\n",
       "      <th>2</th>\n",
       "      <td>4.7</td>\n",
       "      <td>3.2</td>\n",
       "      <td>1.3</td>\n",
       "      <td>0.2</td>\n",
       "      <td>Iris-setosa</td>\n",
       "    </tr>\n",
       "    <tr>\n",
       "      <th>3</th>\n",
       "      <td>4.6</td>\n",
       "      <td>3.1</td>\n",
       "      <td>1.5</td>\n",
       "      <td>0.2</td>\n",
       "      <td>Iris-setosa</td>\n",
       "    </tr>\n",
       "    <tr>\n",
       "      <th>4</th>\n",
       "      <td>5.0</td>\n",
       "      <td>3.6</td>\n",
       "      <td>1.4</td>\n",
       "      <td>0.2</td>\n",
       "      <td>Iris-setosa</td>\n",
       "    </tr>\n",
       "    <tr>\n",
       "      <th>...</th>\n",
       "      <td>...</td>\n",
       "      <td>...</td>\n",
       "      <td>...</td>\n",
       "      <td>...</td>\n",
       "      <td>...</td>\n",
       "    </tr>\n",
       "    <tr>\n",
       "      <th>145</th>\n",
       "      <td>6.7</td>\n",
       "      <td>3.0</td>\n",
       "      <td>5.2</td>\n",
       "      <td>2.3</td>\n",
       "      <td>Iris-virginica</td>\n",
       "    </tr>\n",
       "    <tr>\n",
       "      <th>146</th>\n",
       "      <td>6.3</td>\n",
       "      <td>2.5</td>\n",
       "      <td>5.0</td>\n",
       "      <td>1.9</td>\n",
       "      <td>Iris-virginica</td>\n",
       "    </tr>\n",
       "    <tr>\n",
       "      <th>147</th>\n",
       "      <td>6.5</td>\n",
       "      <td>3.0</td>\n",
       "      <td>5.2</td>\n",
       "      <td>2.0</td>\n",
       "      <td>Iris-virginica</td>\n",
       "    </tr>\n",
       "    <tr>\n",
       "      <th>148</th>\n",
       "      <td>6.2</td>\n",
       "      <td>3.4</td>\n",
       "      <td>5.4</td>\n",
       "      <td>2.3</td>\n",
       "      <td>Iris-virginica</td>\n",
       "    </tr>\n",
       "    <tr>\n",
       "      <th>149</th>\n",
       "      <td>5.9</td>\n",
       "      <td>3.0</td>\n",
       "      <td>5.1</td>\n",
       "      <td>1.8</td>\n",
       "      <td>Iris-virginica</td>\n",
       "    </tr>\n",
       "  </tbody>\n",
       "</table>\n",
       "<p>150 rows × 5 columns</p>\n",
       "</div>"
      ],
      "text/plain": [
       "       0    1    2    3               4\n",
       "0    5.1  3.5  1.4  0.2     Iris-setosa\n",
       "1    4.9  3.0  1.4  0.2     Iris-setosa\n",
       "2    4.7  3.2  1.3  0.2     Iris-setosa\n",
       "3    4.6  3.1  1.5  0.2     Iris-setosa\n",
       "4    5.0  3.6  1.4  0.2     Iris-setosa\n",
       "..   ...  ...  ...  ...             ...\n",
       "145  6.7  3.0  5.2  2.3  Iris-virginica\n",
       "146  6.3  2.5  5.0  1.9  Iris-virginica\n",
       "147  6.5  3.0  5.2  2.0  Iris-virginica\n",
       "148  6.2  3.4  5.4  2.3  Iris-virginica\n",
       "149  5.9  3.0  5.1  1.8  Iris-virginica\n",
       "\n",
       "[150 rows x 5 columns]"
      ]
     },
     "execution_count": 69,
     "metadata": {},
     "output_type": "execute_result"
    }
   ],
   "source": [
    "import os\n",
    "import pandas as pd\n",
    "\n",
    "df = pd.read_csv('https://archive.ics.uci.edu/ml/machine-learning-databases/iris/iris.data', header=None, encoding='utf-8')\n",
    "print(f\"붓꽃 데이터의 형태 : {df.shape}\")\n",
    "df"
   ]
  },
  {
   "cell_type": "markdown",
   "metadata": {},
   "source": [
    "50개의 Setosa와 50개의 Versicolor 샘플을 사용하여 퍼셉트론을 훈련한다."
   ]
  },
  {
   "cell_type": "code",
   "execution_count": 58,
   "metadata": {},
   "outputs": [
    {
     "data": {
      "image/png": "[encoded data removed]",
      "text/plain": [
       "<Figure size 640x480 with 1 Axes>"
      ]
     },
     "metadata": {},
     "output_type": "display_data"
    }
   ],
   "source": [
    "import matplotlib.pyplot as plt\n",
    "import numpy as np\n",
    "\n",
    "# setosa와 versicolor를 선택합니다.\n",
    "y = df.iloc[0:100, 4].values\n",
    "y = np.where(y == 'Iris-setosa', 0, 1)\n",
    "\n",
    "# 꽃받침 길이와 꽃잎 길이를 추출합니다.\n",
    "X = df.iloc[0:100, [0, 2]].values\n",
    "\n",
    "# 산점도를 그립니다.\n",
    "plt.scatter(X[:50, 0], X[:50, 1], color='red', marker='o', label='setosa')\n",
    "plt.scatter(X[50:100, 0], X[50:100, 1], color='blue', marker='s', label='versicolor')\n",
    "plt.xlabel('sepal length [cm]')\n",
    "plt.ylabel('petal length [cm]')\n",
    "plt.legend(loc='upper left')\n",
    "plt.show()"
   ]
  },
  {
   "cell_type": "markdown",
   "metadata": {},
   "source": [
    "산점도는 붓꽃 데이터셋에 있는 샘플들이 꽃받침 길이와 꽃잎 길이에 따라 어떻게 분포되어 있는지 시각화한다.\n",
    "\n",
    "2개의 특성이 선형적으로 구분되는 것을 확인할 수 있다. (선형적으로 구분할 수 있다는 것은 산점도에서 두 클래스가 선형 경계로 구분된다는 것을 의미한다.)"
   ]
  },
  {
   "cell_type": "code",
   "execution_count": 59,
   "metadata": {},
   "outputs": [
    {
     "name": "stdout",
     "output_type": "stream",
     "text": [
      "[1, 3, 3, 2, 1, 0, 0, 0, 0, 0]\n"
     ]
    },
    {
     "data": {
      "image/png": "[encoded data removed]",
      "text/plain": [
       "<Figure size 640x480 with 1 Axes>"
      ]
     },
     "metadata": {},
     "output_type": "display_data"
    }
   ],
   "source": [
    "ppn = Perceptron(eta=0.2, n_iter=10)\n",
    "ppn.fit(X, y)\n",
    "plt.plot(range(1, len(ppn.errors_) + 1), ppn.errors_, marker='o')\n",
    "plt.xlabel('Epochs')\n",
    "plt.ylabel('Number of updates')\n",
    "print(ppn.errors_)\n",
    "plt.show()"
   ]
  },
  {
   "cell_type": "markdown",
   "metadata": {},
   "source": [
    "**결정 경계를 시각화**"
   ]
  },
  {
   "cell_type": "code",
   "execution_count": 60,
   "metadata": {},
   "outputs": [
    {
     "data": {
      "image/png": "[encoded data removed]",
      "text/plain": [
       "<Figure size 640x480 with 1 Axes>"
      ]
     },
     "metadata": {},
     "output_type": "display_data"
    }
   ],
   "source": [
    "from matplotlib.colors import ListedColormap\n",
    "\n",
    "def plot_decision_regions(X, y, classifier, resolution=0.02):\n",
    "  # 마커와 컬러맵을 설정합니다.\n",
    "  makers = ('o', 's', '^', 'v', '<')\n",
    "  colors = ('red', 'blue', 'lightgreen', 'gray', 'cyan')\n",
    "  cmap = ListedColormap(colors[:len(np.unique(y))])\n",
    "  \n",
    "  # 결정 경계를 그립니다.\n",
    "  x1_min, x1_max = X[:, 0].min() -1, X[:, 0].max() + 1\n",
    "  x2_min, x2_max = X[:, 1].min() -1, X[:, 1].max() + 1\n",
    "  xx1, xx2 = np.meshgrid(np.arange(x1_min, x1_max, resolution), np.arange(x2_min, x2_max, resolution))\n",
    "  lab = classifier.predict(np.array([xx1.ravel(), xx2.ravel()]).T)\n",
    "  lab = lab.reshape(xx1.shape)\n",
    "  plt.contourf(xx1, xx2, lab, alpha=0.3, cmap=cmap)\n",
    "  plt.xlim(xx1.min(), xx1.max())\n",
    "  plt.ylim(xx2.min(), xx2.max())\n",
    "  \n",
    "  # 샘플의 산점도를 그립니다.\n",
    "  for i, c in enumerate(np.unique(y)):\n",
    "    plt.scatter(x=X[y == c, 0], y=X[y == c, 1], alpha=0.8, c=colors[i], marker=makers[i], label=c, edgecolor='black')\n",
    "    \n",
    "plot_decision_regions(X, y, classifier=ppn)\n",
    "plt.xlabel('sepal length [cm]')\n",
    "plt.ylabel('petal length [cm]')\n",
    "plt.legend(loc='upper left')\n",
    "plt.show()"
   ]
  },
  {
   "cell_type": "markdown",
   "metadata": {},
   "source": [
    "## 2.3 적응형 선형 뉴런과 학습의 수렴\n",
    "\n",
    "퍼셉트론의 학습 규칙은 간단하지만, 특정 조건에서 수렴하지 않을 수 있다. 이는 훈련 샘플이 선형적으로 구분되지 않을 때 발생한다. 이러한 문제를 해결하기 위해 적응형 선형 뉴런 아달린(Adaline)을 사용한다.\n",
    "\n",
    "아달린(Adaline)은 테드 호프가 프랑크 로젠블라트의 퍼셉트론 학습 규칙을 개선한 알고리즘이다. 아달린은 가중치를 업데이트하는 데 퍼셉트론의 계단 함수 대신 선형 활성화 함수를 사용한다. 이 활성화 함수는 실수 입력을 출력으로 변환하는데 사용된다."
   ]
  },
  {
   "cell_type": "markdown",
   "metadata": {},
   "source": [
    "### 2.3.1 경사 하강법으로 손실 함수 최소화\n",
    "\n",
    "\n",
    "아달린은 계산된 출력과 진짜(?) 클래스 레이블 사이의 `평균 제곱 오차(Mean Squared Error, MSE)`로 모델 파라미터(가중치와 절편)를 학습하기 위한 손실함수 L을 정의한다.\n",
    "\n",
    "$$ L(w, b) = -\\frac{1}{n} \\sum_{i}(y^{(i)} - \\sigma(z^{(i)}))^2 $$\n",
    "\n",
    "이 손실 함수를 최소화하기 위해 경사 하강법을 사용한다. 이는 손실 함수의 기울기를 따라 가중치를 업데이트한다.\n"
   ]
  },
  {
   "cell_type": "markdown",
   "metadata": {},
   "source": [
    "### 2.3.2 파이썬으로 아달린 구현"
   ]
  },
  {
   "cell_type": "code",
   "execution_count": 63,
   "metadata": {},
   "outputs": [],
   "source": [
    "class AdalineGD:\n",
    "  def __init__(self, eta=0.01, n_iter=50, random_state=1):\n",
    "    self.eta = eta\n",
    "    self.n_iter = n_iter\n",
    "    self.random_state = random_state\n",
    "    \n",
    "  def net_input(self, X):\n",
    "    \"\"\"입력 계산\n",
    "    \n",
    "    Parameters:\n",
    "      X : array-like, shape = [n_samples, n_features]\n",
    "      n_samples개의 샘플과 n_features개의 특성으로 이루어진 훈련 데이터\n",
    "    \n",
    "    \n",
    "    Returns:\n",
    "      np.dot(X, self.w_) + self.b_ : array-like, shape = [n_samples]\n",
    "      n_samples개의 샘플의 입력 계산값\n",
    "    \"\"\"\n",
    "    return np.dot(X, self.w_) + self.b_\n",
    "  \n",
    "  def activation(self, X):\n",
    "    \"\"\"활성화 함수\n",
    "    \n",
    "    Parameters:\n",
    "      X : array-like, shape = [n_samples]\n",
    "      n_samples개의 샘플의 입력 계산값\n",
    "      \n",
    "    Returns:\n",
    "      X : array-like, shape = [n_samples]\n",
    "      n_samples개의 샘플의 입력 계산값\n",
    "    \"\"\"\n",
    "    return X\n",
    "  \n",
    "  def predict(self, X):\n",
    "    \"\"\"단위 계단 함수를 사용하여 클래스 레이블을 반환합니다\n",
    "    \n",
    "    Parameters:\n",
    "      X : array-like, shape = [n_samples, n_features]\n",
    "      n_samples개의 샘플과 n_features개의 특성으로 이루어진 훈련 데이터\n",
    "      \n",
    "    Returns:\n",
    "      n_samples개의 샘플의 클래스 레이블\n",
    "    \"\"\"\n",
    "    return np.where(self.net_input(X) >= 0.5, 1, 0)\n",
    "    \n",
    "  def fit(self, X, y):\n",
    "    rgen = np.random.RandomState(self.random_state)\n",
    "    self.w_ = rgen.normal(loc=0.0, scale=0.01, size=1 + X.shape[1])\n",
    "    self.b_ = np.float_(0.)\n",
    "    self.losses_ = []\n",
    "    \n",
    "    for i in range(self.n_iter):\n",
    "      net_input = self.net_input(X)\n",
    "      output = self.activation(net_input)\n",
    "      errors = (y - output)\n",
    "      self.w_ += self.eta * X.T.dot(errors) / X.shape[0]\n",
    "      self.b_ += self.eta * 2.0 * errors.mean()\n",
    "      loss = (errors**2).mean()\n",
    "      self.losses_.append(loss)\n",
    "    return self\n",
    "      "
   ]
  },
  {
   "cell_type": "markdown",
   "metadata": {},
   "source": [
    "퍼셉트론처럼 개별 훈련 샘플마다 평가한 후 가중치를 업데이트하지 않고 전체 훈련 데이터셋을 기반으로 기울기를 계산한다.\n",
    "\n",
    "절편 유닛이 경유 `self.eta * 2.0 * errors.mean()`로 계산된다. (errors)"
   ]
  },
  {
   "cell_type": "code",
   "execution_count": null,
   "metadata": {},
   "outputs": [],
   "source": []
  }
 ],
 "metadata": {
  "kernelspec": {
   "display_name": "ai",
   "language": "python",
   "name": "python3"
  },
  "language_info": {
   "codemirror_mode": {
    "name": "ipython",
    "version": 3
   },
   "file_extension": ".py",
   "mimetype": "text/x-python",
   "name": "python",
   "nbconvert_exporter": "python",
   "pygments_lexer": "ipython3",
   "version": "3.11.0"
  }
 },
 "nbformat": 4,
 "nbformat_minor": 2
}
