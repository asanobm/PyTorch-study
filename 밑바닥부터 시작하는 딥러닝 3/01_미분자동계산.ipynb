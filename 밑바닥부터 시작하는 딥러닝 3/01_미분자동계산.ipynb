{
 "cells": [
  {
   "cell_type": "markdown",
   "metadata": {},
   "source": [
    "# 미분 자동 계산\n"
   ]
  },
  {
   "cell_type": "markdown",
   "metadata": {},
   "source": [
    "## 상자로서의 변수\n",
    "\n",
    "### 1.1 변수란\n",
    "\n",
    "변수란? 프로그래밍 입문서에서 변수는 상자라고 설명한다. 상자에 값을 담아두고 그 값을 사용할 수 있다.\n",
    "\n",
    "- 상자와 데이터는 별개다\n",
    "- 상자에는 데이터가 들어간다\n",
    "- 상자 속을 들여다보면 데이터를 알 수 있다\n",
    "\n",
    "### 1.2 Variable 클래스 구현\n",
    "\n",
    "```python\n",
    "class Variable:\n",
    "    def __init__(self, data):\n",
    "        self.data = data\n",
    "```\n",
    "\n",
    "**init** 메서드는 Variable 클래스의 생성자이다. 생성자는 인스턴스를 초기화하는 메서드이다.\n"
   ]
  },
  {
   "cell_type": "code",
   "execution_count": 1,
   "metadata": {},
   "outputs": [
    {
     "name": "stdout",
     "output_type": "stream",
     "text": [
      "1.0\n"
     ]
    }
   ],
   "source": [
    "import numpy as np\n",
    "\n",
    "\n",
    "class Variable:\n",
    "    def __init__(self, data):\n",
    "        self.data = data\n",
    "\n",
    "\n",
    "data = np.array(1.0)\n",
    "x = Variable(data)\n",
    "print(x.data)"
   ]
  },
  {
   "cell_type": "markdown",
   "metadata": {},
   "source": [
    "머신러닝 시스템은 기본적으로 `다차원 배열`을 사용한다.\n"
   ]
  },
  {
   "cell_type": "code",
   "execution_count": 2,
   "metadata": {},
   "outputs": [
    {
     "name": "stdout",
     "output_type": "stream",
     "text": [
      "2.0\n"
     ]
    }
   ],
   "source": [
    "x.data = np.array(2.0)\n",
    "print(x.data)"
   ]
  },
  {
   "cell_type": "markdown",
   "metadata": {},
   "source": [
    "## 변수를 낳는 함수\n",
    "\n",
    "### 2.1 함수란\n",
    "\n",
    "어떤 변수로부터 다른 변수의 대응 관계를 정한 것 함수 $f(x) = x^{2}$이 있다고 할때 $y=f(x)$라고 하면 $y$와$x$의 관계가 함수 $f$에 의해 결정된다. 즉 함수 $f$에 의해 $y$는 $x$의 제곱이다 라는 관계가 성립한다.\n"
   ]
  },
  {
   "cell_type": "markdown",
   "metadata": {},
   "source": [
    "### 2.2 Function 클래스 구현\n",
    "\n",
    "- Function클래스는 Variable인스턴스를 입력받아 Variable인스턴스를 출력한다.\n",
    "- Variable 인스턴스의 실제 데이터는 인스턴스 변수인 data에 저장된다.\n"
   ]
  },
  {
   "cell_type": "code",
   "execution_count": 3,
   "metadata": {},
   "outputs": [],
   "source": [
    "class Function:\n",
    "    def __call__(self, input):\n",
    "        x = input.data\n",
    "        y = x**2\n",
    "        output = Variable(y)\n",
    "        return output"
   ]
  },
  {
   "cell_type": "markdown",
   "metadata": {},
   "source": [
    "`__call__`메서드의 인수 input은 Variable 인스턴스라고 가정한다. 따라서 실제 데이터는 input.data에 존재한다.\n",
    "데이터를 꺼낸 후 원하는 계산을 하고 결과를 Variable 인스턴스로 되돌려준다.\n"
   ]
  },
  {
   "cell_type": "code",
   "execution_count": 4,
   "metadata": {},
   "outputs": [
    {
     "name": "stdout",
     "output_type": "stream",
     "text": [
      "<class '__main__.Variable'>\n",
      "100\n"
     ]
    }
   ],
   "source": [
    "x = Variable(np.array(10))\n",
    "f = Function()\n",
    "y = f(x)\n",
    "print(type(y))\n",
    "print(y.data)"
   ]
  },
  {
   "cell_type": "code",
   "execution_count": 5,
   "metadata": {},
   "outputs": [
    {
     "name": "stdout",
     "output_type": "stream",
     "text": [
      "<class 'framework.variable.Variable'>\n",
      "100\n"
     ]
    }
   ],
   "source": [
    "import numpy as np\n",
    "from framework.variable import Variable\n",
    "from framework.function import Square\n",
    "\n",
    "x = Variable(np.array(10))\n",
    "f = Square()\n",
    "y = f(x)\n",
    "print(type(y))\n",
    "print(y.data)"
   ]
  },
  {
   "cell_type": "markdown",
   "metadata": {},
   "source": [
    "## 함수 연결\n",
    "\n",
    "### 3.1 Exp 함수 구현\n"
   ]
  }
 ],
 "metadata": {
  "kernelspec": {
   "display_name": "ai",
   "language": "python",
   "name": "python3"
  },
  "language_info": {
   "codemirror_mode": {
    "name": "ipython",
    "version": 3
   },
   "file_extension": ".py",
   "mimetype": "text/x-python",
   "name": "python",
   "nbconvert_exporter": "python",
   "pygments_lexer": "ipython3",
   "version": "3.11.0"
  }
 },
 "nbformat": 4,
 "nbformat_minor": 2
}
