{
 "cells": [
  {
   "cell_type": "markdown",
   "metadata": {},
   "source": [
    "# 자연스러운 코드로\n",
    "\n",
    "- 가변 길이 인수 (순전파)\n",
    "- 가변 길이 인수 (개선)\n",
    "- 가변 길이 인수 (역전파)\n"
   ]
  },
  {
   "cell_type": "markdown",
   "metadata": {},
   "source": [
    "## 가변 길이 인수 (순전파)\n",
    "\n",
    "```python\n",
    "class Function:\n",
    "    def __call__(self, inputs):\n",
    "        xs = [x.data for x in inputs] # Variable 인스턴스로부터 데이터를 꺼낸다.\n",
    "        ys = self.forward(xs) # forward 메서드에서 구체적인 계산을 수행한다.\n",
    "        outputs = [Variable(as_array(y)) for y in ys] # 계산된 데이터를 Variable 인스턴스로 다시 감싼다.\n",
    "\n",
    "        for output in outputs:\n",
    "            output.set_creator(self) # 원산지 표시를 한다.\n",
    "\n",
    "        self.inputs = inputs  # 입력 변수를 기억(보관)한다.\n",
    "        self.outputs = outputs  # 출력 변수를 저장한다.\n",
    "        return outputs\n",
    "\n",
    "    def forward(self, x):\n",
    "        raise NotImplementedError()\n",
    "\n",
    "    def backward(self, gy):\n",
    "        raise NotImplementedError()\n",
    "```\n",
    "\n",
    "인수와 반환값을 리스트로 변경했다.\n"
   ]
  },
  {
   "cell_type": "markdown",
   "metadata": {},
   "source": [
    "### Add 클래스\n",
    "\n",
    "```python\n",
    "class Add(Function):\n",
    "    def forward(self, xs):\n",
    "        x0, x1 = xs\n",
    "        y = x0 + x1\n",
    "        return (y,)  # 반환값을 튜플로 묶는다.\n",
    "```\n"
   ]
  },
  {
   "cell_type": "code",
   "execution_count": 6,
   "metadata": {},
   "outputs": [],
   "source": [
    "# import numpy as np\n",
    "# from framework.variable import Variable\n",
    "# from framework.function import Add\n",
    "# xs = [Variable(np.array(2)), Variable(np.array(3))]\n",
    "# f = Add()\n",
    "# ys = f(xs)\n",
    "# y = ys[0]\n",
    "# print(y.data)"
   ]
  },
  {
   "cell_type": "markdown",
   "metadata": {},
   "source": [
    "## 가변 길이 인수 (개선)\n",
    "\n",
    "### 함수를 사용하기 쉽게 개선\n",
    "\n",
    "```python\n",
    "class Function:\n",
    "  def __call__(self, *inputs):  # *를 붙여 가변 길이 인수로 변경\n",
    "    xs = [x.data for x in inputs]\n",
    "    ys = self.forward(*xs)  # 리스트 대신 언패킹하여 넘긴다.\n",
    "    if not isinstance(ys, tuple):  # 튜플이 아닌 경우 추가 지원\n",
    "      ys = (ys,)\n",
    "    outputs = [Variable(as_array(y)) for y in ys]\n",
    "\n",
    "    for output in outputs:\n",
    "      output.set_creator(self)\n",
    "    self.inputs = inputs\n",
    "    self.outputs = outputs\n",
    "    return outputs if len(outputs) > 1 else outputs[0]\n",
    "```\n"
   ]
  },
  {
   "cell_type": "code",
   "execution_count": 7,
   "metadata": {},
   "outputs": [
    {
     "name": "stdout",
     "output_type": "stream",
     "text": [
      "5\n"
     ]
    }
   ],
   "source": [
    "import numpy as np\n",
    "from framework.function import Add\n",
    "from framework.variable import Variable\n",
    "x0 = Variable(np.array(2))\n",
    "x1 = Variable(np.array(3))\n",
    "f = Add()\n",
    "y = f(x0, x1)\n",
    "print(y.data)"
   ]
  },
  {
   "cell_type": "code",
   "execution_count": 8,
   "metadata": {},
   "outputs": [
    {
     "name": "stdout",
     "output_type": "stream",
     "text": [
      "5\n"
     ]
    }
   ],
   "source": [
    "from framework.function import add\n",
    "x0 = Variable(np.array(2))\n",
    "x1 = Variable(np.array(3))\n",
    "y = add(x0, x1)\n",
    "print(y.data)"
   ]
  },
  {
   "cell_type": "markdown",
   "metadata": {},
   "source": [
    "## 13 가변 길이 인수 (역전파)\n",
    "\n",
    "### 13.1 가변 기이 인수에 대응한 Add클래스의 역전파\n",
    "\n",
    "```python\n",
    "class Add(Function):\n",
    "    def forward(self, *xs):\n",
    "        x0, x1 = xs\n",
    "        y = x0 + x1\n",
    "        return y\n",
    "\n",
    "    def backward(self, gy):\n",
    "        return gy, gy\n",
    "```\n"
   ]
  },
  {
   "cell_type": "markdown",
   "metadata": {},
   "source": [
    "### 13.2 Variable 클래스의 backward 메서드 수정\n",
    "\n",
    "```python\n",
    "def backward(self):\n",
    "        \"\"\"재귀에서 반복문으로 변경\"\"\"\n",
    "\n",
    "        if self.grad is None:\n",
    "            self.grad = np.ones_like(self.data)\n",
    "\n",
    "        functions = [self.creator]\n",
    "\n",
    "        while functions:\n",
    "            f = functions.pop()  # 함수를 가져온다.\n",
    "            # x, y = f.input, f.output  # 함수의 입력과 출력을 가져온다.\n",
    "            # x.grad = f.backward(y.grad)  # backward 메서드를 호출한다.\n",
    "\n",
    "            # if x.creator is not None:\n",
    "            #     functions.append(x.creator)  # 하나 앞의 함수를 리스트에 추가한다.\n",
    "\n",
    "            gys = [output.grad for output in f.outputs] # 출력변수인 output에서 출력변수의 미분을 가져온다.\n",
    "            gxs = f.backward(*gys) # 역전파 호출\n",
    "            if not isinstance(gxs, tuple): # 튜플이 아닌 경우 추가 지원\n",
    "                gxs = (gxs,)\n",
    "\n",
    "            for x, gx in zip(f.inputs, gxs): # 역전파로 전파되는 미분을 Variable의 인스턴스 변수 grad에 저장한다.\n",
    "                x.grad = gx\n",
    "\n",
    "                if x.creator is not None: # 하나 앞의 함수를 리스트에 추가한다.\n",
    "                    functions.append(x.creator)\n",
    "```\n"
   ]
  },
  {
   "cell_type": "markdown",
   "metadata": {},
   "source": [
    "### 13.3 Square 클래스 구현\n",
    "\n",
    "```python\n",
    "class Square(Function):\n",
    "    def forward(self, x):\n",
    "        y = x ** 2\n",
    "        return y\n",
    "\n",
    "    def backward(self, gy):\n",
    "        x = self.inputs[0].data # 수정 전: x = self.input.data\n",
    "        gx = 2 * x * gy\n",
    "        return gx\n",
    "```\n"
   ]
  },
  {
   "cell_type": "code",
   "execution_count": 9,
   "metadata": {},
   "outputs": [
    {
     "name": "stdout",
     "output_type": "stream",
     "text": [
      "13.0\n",
      "4.0\n",
      "6.0\n"
     ]
    }
   ],
   "source": [
    "from framework.variable import Variable\n",
    "from framework.function import add, square\n",
    "x = Variable(np.array(2.0))\n",
    "y = Variable(np.array(3.0))\n",
    "\n",
    "z = add(square(x), square(y))\n",
    "z.backward()\n",
    "print(z.data)\n",
    "print(x.grad)\n",
    "print(y.grad)"
   ]
  },
  {
   "cell_type": "markdown",
   "metadata": {},
   "source": [
    "## 14 같은 변수 반복 사용\n",
    "\n",
    "현재는 같은 변수를 반복해서 사용할 경우 결과값이 지랄맞게 나온다.\n"
   ]
  },
  {
   "cell_type": "code",
   "execution_count": 10,
   "metadata": {},
   "outputs": [
    {
     "ename": "AttributeError",
     "evalue": "'Variable' object has no attribute 'generation'",
     "output_type": "error",
     "traceback": [
      "\u001b[0;31m---------------------------------------------------------------------------\u001b[0m",
      "\u001b[0;31mAttributeError\u001b[0m                            Traceback (most recent call last)",
      "Cell \u001b[0;32mIn[10], line 58\u001b[0m\n\u001b[1;32m     55\u001b[0m \u001b[38;5;28;01mfrom\u001b[39;00m \u001b[38;5;21;01mframework\u001b[39;00m\u001b[38;5;21;01m.\u001b[39;00m\u001b[38;5;21;01mfunction\u001b[39;00m \u001b[38;5;28;01mimport\u001b[39;00m add, square\n\u001b[1;32m     57\u001b[0m x \u001b[38;5;241m=\u001b[39m Variable(np\u001b[38;5;241m.\u001b[39marray(\u001b[38;5;241m3.0\u001b[39m))\n\u001b[0;32m---> 58\u001b[0m y \u001b[38;5;241m=\u001b[39m \u001b[43madd\u001b[49m\u001b[43m(\u001b[49m\u001b[43mx\u001b[49m\u001b[43m,\u001b[49m\u001b[43m \u001b[49m\u001b[43mx\u001b[49m\u001b[43m)\u001b[49m\n\u001b[1;32m     60\u001b[0m \u001b[38;5;28mprint\u001b[39m(\u001b[38;5;124m'\u001b[39m\u001b[38;5;124my: \u001b[39m\u001b[38;5;124m'\u001b[39m, y\u001b[38;5;241m.\u001b[39mdata)\n\u001b[1;32m     62\u001b[0m y\u001b[38;5;241m.\u001b[39mbackward()\n",
      "File \u001b[0;32m~/workspace/asanobm/pytorch-study/밑바닥부터 시작하는 딥러닝 3/framework/function.py:85\u001b[0m, in \u001b[0;36madd\u001b[0;34m(x0, x1)\u001b[0m\n\u001b[1;32m     84\u001b[0m \u001b[38;5;28;01mdef\u001b[39;00m \u001b[38;5;21madd\u001b[39m(x0, x1):\n\u001b[0;32m---> 85\u001b[0m     \u001b[38;5;28;01mreturn\u001b[39;00m \u001b[43mAdd\u001b[49m\u001b[43m(\u001b[49m\u001b[43m)\u001b[49m\u001b[43m(\u001b[49m\u001b[43mx0\u001b[49m\u001b[43m,\u001b[49m\u001b[43m \u001b[49m\u001b[43mx1\u001b[49m\u001b[43m)\u001b[49m\n",
      "File \u001b[0;32m~/workspace/asanobm/pytorch-study/밑바닥부터 시작하는 딥러닝 3/framework/function.py:20\u001b[0m, in \u001b[0;36mFunction.__call__\u001b[0;34m(self, *inputs)\u001b[0m\n\u001b[1;32m     18\u001b[0m     ys \u001b[38;5;241m=\u001b[39m (ys,)\n\u001b[1;32m     19\u001b[0m outputs \u001b[38;5;241m=\u001b[39m [Variable(as_array(y)) \u001b[38;5;28;01mfor\u001b[39;00m y \u001b[38;5;129;01min\u001b[39;00m ys] \u001b[38;5;66;03m# 계산된 데이터를 Variable 인스턴스로 다시 감싼다.\u001b[39;00m\n\u001b[0;32m---> 20\u001b[0m \u001b[38;5;28mself\u001b[39m\u001b[38;5;241m.\u001b[39mgeneration \u001b[38;5;241m=\u001b[39m \u001b[38;5;28mmax\u001b[39m([\u001b[43mx\u001b[49m\u001b[38;5;241;43m.\u001b[39;49m\u001b[43mgeneration\u001b[49m \u001b[38;5;28;01mfor\u001b[39;00m x \u001b[38;5;129;01min\u001b[39;00m inputs]) \u001b[38;5;66;03m# 입력 변수가 둘 이상일 때 가장 큰 generation을 선택한다.\u001b[39;00m\n\u001b[1;32m     21\u001b[0m \u001b[38;5;28;01mfor\u001b[39;00m output \u001b[38;5;129;01min\u001b[39;00m outputs:\n\u001b[1;32m     22\u001b[0m     output\u001b[38;5;241m.\u001b[39mset_creator(\u001b[38;5;28mself\u001b[39m) \u001b[38;5;66;03m# 원산지 표시를 한다.\u001b[39;00m\n",
      "\u001b[0;31mAttributeError\u001b[0m: 'Variable' object has no attribute 'generation'"
     ]
    }
   ],
   "source": [
    "import numpy as np\n",
    "\n",
    "class Variable:\n",
    "    def __init__(self, data: np.ndarray):\n",
    "        if data is not None:\n",
    "            if not isinstance(data, np.ndarray):\n",
    "                raise TypeError(f'{type(data)} is not supported')\n",
    "        self.data = data  # 데이터 ndarray\n",
    "        self.grad = None  # 미분값을 저장하는 변수 ndarray\n",
    "        self.creator = None  # 변수의 창조자(creator)를 기억하는 변수\n",
    "\n",
    "    def set_creator(self, func):\n",
    "        self.creator = func\n",
    "\n",
    "    # def backward(self):\n",
    "    #     f = self.creator\n",
    "    #     if f is not None:\n",
    "    #         x = f.input  # 함수의 입력을 가져온다.\n",
    "    #         x.grad = f.backward(self.grad)  # 함수의 backward 메서드를 호출한다.\n",
    "    #         x.backward()  # 하나 앞 변수의 backward 메서드를 호출한다.\n",
    "\n",
    "    def backward(self):\n",
    "        \"\"\"재귀에서 반복문으로 변경\"\"\"\n",
    "\n",
    "        if self.grad is None:\n",
    "            self.grad = np.ones_like(self.data)\n",
    "\n",
    "        functions = [self.creator]\n",
    "\n",
    "        while functions:\n",
    "            f = functions.pop()  # 함수를 가져온다.\n",
    "            # x, y = f.input, f.output  # 함수의 입력과 출력을 가져온다.\n",
    "            # x.grad = f.backward(y.grad)  # backward 메서드를 호출한다.\n",
    "\n",
    "            # if x.creator is not None:\n",
    "            #     functions.append(x.creator)  # 하나 앞의 함수를 리스트에 추가한다.\n",
    "            \n",
    "            gys = [output.grad for output in f.outputs] # 출력변수인 output에서 출력변수의 미분을 가져온다.\n",
    "            gxs = f.backward(*gys) # 역전파 호출\n",
    "            if not isinstance(gxs, tuple): # 튜플이 아닌 경우 추가 지원\n",
    "                gxs = (gxs,)\n",
    "                \n",
    "            for x, gx in zip(f.inputs, gxs): # 역전파로 전파되는 미분을 Variable의 인스턴스 변수 grad에 저장한다.\n",
    "                x.grad = gx # 같은 변수를 반복 사용할 경우 덮어쓰기 때문에 주의해야 한다.\n",
    "                # if x.grad is None:\n",
    "                #     x.grad = gx\n",
    "                # else:\n",
    "                #     x.grad = x.grad + gx\n",
    "                \n",
    "                if x.creator is not None: # 하나 앞의 함수를 리스트에 추가한다.\n",
    "                    functions.append(x.creator)\n",
    "\n",
    "\n",
    "# from framework.variable import Variable\n",
    "from framework.function import add, square\n",
    "\n",
    "x = Variable(np.array(3.0))\n",
    "y = add(x, x)\n",
    "\n",
    "print('y: ', y.data)\n",
    "\n",
    "y.backward()\n",
    "print('x.grad: ', x.grad)"
   ]
  },
  {
   "cell_type": "code",
   "execution_count": null,
   "metadata": {},
   "outputs": [],
   "source": [
    "import numpy as np\n",
    "\n",
    "\n",
    "class Variable:\n",
    "    def __init__(self, data: np.ndarray):\n",
    "        if data is not None:\n",
    "            if not isinstance(data, np.ndarray):\n",
    "                raise TypeError(f'{type(data)} is not supported')\n",
    "        self.data = data  # 데이터 ndarray\n",
    "        self.grad = None  # 미분값을 저장하는 변수 ndarray\n",
    "        self.creator = None  # 변수의 창조자(creator)를 기억하는 변수\n",
    "\n",
    "    def set_creator(self, func):\n",
    "        self.creator = func\n",
    "\n",
    "    # def backward(self):\n",
    "    #     f = self.creator\n",
    "    #     if f is not None:\n",
    "    #         x = f.input  # 함수의 입력을 가져온다.\n",
    "    #         x.grad = f.backward(self.grad)  # 함수의 backward 메서드를 호출한다.\n",
    "    #         x.backward()  # 하나 앞 변수의 backward 메서드를 호출한다.\n",
    "\n",
    "    def backward(self):\n",
    "        \"\"\"재귀에서 반복문으로 변경\"\"\"\n",
    "\n",
    "        if self.grad is None:\n",
    "            self.grad = np.ones_like(self.data)\n",
    "\n",
    "        functions = [self.creator]\n",
    "\n",
    "        while functions:\n",
    "            f = functions.pop()  # 함수를 가져온다.\n",
    "            # x, y = f.input, f.output  # 함수의 입력과 출력을 가져온다.\n",
    "            # x.grad = f.backward(y.grad)  # backward 메서드를 호출한다.\n",
    "\n",
    "            # if x.creator is not None:\n",
    "            #     functions.append(x.creator)  # 하나 앞의 함수를 리스트에 추가한다.\n",
    "            \n",
    "            gys = [output.grad for output in f.outputs] # 출력변수인 output에서 출력변수의 미분을 가져온다.\n",
    "            gxs = f.backward(*gys) # 역전파 호출\n",
    "            if not isinstance(gxs, tuple): # 튜플이 아닌 경우 추가 지원\n",
    "                gxs = (gxs,)\n",
    "                \n",
    "            for x, gx in zip(f.inputs, gxs): # 역전파로 전파되는 미분을 Variable의 인스턴스 변수 grad에 저장한다.\n",
    "                # x.grad = gx # 같은 변수를 반복 사용할 경우 덮어쓰기 때문에 주의해야 한다.\n",
    "                if x.grad is None:\n",
    "                    x.grad = gx\n",
    "                else:\n",
    "                    x.grad = x.grad + gx\n",
    "                \n",
    "                if x.creator is not None: # 하나 앞의 함수를 리스트에 추가한다.\n",
    "                    functions.append(x.creator)\n",
    "\n",
    "from framework.function import add, square\n",
    "x = Variable(np.array(3.0))\n",
    "y = add(x, x)\n",
    "\n",
    "print('y: ', y.data)\n",
    "\n",
    "y.backward()\n",
    "print('x.grad: ', x.grad)"
   ]
  },
  {
   "cell_type": "code",
   "execution_count": null,
   "metadata": {},
   "outputs": [],
   "source": [
    "x = Variable(np.array(3.0))\n",
    "y = add(add(x, x), x)\n",
    "y.backward()\n",
    "print('x.grad: ', x.grad)"
   ]
  },
  {
   "cell_type": "markdown",
   "metadata": {},
   "source": [
    "### 14.3 미분값 재설정\n"
   ]
  },
  {
   "cell_type": "code",
   "execution_count": null,
   "metadata": {},
   "outputs": [],
   "source": [
    "from framework.function import add, square\n",
    "from framework.variable import Variable\n",
    "\n",
    "x = Variable(np.array(3.0))\n",
    "y = add(x, x)\n",
    "y.backward()\n",
    "print('x.grad: ', x.grad)\n",
    "\n",
    "y = add(add(x, x), x)\n",
    "y.backward()\n",
    "print('x.grad: ', x.grad)\n"
   ]
  },
  {
   "cell_type": "code",
   "execution_count": null,
   "metadata": {},
   "outputs": [],
   "source": [
    "from framework.function import add, square\n",
    "from framework.variable import Variable\n",
    "\n",
    "x = Variable(np.array(3.0))\n",
    "y = add(x, x)\n",
    "y.backward()\n",
    "print('x.grad: ', x.grad)\n",
    "x.cleargrad() # 미분값 초기화\n",
    "y = add(add(x, x), x)\n",
    "y.backward()\n",
    "print('x.grad: ', x.grad)\n"
   ]
  },
  {
   "cell_type": "markdown",
   "metadata": {},
   "source": [
    "## 15 복잡한 계산 그래프 (이론)\n"
   ]
  },
  {
   "cell_type": "markdown",
   "metadata": {},
   "source": [
    "## 16 복잡한 계산 그래프 (구현)\n"
   ]
  },
  {
   "cell_type": "markdown",
   "metadata": {},
   "source": [
    "### 16.1 세대 추가\n"
   ]
  },
  {
   "cell_type": "code",
   "execution_count": 14,
   "metadata": {},
   "outputs": [
    {
     "name": "stdout",
     "output_type": "stream",
     "text": [
      "32.0\n",
      "64.0\n"
     ]
    }
   ],
   "source": [
    "from framework.variable import Variable\n",
    "from framework.function import add, square\n",
    "x = Variable(np.array(2.0))\n",
    "a = square(x)\n",
    "y = add(square(a), square(a))\n",
    "y.backward()\n",
    "print(y.data)\n",
    "print(x.grad)"
   ]
  },
  {
   "cell_type": "code",
   "execution_count": null,
   "metadata": {},
   "outputs": [],
   "source": []
  }
 ],
 "metadata": {
  "kernelspec": {
   "display_name": "ai",
   "language": "python",
   "name": "python3"
  },
  "language_info": {
   "codemirror_mode": {
    "name": "ipython",
    "version": 3
   },
   "file_extension": ".py",
   "mimetype": "text/x-python",
   "name": "python",
   "nbconvert_exporter": "python",
   "pygments_lexer": "ipython3",
   "version": "3.12.2"
  }
 },
 "nbformat": 4,
 "nbformat_minor": 2
}
