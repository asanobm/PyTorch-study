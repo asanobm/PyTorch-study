{
 "cells": [
  {
   "cell_type": "markdown",
   "metadata": {},
   "source": [
    "# 자연스러운 코드로\n",
    "\n",
    "- 가변 길이 인수 (순전파)\n",
    "- 가변 길이 인수 (개선)\n",
    "- 가변 길이 인수 (역전파)\n"
   ]
  },
  {
   "cell_type": "markdown",
   "metadata": {},
   "source": [
    "## 가변 길이 인수 (순전파)\n",
    "\n",
    "```python\n",
    "class Function:\n",
    "    def __call__(self, inputs):\n",
    "        xs = [x.data for x in inputs] # Variable 인스턴스로부터 데이터를 꺼낸다.\n",
    "        ys = self.forward(xs) # forward 메서드에서 구체적인 계산을 수행한다.\n",
    "        outputs = [Variable(as_array(y)) for y in ys] # 계산된 데이터를 Variable 인스턴스로 다시 감싼다.\n",
    "\n",
    "        for output in outputs:\n",
    "            output.set_creator(self) # 원산지 표시를 한다.\n",
    "\n",
    "        self.inputs = inputs  # 입력 변수를 기억(보관)한다.\n",
    "        self.outputs = outputs  # 출력 변수를 저장한다.\n",
    "        return outputs\n",
    "\n",
    "    def forward(self, x):\n",
    "        raise NotImplementedError()\n",
    "\n",
    "    def backward(self, gy):\n",
    "        raise NotImplementedError()\n",
    "```\n",
    "\n",
    "인수와 반환값을 리스트로 변경했다.\n"
   ]
  },
  {
   "cell_type": "markdown",
   "metadata": {},
   "source": [
    "### Add 클래스\n",
    "\n",
    "```python\n",
    "class Add(Function):\n",
    "    def forward(self, xs):\n",
    "        x0, x1 = xs\n",
    "        y = x0 + x1\n",
    "        return (y,)  # 반환값을 튜플로 묶는다.\n",
    "```\n"
   ]
  },
  {
   "cell_type": "code",
   "execution_count": null,
   "metadata": {},
   "outputs": [],
   "source": [
    "import numpy as np\n",
    "from framework.variable import Variable\n",
    "from framework.function import Add\n",
    "xs = [Variable(np.array(2)), Variable(np.array(3))]\n",
    "f = Add()\n",
    "ys = f(xs)\n",
    "y = ys[0]\n",
    "print(y.data)"
   ]
  },
  {
   "cell_type": "markdown",
   "metadata": {},
   "source": [
    "## 가변 길이 인수 (개선)\n",
    "\n",
    "### 함수를 사용하기 쉽게 개선\n",
    "\n",
    "```python\n",
    "class Function:\n",
    "  def __call__(self, *inputs):  # *를 붙여 가변 길이 인수로 변경\n",
    "    xs = [x.data for x in inputs]\n",
    "    ys = self.forward(*xs)  # 리스트 대신 언패킹하여 넘긴다.\n",
    "    if not isinstance(ys, tuple):  # 튜플이 아닌 경우 추가 지원\n",
    "      ys = (ys,)\n",
    "    outputs = [Variable(as_array(y)) for y in ys]\n",
    "\n",
    "    for output in outputs:\n",
    "      output.set_creator(self)\n",
    "    self.inputs = inputs\n",
    "    self.outputs = outputs\n",
    "    return outputs if len(outputs) > 1 else outputs[0]\n",
    "```\n"
   ]
  },
  {
   "cell_type": "code",
   "execution_count": null,
   "metadata": {},
   "outputs": [],
   "source": [
    "from framework.function import Add\n",
    "x0 = Variable(np.array(2))\n",
    "x1 = Variable(np.array(3))\n",
    "f = Add()\n",
    "y = f(x0, x1)\n",
    "print(y.data)"
   ]
  },
  {
   "cell_type": "code",
   "execution_count": 3,
   "metadata": {},
   "outputs": [
    {
     "name": "stdout",
     "output_type": "stream",
     "text": [
      "inputs:  2\n",
      "5\n"
     ]
    }
   ],
   "source": [
    "from framework.function import add\n",
    "x0 = Variable(np.array(2))\n",
    "x1 = Variable(np.array(3))\n",
    "y = add(x0, x1)\n",
    "print(y.data)"
   ]
  },
  {
   "cell_type": "code",
   "execution_count": null,
   "metadata": {},
   "outputs": [],
   "source": []
  }
 ],
 "metadata": {
  "kernelspec": {
   "display_name": "ai",
   "language": "python",
   "name": "python3"
  },
  "language_info": {
   "codemirror_mode": {
    "name": "ipython",
    "version": 3
   },
   "file_extension": ".py",
   "mimetype": "text/x-python",
   "name": "python",
   "nbconvert_exporter": "python",
   "pygments_lexer": "ipython3",
   "version": "3.12.2"
  }
 },
 "nbformat": 4,
 "nbformat_minor": 2
}
