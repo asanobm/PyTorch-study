{
 "cells": [
  {
   "cell_type": "markdown",
   "metadata": {},
   "source": [
    "# 학습 관련 기술"
   ]
  },
  {
   "cell_type": "markdown",
   "metadata": {},
   "source": [
    "## 6.1 매개변수 갱신\n",
    "\n",
    "### 6.1.1 확률적 경사 하강법(SGD)\n",
    "\n",
    "$$ W \\leftarrow W - \\eta \\frac{\\partial L}{\\partial W} $$\n",
    "\n",
    "- W: 갱신할 가중치 매개변수\n",
    "- $\\frac{\\partial L}{\\partial W}$: W에 대한 손실 함수의 기울기\n",
    "- $\\eta$: 학습률\n",
    "- $\\leftarrow$: 우변의 값으로 좌변의 값을 갱신"
   ]
  },
  {
   "cell_type": "code",
   "execution_count": 1,
   "metadata": {},
   "outputs": [],
   "source": [
    "# SGD 구현\n",
    "\n",
    "class SGD:\n",
    "  \"\"\"Stochastic Gradient Descent\n",
    "  \n",
    "  Description:\n",
    "    합습률을 인수로 받아 객체를 초기화한다.\n",
    "\n",
    "  Methods:\n",
    "    * __init__(lr=0.01): 학습률을 초기화한다.\n",
    "    * update(params, grads): 매개변수와 기울기를 받아 매개변수를 갱신한다.\n",
    "  \"\"\"\n",
    "  def __init__(self, lr=0.01):\n",
    "    self.lr = lr\n",
    "    \n",
    "  def update(self, params, grads):\n",
    "    for key in params.keys():\n",
    "      params[key] -= self.lr * grads[key]\n"
   ]
  },
  {
   "cell_type": "markdown",
   "metadata": {},
   "source": [
    "**SGD사용법**\n",
    "```python\n",
    "networks = TwoLayerNet(...)\n",
    "optimizer = SGD(lr=0.01)\n",
    "\n",
    "for i in range(10000):\n",
    "    ...\n",
    "    x_batch, t_batch = get_mini_batch(...) # 미니배치 획득\n",
    "    loss = networks.loss(x_batch, t_batch)\n",
    "    networks.backward()\n",
    "    optimizer.update(networks.params, networks.grads)\n",
    "    ...\n",
    "```"
   ]
  },
  {
   "cell_type": "code",
   "execution_count": 2,
   "metadata": {},
   "outputs": [],
   "source": []
  },
  {
   "cell_type": "code",
   "execution_count": null,
   "metadata": {},
   "outputs": [],
   "source": []
  }
 ],
 "metadata": {
  "kernelspec": {
   "display_name": "ai",
   "language": "python",
   "name": "python3"
  },
  "language_info": {
   "codemirror_mode": {
    "name": "ipython",
    "version": 3
   },
   "file_extension": ".py",
   "mimetype": "text/x-python",
   "name": "python",
   "nbconvert_exporter": "python",
   "pygments_lexer": "ipython3",
   "version": "3.11.0"
  }
 },
 "nbformat": 4,
 "nbformat_minor": 2
}
