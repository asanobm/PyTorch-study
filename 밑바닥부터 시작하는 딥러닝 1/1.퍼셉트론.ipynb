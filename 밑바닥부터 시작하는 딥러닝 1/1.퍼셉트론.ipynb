{
 "cells": [
  {
   "cell_type": "markdown",
   "metadata": {},
   "source": [
    "# 퍼셉트론\n",
    "\n",
    "퍼셉트론이 신경망(딥러닝)의 기원이 되는 알고리즘이다.\n",
    "\n",
    "## 퍼셉트론이란?\n",
    "페셉트론(Percetron)은 다수의 신호를 입력으로 받아 하나의 신호를 출력한다.\n",
    "입력 신호에는 각각 고유한 가중치가 곱해지고, 이들의 가중치의 합이 정해진 한계를 넘을 때만 1을 출력한다. 이를 '뉴런'이라고 부르며, 이는 신경세포와 유사하다.\n",
    "```mermaid\n",
    "graph LR\n",
    "X1((x1)) -->|w1| Y((y))\n",
    "X2((x2)) -->|w2| Y((y))\n",
    "```\n",
    "\n",
    "x1, x2는 입력신호, y는 출력신호, w1, w2는 가중치를 뜻한다.\n",
    "\n",
    "그림의 원을 뉴런(노드)라고 부른다\n",
    "\n",
    "입력 신호가 뉴런에 보내질 대는 각각 고유의 *가중치*가 곱해진다. 뉴런에서 보내운 신호의 총합이 정해진 한계를 넘어설 때 1을 출력한다. \n",
    "\n",
    "이를 '뉴런을 활성화한다'라고 표현하고, 이 한계를 *임계값*($\\theta$)이라고 부른다.\n",
    "\n",
    "$$\n",
    "y = \\begin{cases} 0 & (w_1x_1 + w_2x_2 \\le \\theta) \\\\ 1 & (w_1x_1 + w_2x_2 > \\theta) \\end{cases}\n",
    "$$\n",
    "\n",
    "퍼셉트론은 복수의 입력 신호 각각에 고유한 가중치를 부여한다. 이때, 가중치는 각 신호가 결과에 주는 영향력을 조절하는 요소로 작용한다. 즉, 가중치가 클수록 해당 신호가 그만큼 더 중요함을 뜻한다."
   ]
  },
  {
   "cell_type": "markdown",
   "metadata": {},
   "source": [
    "## 2.2. 단순한 논리 회로\n",
    "\n",
    "### 2.2.1. AND 게이트\n",
    "AND 게이트는 두 입력이 모두 1일 때만 1을 출력하고, 그 외에는 0을 출력한다.\n",
    "\n",
    "| x1 | x2 | y |\n",
    "|----|----|---|\n",
    "| 0  | 0  | 0 |\n",
    "| 1  | 0  | 0 |\n",
    "| 0  | 1  | 0 |\n",
    "| 1  | 1  | 1 |\n",
    "\n",
    "이 AND 게이트를 퍼셉트론으로 표현하면 w1, w2, $\\theta$의 값을 논리표대로 작동하도록 설정하면 된다.\n",
    "\n",
    "이를 만족 시키는 매개변수 조합은 무한히 많다. 예를 들어, (w1, w2, $\\theta$) = (0.5, 0.5, 0.7)이나 (1.0, 1.0, 1.0) 등이 있다."
   ]
  },
  {
   "cell_type": "markdown",
   "metadata": {},
   "source": [
    "### 2.2.2. NAND 게이트와 OR 게이트\n",
    "\n",
    "NAND 게이트는 Not AND를 의미하며, AND 게이트의 출력을 뒤집은 것이다. 즉, 두 입력이 모두 1일 때만 0을 출력하고, 그 외에는 1을 출력한다.\n",
    "\n",
    "| x1 | x2 | y |\n",
    "|----|----|---|\n",
    "| 0  | 0  | 1 |\n",
    "| 1  | 0  | 1 |\n",
    "| 0  | 1  | 1 |\n",
    "| 1  | 1  | 0 |\n",
    "\n",
    "NAND 게이트를 퍼셉트론으로 표현하면 AND 게이트의 매개변수의 부호를 모두 반전하면 된다.\n",
    "\n",
    "OR 게이트는 입력 신호 중 하나 이상이 1이면 출력이 1이 되는 논리 회로이다.\n",
    "\n",
    "| x1 | x2 | y |\n",
    "|----|----|---|\n",
    "| 0  | 0  | 0 |\n",
    "| 1  | 0  | 1 |\n",
    "| 0  | 1  | 1 |\n",
    "| 1  | 1  | 1 |\n",
    "\n",
    "OR 게이트를 퍼셉트론으로 표현하면 AND 게이트의 매개변수의 부호를 모두 양수로 하면 된다."
   ]
  },
  {
   "cell_type": "markdown",
   "metadata": {},
   "source": [
    "## 2.3. 퍼셉트론 구현하기\n",
    "\n",
    "### 2.3.1. AND 게이트 구현하기\n",
    "\n",
    "다음 식을 파이썬으로 구현하면 된다.\n",
    "$$\n",
    "AND(x_1, x_2) = \\begin{cases} 0 & (0.5x_1 + 0.5x_2 \\le 0.7) \\\\ 1 & (0.5x_1 + 0.5x_2 > 0.7) \\end{cases}\n",
    "$$\n",
    "\n",
    "AND에 0, 0을 입력했을 때: $0.5 \\times 0 + 0.5 \\times 0 = 0 \\le 0.7$\n",
    "\n",
    "AND에 1, 0을 입력했을 때: $0.5 \\times 1 + 0.5 \\times 0 = 0.5 \\le 0.7$\n",
    "\n",
    "AND에 0, 1을 입력했을 때: $0.5 \\times 0 + 0.5 \\times 1 = 0.5 \\le 0.7$\n",
    "\n",
    "AND에 1, 1을 입력했을때: $0.5 \\times 1 + 0.5 \\times 1 = 1 > 0.7$"
   ]
  },
  {
   "cell_type": "code",
   "execution_count": 6,
   "metadata": {},
   "outputs": [
    {
     "name": "stdout",
     "output_type": "stream",
     "text": [
      "AND(0, 0) = 0\n",
      "AND(1, 0) = 0\n",
      "AND(0, 1) = 0\n",
      "AND(1, 1) = 1\n"
     ]
    }
   ],
   "source": [
    "def AND(x1, x2):\n",
    "  w1, w2, theta = 0.5, 0.5, 0.7\n",
    "  tmp = x1*w1 + x2*w2\n",
    "  if tmp <= theta:\n",
    "    return 0\n",
    "  elif tmp > theta:\n",
    "    return 1\n",
    "  \n",
    "print(f\"AND(0, 0) = {AND(0, 0)}\")\n",
    "print(f\"AND(1, 0) = {AND(1, 0)}\")\n",
    "print(f\"AND(0, 1) = {AND(0, 1)}\")\n",
    "print(f\"AND(1, 1) = {AND(1, 1)}\")"
   ]
  },
  {
   "cell_type": "markdown",
   "metadata": {},
   "source": [
    "### 2.3.2. 가중치와 편향 도입\n",
    "\n",
    "편향을 도입하면 식이 다음과 같이 변한다.\n",
    "$$\n",
    "y = \\begin{cases} 0 & (b + w_1x_1 + w_2x_2 \\le 0) \\\\ 1 & (b + w_1x_1 + w_2x_2 > 0) \\end{cases}\n",
    "$$\n",
    "\n",
    "b를 편향(bias)이라고 하며, 뉴런이 얼마나 쉽게 활성화되는지를 제어한다.\n",
    "\n",
    "퍼셉트론은 입력 신호에 가중치를 곱한 값과 편향을 합하여, 그 값이 0을 넘으면 1을 출력하고 그렇지 않으면 0을 출력한다."
   ]
  },
  {
   "cell_type": "markdown",
   "metadata": {},
   "source": [
    "### 2.3.3. 가중치와 편향 구현하기\n",
    "\n",
    "가중치와 편향을 도입한 AND 게이트는 다음과 같이 구현할 수 있다."
   ]
  },
  {
   "cell_type": "code",
   "execution_count": 7,
   "metadata": {},
   "outputs": [
    {
     "name": "stdout",
     "output_type": "stream",
     "text": [
      "AND tmp: -0.7\n",
      "AND(0, 0) = 0\n",
      "AND tmp: -0.19999999999999996\n",
      "AND(1, 0) = 0\n",
      "AND tmp: -0.19999999999999996\n",
      "AND(0, 1) = 0\n",
      "AND tmp: 0.30000000000000004\n",
      "AND(1, 1) = 1\n"
     ]
    }
   ],
   "source": [
    "import numpy as np\n",
    "def AND(x1, x2):\n",
    "  x = np.array([x1, x2])\n",
    "  w = np.array([0.5, 0.5])\n",
    "  b = -0.7\n",
    "  tmp = np.sum(w*x) + b\n",
    "  print(f\"AND tmp: {tmp}\")\n",
    "  if tmp <= 0:\n",
    "    return 0\n",
    "  else:\n",
    "    return 1\n",
    "\n",
    "print(f\"AND(0, 0) = {AND(0, 0)}\")\n",
    "print(f\"AND(1, 0) = {AND(1, 0)}\")\n",
    "print(f\"AND(0, 1) = {AND(0, 1)}\")\n",
    "print(f\"AND(1, 1) = {AND(1, 1)}\")"
   ]
  },
  {
   "cell_type": "markdown",
   "metadata": {},
   "source": [
    "$\\theta$가 편향(bias)로 치환되었고, $w_1, w_2$는 가중치로 치환되었다.\n",
    "\n",
    "가중치는 입력 신호가 결과에 주는 *영향력*을 조절하는 매개변수이고, 편향은 뉴런이 얼마나 쉽게 *활성화*되는지를 조정하는 매개변수이다."
   ]
  },
  {
   "cell_type": "code",
   "execution_count": 8,
   "metadata": {},
   "outputs": [
    {
     "name": "stdout",
     "output_type": "stream",
     "text": [
      "NAND tmp: 0.7\n",
      "NAND(0, 0) = 1\n",
      "NAND tmp: 0.19999999999999996\n",
      "NAND(1, 0) = 1\n",
      "NAND tmp: 0.19999999999999996\n",
      "NAND(0, 1) = 1\n",
      "NAND tmp: -0.30000000000000004\n",
      "NAND(1, 1) = 0\n"
     ]
    }
   ],
   "source": [
    "# NAND\n",
    "def NAND(x1, x2):\n",
    "  x = np.array([x1, x2])\n",
    "  w = np.array([-0.5, -0.5]) # ANDの重みとバイアスだけが異なる\n",
    "  b = 0.7 # ANDのバイアスと異なる\n",
    "  tmp = np.sum(w*x) + b\n",
    "  print(f\"NAND tmp: {tmp}\")\n",
    "  if tmp <= 0:\n",
    "    return 0\n",
    "  else:\n",
    "    return 1\n",
    "\n",
    "print(f\"NAND(0, 0) = {NAND(0, 0)}\")\n",
    "print(f\"NAND(1, 0) = {NAND(1, 0)}\")\n",
    "print(f\"NAND(0, 1) = {NAND(0, 1)}\")\n",
    "print(f\"NAND(1, 1) = {NAND(1, 1)}\")"
   ]
  },
  {
   "cell_type": "code",
   "execution_count": 9,
   "metadata": {},
   "outputs": [
    {
     "name": "stdout",
     "output_type": "stream",
     "text": [
      "OR tmp: -0.2\n",
      "OR(0, 0) = 0\n",
      "OR tmp: 0.3\n",
      "OR(1, 0) = 1\n",
      "OR tmp: 0.3\n",
      "OR(0, 1) = 1\n",
      "OR tmp: 0.8\n",
      "OR(1, 1) = 1\n"
     ]
    }
   ],
   "source": [
    "# OR\n",
    "def OR(x1, x2):\n",
    "  x = np.array([x1, x2])\n",
    "  w = np.array([0.5, 0.5]) # ANDの重みとバイアスだけが異なる\n",
    "  b = -0.2 # ANDのバイアスと異なる\n",
    "  tmp = np.sum(w*x) + b\n",
    "  print(f\"OR tmp: {tmp}\")\n",
    "  if tmp <= 0:\n",
    "    return 0\n",
    "  else:\n",
    "    return 1\n",
    "\n",
    "print(f\"OR(0, 0) = {OR(0, 0)}\")\n",
    "print(f\"OR(1, 0) = {OR(1, 0)}\")\n",
    "print(f\"OR(0, 1) = {OR(0, 1)}\")\n",
    "print(f\"OR(1, 1) = {OR(1, 1)}\")\n"
   ]
  },
  {
   "cell_type": "markdown",
   "metadata": {},
   "source": [
    "## 2.4. 퍼셉트론의 한계\n",
    "\n",
    "### 2.4.1. XOR 게이트\n",
    "\n",
    "XOR 게이트는 배타적 논리합이라는 논리 회로이다. x1과 x2 중 한쪽이 1일 때만 1을 출력한다.\n",
    "\n",
    "| x1 | x2 | y |\n",
    "|----|----|---|\n",
    "| 0  | 0  | 0 |\n",
    "| 1  | 0  | 1 |\n",
    "| 0  | 1  | 1 |\n",
    "| 1  | 1  | 0 |\n",
    "\n",
    "XOR 게이트는 단층 퍼셉트론으로는 표현할 수 없다. 즉, 직선 하나로 영역을 나누는 것은 불가능하다.\n",
    "\n",
    "* OR 게이트의 동작은 가중치가 (b, w1, w2) = (-0.5, 1.0, 1.0)인 직선으로 영역을 나누는 것이 가능하다.\n",
    "* AND 게이트의 동작은 가중치가 (b, w1, w2) = (-0.7, 0.5, 0.5)인 직선으로 영역을 나누는 것이 가능하다.\n",
    "* NAND 게이트의 동작은 가중치가 (b, w1, w2) = (0.7, -0.5, -0.5)인 직선으로 영역을 나누는 것이 가능하다.\n",
    "* XOR 게이트의 동작은 직선 하나로 영역을 나누는 것이 불가능하다. (선을 두개 그으면 안되나?ㅋ)"
   ]
  },
  {
   "cell_type": "markdown",
   "metadata": {},
   "source": [
    "### 2.4.2. 선형과 비선형\n",
    "\n",
    "* 직선 하나로 영역을 나누는 것을 *선형*이라고 하고, 그렇지 않은 것을 *비선형*이라고 한다.\n",
    "* 퍼셉트론은 직선 하나로 나눈 영역만 표현할 수 있다. 즉, 비선형 영역은 표현할 수 없다."
   ]
  },
  {
   "cell_type": "markdown",
   "metadata": {},
   "source": [
    "## 2.5. 다층 퍼셉트론이 출동한다면\n",
    "\n",
    "퍼셉트론을 여러 개 쌓아올리면 `다층 퍼셉트론`이 된다. 즉, 층을 쌓아올린 퍼셉트론이다. 이 다층 퍼셉트론은 XOR 게이트를 표현할 수 있다.\n",
    "\n",
    "### 2.5.1. 기존 게이트 조합하기\n",
    "\n",
    "```mermaid\n",
    "graph LR\n",
    "  x1((x1))\n",
    "  x2((x2))\n",
    "  nand(NAND)\n",
    "  or(OR)\n",
    "  and(AND)\n",
    "\n",
    "  x1 --> nand\n",
    "  x2 --> nand\n",
    "\n",
    "  x1 --> or\n",
    "  x2 --> or\n",
    "\n",
    "  nand -->|s1| and\n",
    "  or -->|s2| and\n",
    "\n",
    "  and --> y((y))\n",
    "```\n",
    "\n",
    "*XOR 게이트 진리표*\n",
    "| x1 | x2 | s1 | s2 | y |\n",
    "|----|----|----|----|---|\n",
    "| 0  | 0  | 1  | 0  | 0 |\n",
    "| 1  | 0  | 1  | 1  | 1 |\n",
    "| 0  | 1  | 1  | 1  | 1 |\n",
    "| 1  | 1  | 0  | 1  | 0 |\n",
    "  "
   ]
  },
  {
   "cell_type": "code",
   "execution_count": 11,
   "metadata": {},
   "outputs": [
    {
     "name": "stdout",
     "output_type": "stream",
     "text": [
      "XOR(0, 0)\n",
      "NAND tmp: 0.7\n",
      "OR tmp: -0.2\n",
      "AND tmp: -0.19999999999999996\n",
      "XOR(0, 0) = 0\n",
      "XOR(1, 0)\n",
      "NAND tmp: 0.19999999999999996\n",
      "OR tmp: 0.3\n",
      "AND tmp: 0.30000000000000004\n",
      "XOR(1, 0) = 1\n",
      "XOR(0, 1)\n",
      "NAND tmp: 0.19999999999999996\n",
      "OR tmp: 0.3\n",
      "AND tmp: 0.30000000000000004\n",
      "XOR(0, 1) = 1\n",
      "XOR(1, 1)\n",
      "NAND tmp: -0.30000000000000004\n",
      "OR tmp: 0.8\n",
      "AND tmp: -0.19999999999999996\n",
      "XOR(1, 1) = 0\n"
     ]
    }
   ],
   "source": [
    "# XOR\n",
    "def XOR(x1, x2):\n",
    "  print(f\"XOR({x1}, {x2})\")\n",
    "  s1 = NAND(x1, x2)\n",
    "  s2 = OR(x1, x2)\n",
    "  y = AND(s1, s2)\n",
    "  return y\n",
    "\n",
    "print(f\"XOR(0, 0) = {XOR(0, 0)}\")\n",
    "print(f\"XOR(1, 0) = {XOR(1, 0)}\")\n",
    "print(f\"XOR(0, 1) = {XOR(0, 1)}\")\n",
    "print(f\"XOR(1, 1) = {XOR(1, 1)}\")"
   ]
  },
  {
   "cell_type": "markdown",
   "metadata": {},
   "source": []
  }
 ],
 "metadata": {
  "kernelspec": {
   "display_name": "ai",
   "language": "python",
   "name": "python3"
  },
  "language_info": {
   "codemirror_mode": {
    "name": "ipython",
    "version": 3
   },
   "file_extension": ".py",
   "mimetype": "text/x-python",
   "name": "python",
   "nbconvert_exporter": "python",
   "pygments_lexer": "ipython3",
   "version": "3.11.0"
  }
 },
 "nbformat": 4,
 "nbformat_minor": 2
}
