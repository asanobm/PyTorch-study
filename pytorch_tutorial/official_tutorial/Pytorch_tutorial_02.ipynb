{
 "cells": [
  {
   "cell_type": "markdown",
   "id": "6993c7902d603b4c",
   "metadata": {
    "collapsed": false
   },
   "source": [
    "# 텐서 (Tensor)\n",
    "\n",
    "텐서(Tenser)는 배열(array)이나 행렬(matrix)과 매우 유사한 특수한 자료구조 입니다. Pytorch에서는 텐서를 사용하여 모델의 입력(input)과 출력(output), 그리고 모델의 매개변수들을 부호화(encode)합니다.\n",
    "\n",
    "텐서는 GPU나 다른 하드웨어 가속기에서 실행할 수 있다는 점만 제외하면 *NumPy*의 ndarray와 유사합니다. 실제로 텐서와 NumPy배열(array)은 종종 동일한 내부(underly)메모리를 공유할 수 있어 데이터를 복사할 필요가 없습니다.(*Numpy 변환(Bridge)*) 텐서는 또한 자동 미분(automatic differentiation)에 최적화 되어 있습니다.ndarray에 익숙하다면 Tensor API를 바로 사용할 수 있습니다."
   ]
  },
  {
   "cell_type": "code",
   "execution_count": 1,
   "id": "2c9528fc446a61e2",
   "metadata": {
    "collapsed": false,
    "ExecuteTime": {
     "end_time": "2024-01-20T06:49:21.049357Z",
     "start_time": "2024-01-20T06:49:20.392248Z"
    }
   },
   "outputs": [],
   "source": [
    "import torch\n",
    "import numpy as np"
   ]
  },
  {
   "cell_type": "markdown",
   "id": "96e183bb7322813e",
   "metadata": {
    "collapsed": false
   },
   "source": [
    "## 텐서(Tensor) 초기화\n",
    "\n",
    "텐서는 여러가지 방법으로 초기화 할 수 있습니다."
   ]
  },
  {
   "cell_type": "markdown",
   "id": "f4905eea445caf71",
   "metadata": {
    "collapsed": false
   },
   "source": [
    "## 데이터로부터 직접(Directly) 생성하기\n",
    "\n",
    "데이터로부터 직접 텐서를 생성할 수 있습니다. 데이터의 자료형(data type)은 자동으로 유추합니다."
   ]
  },
  {
   "cell_type": "code",
   "execution_count": 2,
   "id": "c82ea629a642bf22",
   "metadata": {
    "collapsed": false,
    "ExecuteTime": {
     "end_time": "2024-01-20T06:49:21.054175Z",
     "start_time": "2024-01-20T06:49:21.051010Z"
    }
   },
   "outputs": [
    {
     "data": {
      "text/plain": "tensor([[1, 2],\n        [3, 4]])"
     },
     "execution_count": 2,
     "metadata": {},
     "output_type": "execute_result"
    }
   ],
   "source": [
    "data = [[1, 2],[3, 4]]\n",
    "x_data = torch.tensor(data)\n",
    "x_data"
   ]
  },
  {
   "cell_type": "markdown",
   "id": "a222179fa9aa2686",
   "metadata": {
    "collapsed": false
   },
   "source": [
    "## Numpy 배열로부터 생성하기\n",
    "\n",
    "텐서는 NumPy배열로 생성할 수 있습니다. (그 반대도 가능합니다)"
   ]
  },
  {
   "cell_type": "code",
   "execution_count": 3,
   "id": "9cbfc3d0d1599cb",
   "metadata": {
    "collapsed": false,
    "ExecuteTime": {
     "end_time": "2024-01-20T06:49:21.058775Z",
     "start_time": "2024-01-20T06:49:21.054768Z"
    }
   },
   "outputs": [
    {
     "data": {
      "text/plain": "tensor([[1, 2],\n        [3, 4]])"
     },
     "execution_count": 3,
     "metadata": {},
     "output_type": "execute_result"
    }
   ],
   "source": [
    "np_array = np.array(data)\n",
    "x_np = torch.from_numpy(np_array)\n",
    "x_np"
   ]
  },
  {
   "cell_type": "markdown",
   "id": "3c2b63df162b4ee9",
   "metadata": {
    "collapsed": false
   },
   "source": [
    "## 다른 텐서로부터 생성하기\n",
    "\n",
    "명시적으로 재정의(override)하지 않는다면, 인자로 주어진 텐서의 속성(모양(shape), 자료형(datatype))을 유지합니다."
   ]
  },
  {
   "cell_type": "code",
   "execution_count": 4,
   "id": "238d960549c3d8d3",
   "metadata": {
    "collapsed": false,
    "ExecuteTime": {
     "end_time": "2024-01-20T06:49:21.062573Z",
     "start_time": "2024-01-20T06:49:21.058673Z"
    }
   },
   "outputs": [
    {
     "name": "stdout",
     "output_type": "stream",
     "text": [
      "Ones Tensor: \n",
      " tensor([[1, 1],\n",
      "        [1, 1]]) \n",
      "\n",
      "Random Tensor: \n",
      " tensor([[0.1563, 0.7534],\n",
      "        [0.6269, 0.6451]]) \n"
     ]
    }
   ],
   "source": [
    "x_ones = torch.ones_like(x_data)\n",
    "print(f\"Ones Tensor: \\n {x_ones} \\n\")\n",
    "\n",
    "x_rand = torch.rand_like(x_data, dtype=torch.float)\n",
    "print(f\"Random Tensor: \\n {x_rand} \\n\")"
   ]
  },
  {
   "cell_type": "markdown",
   "id": "3cd92c9c73a852df",
   "metadata": {
    "collapsed": false
   },
   "source": [
    "## 무작위(Random) 또는 상수(Constant) 값을 사용하기\n",
    "\n",
    "`shape`는 텐서의 차원(dimension)을 나타내는 튜플(tuple)입니다."
   ]
  },
  {
   "cell_type": "code",
   "execution_count": 5,
   "id": "e7168b4e2c36f63e",
   "metadata": {
    "collapsed": false,
    "ExecuteTime": {
     "end_time": "2024-01-20T06:49:21.066642Z",
     "start_time": "2024-01-20T06:49:21.063413Z"
    }
   },
   "outputs": [
    {
     "name": "stdout",
     "output_type": "stream",
     "text": [
      "Random Tensor: \n",
      " tensor([[0.9312, 0.3207, 0.2003],\n",
      "        [0.2806, 0.8185, 0.2184]]) \n",
      "\n",
      "Ones Tensor: \n",
      " tensor([[1., 1., 1.],\n",
      "        [1., 1., 1.]]) \n",
      "\n",
      "Zeros Tensor: \n",
      " tensor([[0., 0., 0.],\n",
      "        [0., 0., 0.]])\n"
     ]
    }
   ],
   "source": [
    "shape = (2,3,)\n",
    "rand_tensor = torch.rand(shape)\n",
    "ones_tensor = torch.ones(shape)\n",
    "zeros_tensor = torch.zeros(shape)\n",
    "\n",
    "print(f\"Random Tensor: \\n {rand_tensor} \\n\")\n",
    "print(f\"Ones Tensor: \\n {ones_tensor} \\n\")\n",
    "print(f\"Zeros Tensor: \\n {zeros_tensor}\")"
   ]
  },
  {
   "cell_type": "markdown",
   "id": "bd55acff78666e0",
   "metadata": {
    "collapsed": false
   },
   "source": [
    "## 텐서의 속성(Attribute)\n",
    "\n",
    "텐서의 속성은 텐서의 모양(shape), 자료형(datatype) 및 어느 장치에 저장되는지를 나타냅니다."
   ]
  },
  {
   "cell_type": "code",
   "execution_count": 6,
   "id": "aaa30f5061ba517a",
   "metadata": {
    "collapsed": false,
    "ExecuteTime": {
     "end_time": "2024-01-20T06:49:21.070278Z",
     "start_time": "2024-01-20T06:49:21.067242Z"
    }
   },
   "outputs": [
    {
     "name": "stdout",
     "output_type": "stream",
     "text": [
      "Shape of tensor: torch.Size([3, 4])\n",
      "Datatype of tensor: torch.float32\n",
      "Device tensor is stored on: cpu\n"
     ]
    }
   ],
   "source": [
    "tensor = torch.rand(3,4)\n",
    "\n",
    "print(f\"Shape of tensor: {tensor.shape}\")\n",
    "print(f\"Datatype of tensor: {tensor.dtype}\")\n",
    "print(f\"Device tensor is stored on: {tensor.device}\")"
   ]
  },
  {
   "cell_type": "markdown",
   "id": "44263ef4eacc55d1",
   "metadata": {
    "collapsed": false
   },
   "source": [
    "## 텐서 연산(Operation)\n",
    "\n",
    "전치(transposing), 인덱싱(indexing), 슬라이싱(slicing), 수학계산, 선형대수, 임의 샘플링(random sampling)등, 100가지 이상의 텐서 연산을 [여기](https://pytorch.org/docs/stable/torch.html)에서 확인할 수 있습니다. 각 연산은 CPU나 GPU같은 장치(device)에서 실행할 수 있습니다. 기본적으로 텐서는 CPU에서 생성되며, `.to`메소드를 사용하여 명시적으로 GPU로 옮길 수 있습니다. 장치들 간에 텐서들을 복사하는 것은 시간과 메모리 측면에서 비용이 많이 발생합니다."
   ]
  },
  {
   "cell_type": "code",
   "execution_count": 7,
   "id": "5dfc812102b650f6",
   "metadata": {
    "collapsed": false,
    "ExecuteTime": {
     "end_time": "2024-01-20T06:49:21.073971Z",
     "start_time": "2024-01-20T06:49:21.069927Z"
    }
   },
   "outputs": [],
   "source": [
    "# We move our tensor to the GPU if available\n",
    "if torch.cuda.is_available():\n",
    "  tensor = tensor.to('cuda')"
   ]
  },
  {
   "cell_type": "markdown",
   "id": "4bc3c213",
   "metadata": {},
   "source": [
    "목록에서 몇몇 연산들을 시도 합니다."
   ]
  },
  {
   "cell_type": "markdown",
   "id": "9aa668e6",
   "metadata": {},
   "source": [
    "### NumPy식의 표준 인덱싱과 슬라이싱"
   ]
  },
  {
   "cell_type": "code",
   "execution_count": 8,
   "id": "192f5ba7",
   "metadata": {
    "ExecuteTime": {
     "end_time": "2024-01-20T06:49:21.125044Z",
     "start_time": "2024-01-20T06:49:21.071798Z"
    }
   },
   "outputs": [
    {
     "name": "stdout",
     "output_type": "stream",
     "text": [
      "First row:  tensor([1., 1., 1., 1.])\n",
      "First column:  tensor([1., 1., 1., 1.])\n",
      "Last column: tensor([1., 1., 1., 1.])\n",
      "tensor([[1., 0., 1., 1.],\n",
      "        [1., 0., 1., 1.],\n",
      "        [1., 0., 1., 1.],\n",
      "        [1., 0., 1., 1.]])\n"
     ]
    }
   ],
   "source": [
    "tensor = torch.ones(4, 4)\n",
    "\n",
    "print('First row: ',tensor[0])\n",
    "print('First column: ', tensor[:, 0])\n",
    "print('Last column:', tensor[..., -1])\n",
    "tensor[:,1]=0\n",
    "print(tensor)"
   ]
  },
  {
   "cell_type": "markdown",
   "id": "7b3ba689",
   "metadata": {},
   "source": [
    "### 텐서 합치기\n",
    "\n",
    "`torch.cat`을 사용하여 주어진 차원에 따라 일련의 텐서를 연결(concatenate)합니다. `torch.cat`과 Python의 슬라이싱(slicing)을 함께 사용하면, 쉽게 텐서를 분할(half)하거나 연결(concatenate)할 수 있습니다."
   ]
  },
  {
   "cell_type": "code",
   "execution_count": 9,
   "id": "b9ca81f4",
   "metadata": {
    "ExecuteTime": {
     "end_time": "2024-01-20T06:49:21.125470Z",
     "start_time": "2024-01-20T06:49:21.076870Z"
    }
   },
   "outputs": [
    {
     "name": "stdout",
     "output_type": "stream",
     "text": [
      "tensor([[1., 0., 1., 1., 1., 0., 1., 1., 1., 0., 1., 1.],\n",
      "        [1., 0., 1., 1., 1., 0., 1., 1., 1., 0., 1., 1.],\n",
      "        [1., 0., 1., 1., 1., 0., 1., 1., 1., 0., 1., 1.],\n",
      "        [1., 0., 1., 1., 1., 0., 1., 1., 1., 0., 1., 1.]])\n"
     ]
    }
   ],
   "source": [
    "t1 = torch.cat([tensor, tensor, tensor], dim=1)\n",
    "print(t1)"
   ]
  },
  {
   "cell_type": "markdown",
   "id": "33b335e9",
   "metadata": {},
   "source": [
    "### 산술 연산(Arithmetic operations)"
   ]
  },
  {
   "cell_type": "code",
   "execution_count": 10,
   "id": "811e73d7",
   "metadata": {
    "ExecuteTime": {
     "end_time": "2024-01-20T06:49:21.126132Z",
     "start_time": "2024-01-20T06:49:21.080429Z"
    }
   },
   "outputs": [
    {
     "data": {
      "text/plain": "tensor([[1., 0., 1., 1.],\n        [1., 0., 1., 1.],\n        [1., 0., 1., 1.],\n        [1., 0., 1., 1.]])"
     },
     "execution_count": 10,
     "metadata": {},
     "output_type": "execute_result"
    }
   ],
   "source": [
    "# 두 텐서 간의 행렬 곱(matrix multiplication)을 계산합니다.\n",
    "# `tensor.T` 는 텐서의 전치(transpose)를 반환합니다.\n",
    "\n",
    "y1 = tensor @ tensor.T\n",
    "y2 = tensor.matmul(tensor.T)\n",
    "\n",
    "# 요소별 곱(element-wise product)을 계산합니다.\n",
    "z1 = tensor * tensor\n",
    "z2 = tensor.mul(tensor)\n",
    "\n",
    "z3 = torch.rand_like(tensor)\n",
    "torch.mul(tensor, tensor, out=z3)"
   ]
  },
  {
   "cell_type": "markdown",
   "id": "7188d672",
   "metadata": {},
   "source": [
    "### 단일 요소(single-element) 텐서\n",
    "\n",
    "텐서의 모든 값을 하나로 집계(aggregate)하여 요소가 하나인 텐서의 경우, `item()`을 사용하여 Python 숫자 값으로 변환할 수 있습니다."
   ]
  },
  {
   "cell_type": "code",
   "execution_count": 11,
   "id": "4282b243",
   "metadata": {
    "ExecuteTime": {
     "end_time": "2024-01-20T06:49:21.126459Z",
     "start_time": "2024-01-20T06:49:21.084584Z"
    }
   },
   "outputs": [
    {
     "name": "stdout",
     "output_type": "stream",
     "text": [
      "12.0 <class 'float'>\n"
     ]
    }
   ],
   "source": [
    "agg = tensor.sum()\n",
    "agg_item = agg.item()\n",
    "print(agg_item, type(agg_item))"
   ]
  },
  {
   "cell_type": "markdown",
   "id": "0c530a37",
   "metadata": {},
   "source": [
    "### In-place 연산\n",
    "\n",
    "연산 결과를 피연산자(operand)에 저장하는 연산(in-place operation)은 `_`를 접미사(suffix)로 갖습니다. 예: `x.copy_(y)`, `x.t_()`는 `x`가 변경됨을 나타냅니다."
   ]
  },
  {
   "cell_type": "code",
   "execution_count": 12,
   "id": "ad46f349",
   "metadata": {
    "ExecuteTime": {
     "end_time": "2024-01-20T06:49:21.126960Z",
     "start_time": "2024-01-20T06:49:21.087380Z"
    }
   },
   "outputs": [
    {
     "name": "stdout",
     "output_type": "stream",
     "text": [
      "tensor([[1., 0., 1., 1.],\n",
      "        [1., 0., 1., 1.],\n",
      "        [1., 0., 1., 1.],\n",
      "        [1., 0., 1., 1.]]) \n",
      "\n",
      "tensor([[6., 5., 6., 6.],\n",
      "        [6., 5., 6., 6.],\n",
      "        [6., 5., 6., 6.],\n",
      "        [6., 5., 6., 6.]])\n"
     ]
    }
   ],
   "source": [
    "print(tensor, \"\\n\")\n",
    "tensor.add_(5)\n",
    "print(tensor)"
   ]
  },
  {
   "cell_type": "markdown",
   "id": "67815c95",
   "metadata": {},
   "source": [
    "NumPy 변환 (Bridge)\n",
    "\n",
    "CPU 상의 모든 텐서는 NumPy로 변환할 수 있고, 반대로 NumPy 배열은 텐서로 변환할 수 있습니다."
   ]
  },
  {
   "cell_type": "code",
   "execution_count": 13,
   "id": "6d65de4b",
   "metadata": {
    "ExecuteTime": {
     "end_time": "2024-01-20T06:49:21.127308Z",
     "start_time": "2024-01-20T06:49:21.090704Z"
    }
   },
   "outputs": [
    {
     "name": "stdout",
     "output_type": "stream",
     "text": [
      "t: tensor([1., 1., 1., 1., 1.])\n",
      "n: [1. 1. 1. 1. 1.]\n"
     ]
    }
   ],
   "source": [
    "t = torch.ones(5)\n",
    "print(f\"t: {t}\")\n",
    "n = t.numpy()\n",
    "print(f\"n: {n}\")"
   ]
  },
  {
   "cell_type": "markdown",
   "id": "8738f5cf",
   "metadata": {},
   "source": [
    "텐서의 변경 사항이 NumPy배열에 반영되고, 그 반대의 경우도 마찬가지입니다."
   ]
  },
  {
   "cell_type": "code",
   "execution_count": 14,
   "id": "7f855f39",
   "metadata": {
    "ExecuteTime": {
     "end_time": "2024-01-20T06:49:21.179617Z",
     "start_time": "2024-01-20T06:49:21.096004Z"
    }
   },
   "outputs": [
    {
     "name": "stdout",
     "output_type": "stream",
     "text": [
      "numpy array: [2. 2. 2. 2. 2.]\n",
      "tensor: tensor([2., 2., 2., 2., 2.])\n"
     ]
    }
   ],
   "source": [
    "t.add_(1)\n",
    "print(f'numpy array: {n}')\n",
    "print(f'tensor: {t}')"
   ]
  },
  {
   "cell_type": "code",
   "execution_count": 15,
   "id": "03da498c",
   "metadata": {
    "ExecuteTime": {
     "end_time": "2024-01-20T06:49:21.180254Z",
     "start_time": "2024-01-20T06:49:21.099277Z"
    }
   },
   "outputs": [
    {
     "name": "stdout",
     "output_type": "stream",
     "text": [
      "numpy array: [2. 2. 2. 2. 2.]\n",
      "tensor: tensor([2., 2., 2., 2., 2.], dtype=torch.float64)\n"
     ]
    }
   ],
   "source": [
    "n = np.ones(5)\n",
    "t = torch.from_numpy(n)\n",
    "\n",
    "np.add(n, 1, out=n)\n",
    "print(f\"numpy array: {n}\")\n",
    "print(f\"tensor: {t}\")"
   ]
  },
  {
   "cell_type": "code",
   "execution_count": 15,
   "id": "780c631e",
   "metadata": {
    "ExecuteTime": {
     "end_time": "2024-01-20T06:49:21.180553Z",
     "start_time": "2024-01-20T06:49:21.102360Z"
    }
   },
   "outputs": [],
   "source": []
  }
 ],
 "metadata": {
  "kernelspec": {
   "display_name": "Python 3",
   "language": "python",
   "name": "python3"
  },
  "language_info": {
   "codemirror_mode": {
    "name": "ipython",
    "version": 3
   },
   "file_extension": ".py",
   "mimetype": "text/x-python",
   "name": "python",
   "nbconvert_exporter": "python",
   "pygments_lexer": "ipython3",
   "version": "3.9.18"
  }
 },
 "nbformat": 4,
 "nbformat_minor": 5
}
