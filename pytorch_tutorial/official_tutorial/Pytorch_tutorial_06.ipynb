{
 "cells": [
  {
   "cell_type": "markdown",
   "source": [
    "# `torch.autograd`를 사용한 자동 미분\n",
    "\n",
    "신경망을 학습할 때 가장 자주 사용되는 알고리즘은 *역전파* 입니다. 이 알고리즘에서 매개변수(모델 가중치)는 주어진 매개변수에 대한 손실 함수의 변화도(gradient)에 따라 조정됩니다.\n",
    "\n",
    "이러한 변화도를 계산하기 위해 PyTorch에는 `torch.autograd`라고 불리는 자동 미분 엔진이 내장되어 있습니다. 이는 모든 계산 그래프에 대한 변화도의 자동 계산을 지원합니다.\n",
    "\n",
    "입력 x, 매개변수 w와 b, 그리고 일부 손실 함수가 있는 가장 간단한 단일 계층 신경망을 가정하겠습니다. PyTorch에서는 다음과 같이 정의할 수 있습니다."
   ],
   "metadata": {
    "collapsed": false
   },
   "id": "b36b1475d3431a0f"
  },
  {
   "cell_type": "code",
   "execution_count": 1,
   "id": "initial_id",
   "metadata": {
    "collapsed": true,
    "ExecuteTime": {
     "end_time": "2023-12-13T00:50:27.481031Z",
     "start_time": "2023-12-13T00:50:25.833278Z"
    }
   },
   "outputs": [],
   "source": [
    "import torch\n",
    "x = torch.ones(5)\n",
    "y = torch.zeros(3)\n",
    "w = torch.randn(5,3,requires_grad=True)\n",
    "b = torch.randn(3,requires_grad=True)\n",
    "z = torch.matmul(x,w)+b\n",
    "loss = torch.nn.functional.binary_cross_entropy_with_logits(z,y)"
   ]
  },
  {
   "cell_type": "markdown",
   "source": [
    "# Tensor, Function, 그리고 Computational graph\n",
    "\n",
    "```mermaid\n",
    "graph TD;\n",
    "    X((X))\n",
    "    W((W))\n",
    "    B((B))\n",
    "    Z((Z))\n",
    "    CE((CE))\n",
    "    Y((Y))\n",
    "    LOSS((LOSS))\n",
    "    *((*))\n",
    "    +((+))\n",
    "    \n",
    "    X --> *\n",
    "    W --> *\n",
    "    * --> +\n",
    "    B --> +\n",
    "    + --> Z\n",
    "    Z --> CE\n",
    "    Y --> CE\n",
    "    CE --> LOSS\n",
    "```\n",
    "\n",
    "이 신경망에서, w와 b는 최적화를 해야하는 *매개변수*입니다. 따라서 이러한 변수들에 대한 손실 함수의 변화를 계산할 수 있어야 합니다. 이를 위해서 해당 텐서의 `requires_grad` 속성을 설정합니다.\n",
    "\n",
    "연산 그래프를 구성하기 위해 텐서에 적용하는 함수는 사실 `Function`클래스의 객체입니다. 이 객체는 **순전파**방향으로 함수를 계산하는 방법과, **역방향 전파** 단계에서 도함수(derivative)를 계산하는 방법을 알고 있습니다. 역방향 전파 함수에 대한 참조(reference)는 텐서의 `grad_fn` 속성에 저장됩니다. `Function`의 간단한 예를 살펴보겠습니다."
   ],
   "metadata": {
    "collapsed": false
   },
   "id": "e9aa829564b2cda3"
  },
  {
   "cell_type": "code",
   "execution_count": 2,
   "outputs": [
    {
     "name": "stdout",
     "output_type": "stream",
     "text": [
      "Gradient function for z = <AddBackward0 object at 0x12db94d60>\n",
      "Gradient function for loss = <BinaryCrossEntropyWithLogitsBackward0 object at 0x12df4dff0>\n"
     ]
    }
   ],
   "source": [
    "print('Gradient function for z =',z.grad_fn)\n",
    "print('Gradient function for loss =',loss.grad_fn)"
   ],
   "metadata": {
    "collapsed": false,
    "ExecuteTime": {
     "end_time": "2023-12-13T00:50:27.488619Z",
     "start_time": "2023-12-13T00:50:27.481209Z"
    }
   },
   "id": "26132a712cd87462"
  },
  {
   "cell_type": "markdown",
   "source": [
    "# 변화도(Gradient) 계산하기\n",
    "\n",
    "신경망에서 매개변수의 가중치를 최적화하려면 매개변수에 대한 손실함수의 도함수(derivative)를 계산해야 합니다. 즉, x와 y의 일부 고정값에서 ∂loss/∂w와 ∂loss/∂b를 계산해야 합니다. 이를 위해서는 `loss.backward()`를 호출한 다음 w.grad와 b.grad에서 값을 가져와야 합니다."
   ],
   "metadata": {
    "collapsed": false
   },
   "id": "299ddcfcaf9833d4"
  },
  {
   "cell_type": "code",
   "execution_count": 3,
   "outputs": [
    {
     "name": "stdout",
     "output_type": "stream",
     "text": [
      "tensor([[0.0514, 0.0185, 0.0008],\n",
      "        [0.0514, 0.0185, 0.0008],\n",
      "        [0.0514, 0.0185, 0.0008],\n",
      "        [0.0514, 0.0185, 0.0008],\n",
      "        [0.0514, 0.0185, 0.0008]])\n",
      "tensor([0.0514, 0.0185, 0.0008])\n"
     ]
    }
   ],
   "source": [
    "loss.backward()\n",
    "print(w.grad)\n",
    "print(b.grad)"
   ],
   "metadata": {
    "collapsed": false,
    "ExecuteTime": {
     "end_time": "2023-12-13T00:50:27.526717Z",
     "start_time": "2023-12-13T00:50:27.483989Z"
    }
   },
   "id": "a8399a1444ea3e4f"
  },
  {
   "cell_type": "markdown",
   "source": [
    "* 연산 그래프의 잎(leaf) 노드들 중 `requires_grad` 속성이 True로 설정된 노드들의 `grad` 속성만 구할 수 있습니다. 그래프의 다른 모든 노드에서는 변화도가 유효하지 않습니다.\n",
    "\n",
    "* 또한, 연산 그래프의 잎 노드 중 하나 이상의 `requires_grad` 속성이 True로 설정된 노드들에 대해서만 `backward`를 호출할 수 있습니다. 그렇지 않으면, 연쇄 법칙(chain rule)에 따라서 미분을 할 수 없습니다."
   ],
   "metadata": {
    "collapsed": false
   },
   "id": "90f0a33ffaf23d87"
  },
  {
   "cell_type": "markdown",
   "source": [
    "# 변화도 추적 멈추기\n",
    "\n",
    "기본적으로, `requires_grad=True`인 모든 텐서들은 연산 기록을 추적하고 변화도 계산을 지원합니다. 그러나 모델을 학습한 뒤 입력 데이터를 단순히 적용하기만 하는 경우와 같이 순전파 연산만 필요한 경우에는, 이러한 추적이나 지원이 필요 없을 수 있습니다. 연산 코드를`torch.no_grad()` 블록으로 둘러싸서 연산 추적을 멈출 수 있습니다."
   ],
   "metadata": {
    "collapsed": false
   },
   "id": "920bcd31fa96648f"
  },
  {
   "cell_type": "code",
   "execution_count": 4,
   "outputs": [
    {
     "name": "stdout",
     "output_type": "stream",
     "text": [
      "True\n",
      "False\n"
     ]
    }
   ],
   "source": [
    "z = torch.matmul(x,w)+b\n",
    "print(z.requires_grad)\n",
    "\n",
    "with torch.no_grad():\n",
    "    z = torch.matmul(x,w)+b\n",
    "print(z.requires_grad)"
   ],
   "metadata": {
    "collapsed": false,
    "ExecuteTime": {
     "end_time": "2023-12-13T00:50:27.534474Z",
     "start_time": "2023-12-13T00:50:27.526744Z"
    }
   },
   "id": "7b79b5a1f0094970"
  },
  {
   "cell_type": "code",
   "execution_count": 5,
   "outputs": [
    {
     "name": "stdout",
     "output_type": "stream",
     "text": [
      "False\n"
     ]
    }
   ],
   "source": [
    "z = torch.matmul(x,w)+b\n",
    "z_det = z.detach()\n",
    "print(z_det.requires_grad)"
   ],
   "metadata": {
    "collapsed": false,
    "ExecuteTime": {
     "end_time": "2023-12-13T00:50:27.534954Z",
     "start_time": "2023-12-13T00:50:27.530285Z"
    }
   },
   "id": "4bae76c49903789a"
  },
  {
   "cell_type": "markdown",
   "source": [
    "변화도 추적을 멈춰야 하는 이유들은 다음과 같습니다.\n",
    "* 신경망의 일부 매개변수를 *고정된 매개변수(frozen parameter)로 표시합니다.\n",
    "* 변화도를 추적하지 않는 텐서의 연산이 더 효율적이기 때문에, 순전파 단계만 수행할 때 연산 속도가 향상됩니다."
   ],
   "metadata": {
    "collapsed": false
   },
   "id": "10888b1c93fc1d98"
  },
  {
   "cell_type": "markdown",
   "source": [
    "# 연산 그래프에 대한 추가 정보\n",
    "\n",
    "개념적으로, autograd는 데이터(텐서)의 및 실행된 모든 연산들(및 연산 결과가 새로운 텐서인 경우도 포함하여)의 기록을*Function*객체로 구성된 방향성 비순환 그래프(DAG; Directed Acyclic Graph)에 저장(keep)합니다. 이 방향성 비순환 그래프(DAG)의 잎(leave)은 입력 텐서이고, 뿌리(root)는 결과 텐서입니다. 이 그래프를 뿌리에서부터 잎까지 추적하면 연쇄 법칙(chain rule)에 따라 변화도를 자동으로 계산할 수 있습니다.\n",
    "\n",
    "순전파 단계에서, autograd는 다음 두 가지 작업을 동시에 수행합니다.\n",
    "* 요청된 연산을 수행하여 결과 텐서를 계산하고,\n",
    "* DAG에 연산의 *변화도 기능(gradient function)*를 유지(maintain)합니다.\n",
    "\n",
    "역전파 단계에서, autograd는 다음 두 가지 작업을 동시에 수행합니다.\n",
    "* 각 `.grad_fn`으로부터 변화도를 계산하고,\n",
    "* 각 텐서의 `.grad` 속성에 계산 결과를 쌓고(accumulate),\n",
    "* 연쇄 법칙을 사용하여, 모든 잎(leaf) 텐서들까지 전파(propagate)합니다."
   ],
   "metadata": {
    "collapsed": false
   },
   "id": "1250f168bc73e70a"
  },
  {
   "cell_type": "markdown",
   "source": [
    "## 선택적으로 읽기(Optional Reading): 텐서 변화도와 야코비안 곱(Jacobian Product)\n",
    "\n",
    "대부분의 경우, 스칼라 손실 함수를 가지고 일부 매개변수와 관련한 변화도를 계산해야 합니다. 그러나 출력 함수가 임의의 텐서인 경우가 있습니다. 이럴 때, PyTorch는 실제 변화도가 아닌 야코비안 곱(Jacobian product)을 계산합니다.\n",
    "\n",
    "x가 주어졌을 때, 다음과 같은 벡터 함수를 생각해 봅시다.\n",
    "\n",
    "$$\n",
    " \n",
    "$$\n",
    "\n",
    "야코비안 행렬 자체를 계산하는 대신, PyTorch는 주어진 입력 벡터 $$v=(v_1 \\dots v_m)^T$$ 에 대한 야코비안 곱(Jacobian product) $$v^T \\cdot J$$ 를 계산합니다. $$v^T \\cdot J$$ 의 연산 결과는 $$x$$ 와 같은 크기를 갖는 벡터가 됩니다. 이 과정은, $$v$$의 크기가 상대적으로 작기 때문에, 전체 야코비안 행렬을 명시적으로 계산하는 것보다 효율적입니다. (전체 야코비안 행렬의 경우, $$m \\times n$$ 크기가 됩니다.)\n"
   ],
   "metadata": {
    "collapsed": false
   },
   "id": "704ee852dafc2061"
  },
  {
   "cell_type": "code",
   "execution_count": 6,
   "outputs": [
    {
     "name": "stdout",
     "output_type": "stream",
     "text": [
      "First call\n",
      "tensor([[4., 2., 2., 2., 2.],\n",
      "        [2., 4., 2., 2., 2.],\n",
      "        [2., 2., 4., 2., 2.],\n",
      "        [2., 2., 2., 4., 2.]])\n",
      "\n",
      "Second call\n",
      "tensor([[8., 4., 4., 4., 4.],\n",
      "        [4., 8., 4., 4., 4.],\n",
      "        [4., 4., 8., 4., 4.],\n",
      "        [4., 4., 4., 8., 4.]])\n",
      "\n",
      "Call after zeroing gradients\n",
      "tensor([[4., 2., 2., 2., 2.],\n",
      "        [2., 4., 2., 2., 2.],\n",
      "        [2., 2., 4., 2., 2.],\n",
      "        [2., 2., 2., 4., 2.]])\n"
     ]
    }
   ],
   "source": [
    "inp = torch.eye(4, 5, requires_grad=True)\n",
    "out = (inp+1).pow(2).t()\n",
    "out.backward(torch.ones_like(out), retain_graph=True)\n",
    "print(f\"First call\\n{inp.grad}\")\n",
    "out.backward(torch.ones_like(out), retain_graph=True)\n",
    "print(f\"\\nSecond call\\n{inp.grad}\")\n",
    "inp.grad.zero_()\n",
    "out.backward(torch.ones_like(out), retain_graph=True)\n",
    "print(f\"\\nCall after zeroing gradients\\n{inp.grad}\")"
   ],
   "metadata": {
    "collapsed": false,
    "ExecuteTime": {
     "end_time": "2023-12-13T00:50:27.758167Z",
     "start_time": "2023-12-13T00:50:27.751636Z"
    }
   },
   "id": "f0ff5a83d3942742"
  },
  {
   "cell_type": "markdown",
   "source": [
    "동일한 인자로 `backward`를 두차례 호출하면 변화도 값이 달라집니다. 이는 *역방향*전파를 수행할 때, PyTorch가 *변화도 누적(accumulate)해주기 때문*입니다. 즉, 계산된 변화도 변화도의 값이 연산 그래프의 모든 잎(leaf) 노드의 `grad`속성에 추가 됩니다. 따라서 제대로 된 변화도를 계산하기 위해서는 `grad`속성을 먼저 0으로 설정해야 합니다. 실제로 학습 과정에서는 **옵티마이저(optimizer)가 이를 대신 해줍니다.**"
   ],
   "metadata": {
    "collapsed": false
   },
   "id": "87a9d55502b25769"
  },
  {
   "cell_type": "code",
   "execution_count": null,
   "outputs": [],
   "source": [],
   "metadata": {
    "collapsed": false
   },
   "id": "d89ea49b31f67285"
  }
 ],
 "metadata": {
  "kernelspec": {
   "display_name": "Python 3",
   "language": "python",
   "name": "python3"
  },
  "language_info": {
   "codemirror_mode": {
    "name": "ipython",
    "version": 2
   },
   "file_extension": ".py",
   "mimetype": "text/x-python",
   "name": "python",
   "nbconvert_exporter": "python",
   "pygments_lexer": "ipython2",
   "version": "2.7.6"
  }
 },
 "nbformat": 4,
 "nbformat_minor": 5
}
