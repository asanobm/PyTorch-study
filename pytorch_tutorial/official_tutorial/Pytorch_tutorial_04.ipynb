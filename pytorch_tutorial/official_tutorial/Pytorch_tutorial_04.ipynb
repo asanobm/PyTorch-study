{
 "cells": [
  {
   "cell_type": "markdown",
   "source": [
    "# 변형 (Transforms)\n",
    "\n",
    "데이터가 항상 머신러닝 알고리즘 학습에 필요한 최종 처리가 된 형태로 제공되지는 않습니다. *변형(transform)* 을 해서 데이터를 조작하고 학습에 적합하게 만듭니다.\n",
    "\n",
    "모든 TorchVision 데이터셋들은 변형 로직을 갖는, 호출 가능한 객체(callable)를 갖습니다. *torchvision.transforms* 모들은 주로 사용하는 몇가지 변형(transform)을 제공합니다.\n",
    "\n",
    "Fashion-MNIST 특징(feature)은 PIL Image 형식이며, 정답(label)은 정수(integer)입니다. 학습을 하려면 정규화(normalize)된 텐서 형태의 특징(feature)과 원-핫(one-hot)으로 부호화(encode)된 텐서 형태의 정답(label)이 필요합니다. 이러한 변형(transformation)을 하기 위해 `ToTensor` 와 `Lambda` 를 사용합니다.\n"
   ],
   "metadata": {
    "collapsed": false
   },
   "id": "84fdbb905f8082a"
  },
  {
   "cell_type": "code",
   "execution_count": 1,
   "id": "initial_id",
   "metadata": {
    "collapsed": true,
    "ExecuteTime": {
     "end_time": "2023-12-11T00:51:04.568259Z",
     "start_time": "2023-12-11T00:51:03.688398Z"
    }
   },
   "outputs": [
    {
     "data": {
      "text/plain": "Dataset FashionMNIST\n    Number of datapoints: 60000\n    Root location: data\n    Split: Train\n    StandardTransform\nTransform: ToTensor()\nTarget transform: Lambda()"
     },
     "execution_count": 1,
     "metadata": {},
     "output_type": "execute_result"
    }
   ],
   "source": [
    "import torch\n",
    "from torchvision import datasets\n",
    "from torchvision.transforms import ToTensor, Lambda\n",
    "\n",
    "ds = datasets.FashionMNIST(\n",
    "    root=\"data\",\n",
    "    train=True,\n",
    "    download=True,\n",
    "    transform=ToTensor(),\n",
    "    target_transform=Lambda(lambda y: torch.zeros(10, dtype=torch.float).scatter_(0, torch.tensor(y), 1))\n",
    ")\n",
    "\n",
    "ds"
   ]
  },
  {
   "cell_type": "markdown",
   "source": [
    "## ToTensor()\n",
    "\n",
    "*ToTensor* 는 PIL Image나 NumPy `ndarray` 를 `FloatTensor` 로 변환하고, 이미지의 필셀의 크기(intensity) 값을 [0., 1.] 범위로 비례하여 조정(scale)합니다."
   ],
   "metadata": {
    "collapsed": false
   },
   "id": "cde6ba1b6375c812"
  },
  {
   "cell_type": "markdown",
   "source": [
    "## Lambda 변형(Transform)\n",
    "\n",
    "Lambda 변형은 사용자 정의 람다(lambda) 함수를 적용합니다. 여기에서는 정수를 원-핫으로 부호화된 텐서로 바꾸는 함수를 정의합니다. 먼저, 한번에 하나의 정수를 받아들이는 함수를 만듭니다. `Lambda` 변형(transform)은 함수가 적용되어야 하는지를 명시하기 위해 사용됩니다. 여기에서는 `Lambda` 변형(transform)을 사용하여 정수를 원-핫으로 부호화된 텐서로 바꾸는 함수를 적용합니다. 이 함수는 먼저 (데이터셋의 정답 개수인) 크기 10짜리 영 텐서(zero tensor)를 만들고, `scatter_` 를 호출하여 주어진 정답 `y` 에 해당하는 인덱스에 `value=1` 을 할당합니다."
   ],
   "metadata": {
    "collapsed": false
   },
   "id": "2a102660e487a1b3"
  },
  {
   "cell_type": "code",
   "execution_count": 3,
   "outputs": [],
   "source": [
    "target_transform = Lambda(lambda y: torch.zeros(10, dtype=torch.float).scatter_(dim=0, index=torch.tensor(y), value=1))"
   ],
   "metadata": {
    "collapsed": false,
    "ExecuteTime": {
     "end_time": "2023-12-11T00:53:28.465271Z",
     "start_time": "2023-12-11T00:53:28.452616Z"
    }
   },
   "id": "7bbbc6a1cad5fb45"
  },
  {
   "cell_type": "code",
   "execution_count": 6,
   "outputs": [
    {
     "data": {
      "text/plain": "tensor([0., 0., 1., 0., 0., 0., 0., 0., 0., 0.])"
     },
     "execution_count": 6,
     "metadata": {},
     "output_type": "execute_result"
    }
   ],
   "source": [
    "target_transform(2)"
   ],
   "metadata": {
    "collapsed": false,
    "ExecuteTime": {
     "end_time": "2023-12-11T00:53:40.397568Z",
     "start_time": "2023-12-11T00:53:40.392124Z"
    }
   },
   "id": "b5130cee07d764f7"
  },
  {
   "cell_type": "code",
   "execution_count": null,
   "outputs": [],
   "source": [],
   "metadata": {
    "collapsed": false
   },
   "id": "b29863ba5909f51d"
  }
 ],
 "metadata": {
  "kernelspec": {
   "display_name": "Python 3",
   "language": "python",
   "name": "python3"
  },
  "language_info": {
   "codemirror_mode": {
    "name": "ipython",
    "version": 2
   },
   "file_extension": ".py",
   "mimetype": "text/x-python",
   "name": "python",
   "nbconvert_exporter": "python",
   "pygments_lexer": "ipython2",
   "version": "2.7.6"
  }
 },
 "nbformat": 4,
 "nbformat_minor": 5
}
