{
 "cells": [
  {
   "cell_type": "markdown",
   "source": [
    "# 신경망 모델 구성하기\n",
    "\n",
    "신경망은 데이터에 대한 연산을 수행하는 계층(layer)모듈(module)로구 구성되어 있습니다. `torch.nn` 네임스페이스는 신경망을 구성하는데 필요한 모든 구성요소를 제공합니다. Pytorch의 모든 모듈은 `nn.Module`의 하위 클래스(subclass)입니다. 신경망은 다른 모듈 (계층: layer)로 구성된 모듈입니다. 이러한 중첩된 구조는 복잡한 아키텍처를 쉽게 구축하고 관리할 수 있습니다."
   ],
   "metadata": {
    "collapsed": false
   },
   "id": "b3c5d9ff37779df4"
  },
  {
   "cell_type": "code",
   "execution_count": 1,
   "id": "initial_id",
   "metadata": {
    "collapsed": true,
    "ExecuteTime": {
     "end_time": "2023-12-12T20:55:51.925550Z",
     "start_time": "2023-12-12T20:55:50.083938Z"
    }
   },
   "outputs": [],
   "source": [
    "import os\n",
    "import torch\n",
    "from torch import nn\n",
    "from torch.utils.data import DataLoader\n",
    "from torchvision import transforms"
   ]
  },
  {
   "cell_type": "markdown",
   "source": [
    "가능한 경우 GPU 또는 MPS와 같은 하드웨어 가속기에서 모델을 학습"
   ],
   "metadata": {
    "collapsed": false
   },
   "id": "67d662ba22fe17b6"
  },
  {
   "cell_type": "code",
   "execution_count": 2,
   "outputs": [
    {
     "name": "stdout",
     "output_type": "stream",
     "text": [
      "Using cpu device\n"
     ]
    }
   ],
   "source": [
    "device = (\n",
    "    \"cuda\"\n",
    "    if torch.cuda.is_available()\n",
    "    else \"mps\"\n",
    "    if torch.cuda.is_available()\n",
    "    else \"cpu\"\n",
    ")\n",
    "print(\"Using {} device\".format(device))"
   ],
   "metadata": {
    "collapsed": false,
    "ExecuteTime": {
     "end_time": "2023-12-12T20:55:51.927783Z",
     "start_time": "2023-12-12T20:55:51.925936Z"
    }
   },
   "id": "46230b100184977e"
  },
  {
   "cell_type": "markdown",
   "source": [
    "## 클래스 정의하기\n",
    "\n",
    "신경망 모델을 `nn.Moduule`의 하위클래스를 정의하고 `__init__`에서 신경망 계층들을 초기화 합니다. `nn.Module`을 상속받은 모든 클래스는 `forward` 메소드에 입력 데이터에 대한 연산들을 구현합니다. `forward` 함수는 출력을 계산하기 위해 사용되는 입력 텐서를 인자로 받고 출력 텐서를 반환합니다. 신경망의 학습 가능한 매개변수들은 `net.parameters()`에 의해 반환됩니다."
   ],
   "metadata": {
    "collapsed": false
   },
   "id": "fcf64e8278b3dd5d"
  },
  {
   "cell_type": "code",
   "execution_count": 4,
   "outputs": [
    {
     "name": "stdout",
     "output_type": "stream",
     "text": [
      "NeuralNetwork(\n",
      "  (flatten): Flatten(start_dim=1, end_dim=-1)\n",
      "  (linear_relu_stack): Sequential(\n",
      "    (0): Linear(in_features=784, out_features=512, bias=True)\n",
      "    (1): ReLU()\n",
      "    (2): Linear(in_features=512, out_features=512, bias=True)\n",
      "    (3): ReLU()\n",
      "    (4): Linear(in_features=512, out_features=10, bias=True)\n",
      "    (5): ReLU()\n",
      "  )\n",
      ")\n"
     ]
    }
   ],
   "source": [
    "class NeuralNetwork(nn.Module):\n",
    "    def __init__(self):\n",
    "        super(NeuralNetwork, self).__init__()\n",
    "        self.flatten = nn.Flatten()\n",
    "        self.linear_relu_stack = nn.Sequential(\n",
    "            nn.Linear(28*28, 512),\n",
    "            nn.ReLU(),\n",
    "            nn.Linear(512, 512),\n",
    "            nn.ReLU(),\n",
    "            nn.Linear(512, 10),\n",
    "            nn.ReLU()\n",
    "        )\n",
    "    def forward(self, x):\n",
    "        x = self.flatten(x)\n",
    "        logits = self.linear_relu_stack(x)\n",
    "        return logits\n",
    "\n",
    "model = NeuralNetwork().to(device)\n",
    "print(model)"
   ],
   "metadata": {
    "collapsed": false,
    "ExecuteTime": {
     "end_time": "2023-12-12T20:58:31.341774Z",
     "start_time": "2023-12-12T20:58:31.336713Z"
    }
   },
   "id": "6712607d55f6b1e4"
  },
  {
   "cell_type": "markdown",
   "source": [
    "모델을 사용하기 위해 입력 데이터를 전달합니다. 이는 일부 *백그래운드 연산들* 과 함께 모델의 `forward`를 실행합니다.\n",
    "\n",
    "모델에 입력을 전달하여 호출하면 2차원 텐서를 반한합니다. 2차원 텐서의 dim=0은 각 분류(class)에 대한 원시(raw)예측값 10개가, dim=1에는 각 출력의 개별 값들이 해당합니다. 원시 예측값을 `nn.Softmax` 모듈의 인스턴스에 통과시켜 예측 확률을 얻습니다."
   ],
   "metadata": {
    "collapsed": false
   },
   "id": "e1b1420dc4510ecd"
  },
  {
   "cell_type": "code",
   "execution_count": 5,
   "outputs": [
    {
     "name": "stdout",
     "output_type": "stream",
     "text": [
      "Predicted class: tensor([7])\n"
     ]
    }
   ],
   "source": [
    "X = torch.rand(1, 28, 28, device=device)\n",
    "logits = model(X)\n",
    "pred_probab = nn.Softmax(dim=1)(logits)\n",
    "y_pred = pred_probab.argmax(1)\n",
    "print(f\"Predicted class: {y_pred}\")"
   ],
   "metadata": {
    "collapsed": false,
    "ExecuteTime": {
     "end_time": "2023-12-12T21:01:20.425696Z",
     "start_time": "2023-12-12T21:01:20.405250Z"
    }
   },
   "id": "92829c2604ca58fa"
  },
  {
   "cell_type": "markdown",
   "source": [
    "## 모델 계층(Layer)\n",
    "\n",
    "FashionMNIST 모델의 계층들을 살펴보겠습니다. 이를 설명하기위해 28x28 크기의 이미지 3개로 구성된 미니배치를 가져와, 신경망을 통과할 때 어떤 일이 발생하는지 살펴보겠습니다."
   ],
   "metadata": {
    "collapsed": false
   },
   "id": "6a69aea8a445b12d"
  },
  {
   "cell_type": "code",
   "execution_count": 6,
   "outputs": [
    {
     "name": "stdout",
     "output_type": "stream",
     "text": [
      "torch.Size([3, 28, 28])\n"
     ]
    }
   ],
   "source": [
    "input_image = torch.rand(3, 28, 28)\n",
    "print(input_image.size())"
   ],
   "metadata": {
    "collapsed": false,
    "ExecuteTime": {
     "end_time": "2023-12-12T21:02:51.094928Z",
     "start_time": "2023-12-12T21:02:51.091797Z"
    }
   },
   "id": "ba92e8304bff7c7a"
  },
  {
   "cell_type": "markdown",
   "source": [
    "## nn.Flatten\n",
    "\n",
    "*nn.Flatten* 계층을 초기화하여 각 28x28의 2D 이미지를 784 픽셀의 연속된 배열로 변환합니다. 이 계층은 일부 모델의 첫번째 계층으로 사용될 수 있습니다. 이 계층은 배치 차원은 유지하고 나머지 차원을 평탄화(flatten)합니다."
   ],
   "metadata": {
    "collapsed": false
   },
   "id": "6bcbb49a7e73fff7"
  },
  {
   "cell_type": "code",
   "execution_count": 7,
   "outputs": [
    {
     "name": "stdout",
     "output_type": "stream",
     "text": [
      "torch.Size([3, 784])\n"
     ]
    }
   ],
   "source": [
    "flatten = nn.Flatten()\n",
    "flat_image = flatten(input_image)\n",
    "print(flat_image.size())"
   ],
   "metadata": {
    "collapsed": false,
    "ExecuteTime": {
     "end_time": "2023-12-12T21:03:24.578750Z",
     "start_time": "2023-12-12T21:03:24.574655Z"
    }
   },
   "id": "938cd30450c7ded2"
  },
  {
   "cell_type": "markdown",
   "source": [
    "## nn.Linear\n",
    "\n",
    "*선형 계층*은 저장된 가중치(weight)와 편향(bias)을 사용하여 입력에 선형 변환을 적용합니다. 이 계층은 `y = x*W^T + b`와 같은 선형 변환을 표현합니다. 선형 계층은 신경망에 의해 학습되는 가중치와 편향이 있습니다."
   ],
   "metadata": {
    "collapsed": false
   },
   "id": "2c923b64322dcec2"
  },
  {
   "cell_type": "code",
   "execution_count": 8,
   "outputs": [
    {
     "name": "stdout",
     "output_type": "stream",
     "text": [
      "torch.Size([3, 20])\n"
     ]
    }
   ],
   "source": [
    "layer1 = nn.Linear(in_features=28*28, out_features=20)\n",
    "hidden1 = layer1(flat_image)\n",
    "print(hidden1.size())"
   ],
   "metadata": {
    "collapsed": false,
    "ExecuteTime": {
     "end_time": "2023-12-12T21:03:58.165021Z",
     "start_time": "2023-12-12T21:03:58.157065Z"
    }
   },
   "id": "319e3fc194e3e3b6"
  },
  {
   "cell_type": "markdown",
   "source": [
    "## nn.ReLU\n",
    "\n",
    "비선형 활성화는 선형 변환 후에 신경망에 비선형성을 도입하는 것을 의미합니다. 비선형 활성화는 신경망이 다양한 현상을 학습할 수 있도록 도와줍니다.\n",
    "\n",
    "비선형 활성화로는 `nn.ReLU` 모듈을 사용하겠습니다. 이 모듈은 입력 요소 중 음수를 0으로 만드는 [ReLU](https://en.wikipedia.org/wiki/Rectifier_(neural_networks)) 함수를 적용합니다."
   ],
   "metadata": {
    "collapsed": false
   },
   "id": "5217b068bcbd4830"
  },
  {
   "cell_type": "code",
   "execution_count": 9,
   "outputs": [
    {
     "name": "stdout",
     "output_type": "stream",
     "text": [
      "Before ReLU: tensor([[-0.4822, -0.0868, -0.7402,  0.1496, -0.6520,  0.2991, -0.1463, -0.2545,\n",
      "          0.1787, -0.2979, -0.2811,  0.6926, -0.5475, -0.2998, -0.1615, -0.1991,\n",
      "          0.3124, -0.1241,  0.5573, -0.1376],\n",
      "        [ 0.0105, -0.2967, -0.6184, -0.2206, -0.4630, -0.2625, -0.1177, -0.3010,\n",
      "          0.4181, -0.5878, -0.3041,  0.5424, -0.2098,  0.2949, -0.4042, -0.1719,\n",
      "          0.4904, -0.2251,  0.2855,  0.1294],\n",
      "        [-0.2868,  0.1456, -0.8435, -0.2082, -0.5791,  0.1722, -0.2587, -0.5667,\n",
      "          0.4279, -0.1445, -0.4307,  0.5665, -0.2199, -0.0317,  0.0182, -0.0574,\n",
      "          0.2739, -0.2067,  0.1259, -0.0288]], grad_fn=<AddmmBackward0>)\n",
      "\n",
      "\n",
      "After ReLU: tensor([[0.0000, 0.0000, 0.0000, 0.1496, 0.0000, 0.2991, 0.0000, 0.0000, 0.1787,\n",
      "         0.0000, 0.0000, 0.6926, 0.0000, 0.0000, 0.0000, 0.0000, 0.3124, 0.0000,\n",
      "         0.5573, 0.0000],\n",
      "        [0.0105, 0.0000, 0.0000, 0.0000, 0.0000, 0.0000, 0.0000, 0.0000, 0.4181,\n",
      "         0.0000, 0.0000, 0.5424, 0.0000, 0.2949, 0.0000, 0.0000, 0.4904, 0.0000,\n",
      "         0.2855, 0.1294],\n",
      "        [0.0000, 0.1456, 0.0000, 0.0000, 0.0000, 0.1722, 0.0000, 0.0000, 0.4279,\n",
      "         0.0000, 0.0000, 0.5665, 0.0000, 0.0000, 0.0182, 0.0000, 0.2739, 0.0000,\n",
      "         0.1259, 0.0000]], grad_fn=<ReluBackward0>)\n"
     ]
    }
   ],
   "source": [
    "print(f\"Before ReLU: {hidden1}\\n\\n\")\n",
    "hidden1 = nn.ReLU()(hidden1)\n",
    "print(f\"After ReLU: {hidden1}\")"
   ],
   "metadata": {
    "collapsed": false,
    "ExecuteTime": {
     "end_time": "2023-12-12T21:04:45.922698Z",
     "start_time": "2023-12-12T21:04:45.913873Z"
    }
   },
   "id": "1b4d25a2d66a81d7"
  },
  {
   "cell_type": "markdown",
   "source": [
    "## nn.Sequential\n",
    "\n",
    "*nn.Sequential*은 순서를 갖는 모듈의 컨테이너입니다. 데이터는 정의된 것과 같은 순서로 모든 모듈을 통해 전달됩니다. 이 컨테이너는 신경망의 순차적인 계층을 구성하는데 사용됩니다. FashionMNIST 신경망을 `nn.Sequential`을 사용하여 정의해보겠습니다."
   ],
   "metadata": {
    "collapsed": false
   },
   "id": "39ab521173416bcc"
  },
  {
   "cell_type": "code",
   "execution_count": 10,
   "outputs": [],
   "source": [
    "seq_modules = nn.Sequential(\n",
    "    flatten,\n",
    "    layer1,\n",
    "    nn.ReLU(),\n",
    "    nn.Linear(20, 10)\n",
    ")\n",
    "\n",
    "input_image = torch.rand(3, 28, 28)\n",
    "logits = seq_modules(input_image)"
   ],
   "metadata": {
    "collapsed": false,
    "ExecuteTime": {
     "end_time": "2023-12-12T21:05:21.794200Z",
     "start_time": "2023-12-12T21:05:21.789798Z"
    }
   },
   "id": "862b769aeeded9cf"
  },
  {
   "cell_type": "markdown",
   "source": [
    "## nn.Softmax\n",
    "\n",
    "신경망의 마지막 선형 계층은 *nn.Softmax* 모듈에 통과시킵니다. 이 모듈은 입력값을 `[0, 1]` 범위 안의 값으로 정규화하며 출력값의 총합은 1입니다. 이 출력은 각 클래스에 대한 모델의 예측 확률입니다."
   ],
   "metadata": {
    "collapsed": false
   },
   "id": "3e76ae18d0ad9245"
  },
  {
   "cell_type": "code",
   "execution_count": 11,
   "outputs": [],
   "source": [
    "softmax = nn.Softmax(dim=1)\n",
    "pred_probab = softmax(logits)"
   ],
   "metadata": {
    "collapsed": false,
    "ExecuteTime": {
     "end_time": "2023-12-12T21:05:36.520270Z",
     "start_time": "2023-12-12T21:05:36.508756Z"
    }
   },
   "id": "540deca828530295"
  },
  {
   "cell_type": "markdown",
   "source": [
    "## 모델 매개변수\n",
    "\n",
    "신경망 내부의 많은 계층들은 매개변수화됩니다. 즉, 학습 중에 최적화되는 가중치와 편향과 연관지어집니다. `nn.Module`을 상속하면 모델 객체 내부의 모든 필드들이 자동으로 추적(track)되며, `parameters()` 및 `named_parameters()` 메소드로 모든 매개변수에 접근할 수 있습니다.\n",
    "\n",
    "이 예제에서는 각 매개변수들을 반복(iterate)하고 값을 출력하고, 최적화할 변수들의 갱신(update)을 위해 이터레이션(iteration)마다 변화도(gradient)를 0으로 설정합니다."
   ],
   "metadata": {
    "collapsed": false
   },
   "id": "5142e30da0b84305"
  },
  {
   "cell_type": "code",
   "execution_count": 12,
   "outputs": [
    {
     "name": "stdout",
     "output_type": "stream",
     "text": [
      "Model structure:  NeuralNetwork(\n",
      "  (flatten): Flatten(start_dim=1, end_dim=-1)\n",
      "  (linear_relu_stack): Sequential(\n",
      "    (0): Linear(in_features=784, out_features=512, bias=True)\n",
      "    (1): ReLU()\n",
      "    (2): Linear(in_features=512, out_features=512, bias=True)\n",
      "    (3): ReLU()\n",
      "    (4): Linear(in_features=512, out_features=10, bias=True)\n",
      "    (5): ReLU()\n",
      "  )\n",
      ") \n",
      "\n",
      "\n",
      "Layer: linear_relu_stack.0.weight | Size: torch.Size([512, 784]) | Values: tensor([[-0.0029, -0.0090,  0.0344,  ...,  0.0266,  0.0147,  0.0312],\n",
      "        [-0.0159, -0.0253,  0.0163,  ..., -0.0314, -0.0058,  0.0140]],\n",
      "       grad_fn=<SliceBackward0>) \n",
      "\n",
      "Layer: linear_relu_stack.0.bias | Size: torch.Size([512]) | Values: tensor([-0.0124, -0.0355], grad_fn=<SliceBackward0>) \n",
      "\n",
      "Layer: linear_relu_stack.2.weight | Size: torch.Size([512, 512]) | Values: tensor([[-0.0438,  0.0084,  0.0347,  ...,  0.0375, -0.0126,  0.0384],\n",
      "        [ 0.0091,  0.0177,  0.0191,  ...,  0.0177, -0.0344,  0.0116]],\n",
      "       grad_fn=<SliceBackward0>) \n",
      "\n",
      "Layer: linear_relu_stack.2.bias | Size: torch.Size([512]) | Values: tensor([0.0345, 0.0186], grad_fn=<SliceBackward0>) \n",
      "\n",
      "Layer: linear_relu_stack.4.weight | Size: torch.Size([10, 512]) | Values: tensor([[-0.0180, -0.0310, -0.0138,  ..., -0.0262, -0.0260,  0.0144],\n",
      "        [ 0.0357,  0.0227,  0.0011,  ...,  0.0355,  0.0260,  0.0280]],\n",
      "       grad_fn=<SliceBackward0>) \n",
      "\n",
      "Layer: linear_relu_stack.4.bias | Size: torch.Size([10]) | Values: tensor([-0.0419,  0.0193], grad_fn=<SliceBackward0>) \n"
     ]
    }
   ],
   "source": [
    "print(\"Model structure: \", model, \"\\n\\n\")\n",
    "for name, param in model.named_parameters():\n",
    "    print(f\"Layer: {name} | Size: {param.size()} | Values: {param[:2]} \\n\")"
   ],
   "metadata": {
    "collapsed": false,
    "ExecuteTime": {
     "end_time": "2023-12-12T21:06:09.343298Z",
     "start_time": "2023-12-12T21:06:09.332323Z"
    }
   },
   "id": "8ba47c54ebeb99bf"
  },
  {
   "cell_type": "code",
   "execution_count": null,
   "outputs": [],
   "source": [],
   "metadata": {
    "collapsed": false
   },
   "id": "785ea065e839a176"
  }
 ],
 "metadata": {
  "kernelspec": {
   "display_name": "Python 3",
   "language": "python",
   "name": "python3"
  },
  "language_info": {
   "codemirror_mode": {
    "name": "ipython",
    "version": 2
   },
   "file_extension": ".py",
   "mimetype": "text/x-python",
   "name": "python",
   "nbconvert_exporter": "python",
   "pygments_lexer": "ipython2",
   "version": "2.7.6"
  }
 },
 "nbformat": 4,
 "nbformat_minor": 5
}
