{
 "cells": [
  {
   "cell_type": "code",
   "execution_count": null,
   "id": "initial_id",
   "metadata": {
    "collapsed": true,
    "is_executing": true
   },
   "outputs": [],
   "source": [
    "import torch\n",
    "from torch import nn\n",
    "from torch.utils.data import DataLoader\n",
    "from torchvision import datasets\n",
    "from torchvision.transforms import ToTensor"
   ]
  },
  {
   "cell_type": "code",
   "execution_count": 2,
   "outputs": [],
   "source": [
    "training_data = datasets.FashionMNIST(\n",
    "    root=\"data\",\n",
    "    train=True,\n",
    "    download=True,\n",
    "    transform=ToTensor()\n",
    ")\n",
    "\n",
    "test_data = datasets.FashionMNIST(\n",
    "    root=\"data\",\n",
    "    train=False,\n",
    "    download=True,\n",
    "    transform=ToTensor()\n",
    ")\n",
    "\n",
    "train_dataloader = DataLoader(training_data, batch_size=64)\n",
    "test_dataloader = DataLoader(test_data, batch_size=64)\n",
    "\n",
    "class NeuralNetwork(nn.Module):\n",
    "    def __init__(self):\n",
    "        super(NeuralNetwork, self).__init__()\n",
    "        self.flatten = nn.Flatten() # 28*28 = 784\n",
    "        self.linear_relu_stack = nn.Sequential(\n",
    "            nn.Linear(784, 512), # 784*512\n",
    "            nn.ReLU(),\n",
    "            nn.Linear(512, 512), # 512*512\n",
    "            nn.ReLU(),\n",
    "            nn.Linear(512, 10) # 512*10\n",
    "        )\n",
    "        \n",
    "    def forward(self, x):\n",
    "        x = self.flatten(x)\n",
    "        logits = self.linear_relu_stack(x)\n",
    "        return logits\n",
    "    \n",
    "model = NeuralNetwork()"
   ],
   "metadata": {
    "collapsed": false,
    "ExecuteTime": {
     "end_time": "2023-10-18T08:08:29.177390Z",
     "start_time": "2023-10-18T08:08:29.148024Z"
    }
   },
   "id": "2e30732720d6f856"
  },
  {
   "cell_type": "code",
   "execution_count": 3,
   "outputs": [],
   "source": [
    "learning_rate = 1e-3\n",
    "batch_size = 64\n",
    "epochs = 5"
   ],
   "metadata": {
    "collapsed": false,
    "ExecuteTime": {
     "end_time": "2023-10-18T08:08:44.552337Z",
     "start_time": "2023-10-18T08:08:44.534129Z"
    }
   },
   "id": "4ed8254cdd27d2b9"
  },
  {
   "cell_type": "code",
   "execution_count": 4,
   "outputs": [],
   "source": [
    "loss_fn = nn.CrossEntropyLoss()"
   ],
   "metadata": {
    "collapsed": false,
    "ExecuteTime": {
     "end_time": "2023-10-18T08:08:49.166599Z",
     "start_time": "2023-10-18T08:08:49.150485Z"
    }
   },
   "id": "d1f55d7ddb6d05d2"
  },
  {
   "cell_type": "code",
   "execution_count": 5,
   "outputs": [],
   "source": [
    "optimizer = torch.optim.SGD(model.parameters(), lr=learning_rate)"
   ],
   "metadata": {
    "collapsed": false,
    "ExecuteTime": {
     "end_time": "2023-10-18T08:08:52.612069Z",
     "start_time": "2023-10-18T08:08:52.598152Z"
    }
   },
   "id": "7cfb25ad97e07eb4"
  },
  {
   "cell_type": "code",
   "execution_count": 6,
   "outputs": [],
   "source": [
    "def train_loop(dataloader, model, loss_fn, optimizer):\n",
    "    size = len(dataloader.dataset)\n",
    "    for batch, (X, y) in enumerate(dataloader):\n",
    "        # Compute prediction and loss\n",
    "        pred = model(X)\n",
    "        loss = loss_fn(pred, y)\n",
    "        \n",
    "        # Backpropagation\n",
    "        optimizer.zero_grad()\n",
    "        loss.backward()\n",
    "        optimizer.step()\n",
    "        \n",
    "        if batch % 100 == 0:\n",
    "            loss, current = loss.item(), batch*len(X)\n",
    "            print(f\"loss: {loss:>7f} [{current:>5d}/{size:>5d}]\")\n",
    "            \n",
    "def test_loop(dataloader, model, loss_fn):\n",
    "    size = len(dataloader.dataset)\n",
    "    num_batches = len(dataloader)\n",
    "    test_loss, correct = 0,0\n",
    "    \n",
    "    with torch.no_grad():\n",
    "        for X, y in dataloader:\n",
    "            pred = model(X)\n",
    "            test_loss += loss_fn(pred, y).item()\n",
    "            correct += (pred.argmax(1)==y).type(torch.float).sum().item()\n",
    "            \n",
    "    test_loss /= num_batches\n",
    "    correct /= size\n",
    "    \n",
    "    print(f\"Test Error: \\n Accuracy: {(100*correct):>0.1f}%, Avg loss: {test_loss:>8f} \\n\")"
   ],
   "metadata": {
    "collapsed": false,
    "ExecuteTime": {
     "end_time": "2023-10-18T08:10:13.141904Z",
     "start_time": "2023-10-18T08:10:13.127908Z"
    }
   },
   "id": "6bf0f21f77f7e3f6"
  },
  {
   "cell_type": "code",
   "execution_count": 7,
   "outputs": [
    {
     "name": "stdout",
     "output_type": "stream",
     "text": [
      "Epoch 1\n",
      "-------------------------------\n",
      "loss: 2.301931 [    0/60000]\n",
      "loss: 2.292635 [ 6400/60000]\n",
      "loss: 2.277722 [12800/60000]\n",
      "loss: 2.272102 [19200/60000]\n",
      "loss: 2.258940 [25600/60000]\n",
      "loss: 2.222732 [32000/60000]\n",
      "loss: 2.236552 [38400/60000]\n",
      "loss: 2.192803 [44800/60000]\n",
      "loss: 2.193199 [51200/60000]\n",
      "loss: 2.171128 [57600/60000]\n",
      "Test Error: \n",
      " Accuracy: 35.8%, Avg loss: 2.163559 \n",
      "\n",
      "Epoch 2\n",
      "-------------------------------\n",
      "loss: 2.173594 [    0/60000]\n",
      "loss: 2.163070 [ 6400/60000]\n",
      "loss: 2.112683 [12800/60000]\n",
      "loss: 2.119544 [19200/60000]\n",
      "loss: 2.070926 [25600/60000]\n",
      "loss: 2.018736 [32000/60000]\n",
      "loss: 2.044808 [38400/60000]\n",
      "loss: 1.965170 [44800/60000]\n",
      "loss: 1.965238 [51200/60000]\n",
      "loss: 1.903326 [57600/60000]\n",
      "Test Error: \n",
      " Accuracy: 50.4%, Avg loss: 1.900500 \n",
      "\n",
      "Epoch 3\n",
      "-------------------------------\n",
      "loss: 1.937493 [    0/60000]\n",
      "loss: 1.908798 [ 6400/60000]\n",
      "loss: 1.800939 [12800/60000]\n",
      "loss: 1.821744 [19200/60000]\n",
      "loss: 1.721929 [25600/60000]\n",
      "loss: 1.685026 [32000/60000]\n",
      "loss: 1.701589 [38400/60000]\n",
      "loss: 1.607629 [44800/60000]\n",
      "loss: 1.624329 [51200/60000]\n",
      "loss: 1.524379 [57600/60000]\n",
      "Test Error: \n",
      " Accuracy: 57.6%, Avg loss: 1.541589 \n",
      "\n",
      "Epoch 4\n",
      "-------------------------------\n",
      "loss: 1.613395 [    0/60000]\n",
      "loss: 1.578703 [ 6400/60000]\n",
      "loss: 1.436299 [12800/60000]\n",
      "loss: 1.488546 [19200/60000]\n",
      "loss: 1.383533 [25600/60000]\n",
      "loss: 1.383148 [32000/60000]\n",
      "loss: 1.399024 [38400/60000]\n",
      "loss: 1.326688 [44800/60000]\n",
      "loss: 1.349940 [51200/60000]\n",
      "loss: 1.254294 [57600/60000]\n",
      "Test Error: \n",
      " Accuracy: 62.3%, Avg loss: 1.278496 \n",
      "\n",
      "Epoch 5\n",
      "-------------------------------\n",
      "loss: 1.358908 [    0/60000]\n",
      "loss: 1.340762 [ 6400/60000]\n",
      "loss: 1.180395 [12800/60000]\n",
      "loss: 1.266637 [19200/60000]\n",
      "loss: 1.157188 [25600/60000]\n",
      "loss: 1.183034 [32000/60000]\n",
      "loss: 1.207017 [38400/60000]\n",
      "loss: 1.147234 [44800/60000]\n",
      "loss: 1.171137 [51200/60000]\n",
      "loss: 1.089285 [57600/60000]\n",
      "Test Error: \n",
      " Accuracy: 64.5%, Avg loss: 1.108924 \n",
      "\n",
      "Epoch 6\n",
      "-------------------------------\n",
      "loss: 1.183164 [    0/60000]\n",
      "loss: 1.185707 [ 6400/60000]\n",
      "loss: 1.005795 [12800/60000]\n",
      "loss: 1.122023 [19200/60000]\n",
      "loss: 1.011748 [25600/60000]\n",
      "loss: 1.044363 [32000/60000]\n",
      "loss: 1.082287 [38400/60000]\n",
      "loss: 1.027840 [44800/60000]\n",
      "loss: 1.050689 [51200/60000]\n",
      "loss: 0.981885 [57600/60000]\n",
      "Test Error: \n",
      " Accuracy: 65.7%, Avg loss: 0.996032 \n",
      "\n",
      "Epoch 7\n",
      "-------------------------------\n",
      "loss: 1.057105 [    0/60000]\n",
      "loss: 1.081988 [ 6400/60000]\n",
      "loss: 0.882387 [12800/60000]\n",
      "loss: 1.023371 [19200/60000]\n",
      "loss: 0.917769 [25600/60000]\n",
      "loss: 0.944043 [32000/60000]\n",
      "loss: 0.997844 [38400/60000]\n",
      "loss: 0.947094 [44800/60000]\n",
      "loss: 0.966451 [51200/60000]\n",
      "loss: 0.908673 [57600/60000]\n",
      "Test Error: \n",
      " Accuracy: 67.0%, Avg loss: 0.918366 \n",
      "\n",
      "Epoch 8\n",
      "-------------------------------\n",
      "loss: 0.963561 [    0/60000]\n",
      "loss: 1.009236 [ 6400/60000]\n",
      "loss: 0.793105 [12800/60000]\n",
      "loss: 0.953729 [19200/60000]\n",
      "loss: 0.854912 [25600/60000]\n",
      "loss: 0.869896 [32000/60000]\n",
      "loss: 0.937683 [38400/60000]\n",
      "loss: 0.891523 [44800/60000]\n",
      "loss: 0.906088 [51200/60000]\n",
      "loss: 0.856530 [57600/60000]\n",
      "Test Error: \n",
      " Accuracy: 68.3%, Avg loss: 0.862816 \n",
      "\n",
      "Epoch 9\n",
      "-------------------------------\n",
      "loss: 0.891999 [    0/60000]\n",
      "loss: 0.955159 [ 6400/60000]\n",
      "loss: 0.726648 [12800/60000]\n",
      "loss: 0.902876 [19200/60000]\n",
      "loss: 0.810398 [25600/60000]\n",
      "loss: 0.814437 [32000/60000]\n",
      "loss: 0.892400 [38400/60000]\n",
      "loss: 0.852188 [44800/60000]\n",
      "loss: 0.861410 [51200/60000]\n",
      "loss: 0.817289 [57600/60000]\n",
      "Test Error: \n",
      " Accuracy: 69.7%, Avg loss: 0.821212 \n",
      "\n",
      "Epoch 10\n",
      "-------------------------------\n",
      "loss: 0.835532 [    0/60000]\n",
      "loss: 0.912458 [ 6400/60000]\n",
      "loss: 0.675276 [12800/60000]\n",
      "loss: 0.864392 [19200/60000]\n",
      "loss: 0.776965 [25600/60000]\n",
      "loss: 0.772552 [32000/60000]\n",
      "loss: 0.856347 [38400/60000]\n",
      "loss: 0.822932 [44800/60000]\n",
      "loss: 0.827430 [51200/60000]\n",
      "loss: 0.786433 [57600/60000]\n",
      "Test Error: \n",
      " Accuracy: 71.2%, Avg loss: 0.788727 \n",
      "\n",
      "Done!\n"
     ]
    }
   ],
   "source": [
    "loss_fn = nn.CrossEntropyLoss()\n",
    "optimizer = torch.optim.SGD(model.parameters(), lr=learning_rate)\n",
    "\n",
    "epochs = 10\n",
    "\n",
    "for i in range(epochs):\n",
    "    print(f\"Epoch {i+1}\\n-------------------------------\")\n",
    "    train_loop(train_dataloader, model, loss_fn, optimizer)\n",
    "    test_loop(test_dataloader, model, loss_fn)\n",
    "print(\"Done!\")"
   ],
   "metadata": {
    "collapsed": false,
    "ExecuteTime": {
     "end_time": "2023-10-18T08:11:31.793091Z",
     "start_time": "2023-10-18T08:10:57.831114Z"
    }
   },
   "id": "137fd4ebbe378361"
  },
  {
   "cell_type": "code",
   "execution_count": null,
   "outputs": [],
   "source": [],
   "metadata": {
    "collapsed": false
   },
   "id": "43515ace0692b23b"
  }
 ],
 "metadata": {
  "kernelspec": {
   "display_name": "Python 3",
   "language": "python",
   "name": "python3"
  },
  "language_info": {
   "codemirror_mode": {
    "name": "ipython",
    "version": 2
   },
   "file_extension": ".py",
   "mimetype": "text/x-python",
   "name": "python",
   "nbconvert_exporter": "python",
   "pygments_lexer": "ipython2",
   "version": "2.7.6"
  }
 },
 "nbformat": 4,
 "nbformat_minor": 5
}
