{
 "cells": [
  {
   "cell_type": "code",
   "execution_count": 1,
   "metadata": {},
   "outputs": [],
   "source": [
    "import pandas as pd\n",
    "import matplotlib.pyplot as plt\n",
    "import seaborn as sns\n",
    "import plotly.express as px"
   ]
  },
  {
   "cell_type": "code",
   "execution_count": 2,
   "metadata": {},
   "outputs": [
    {
     "name": "stdout",
     "output_type": "stream",
     "text": [
      "(159, 7)\n",
      "Index(['Species', 'Weight', 'Length1', 'Length2', 'Length3', 'Height',\n",
      "       'Width'],\n",
      "      dtype='object')\n"
     ]
    },
    {
     "data": {
      "text/html": [
       "<div>\n",
       "<style scoped>\n",
       "    .dataframe tbody tr th:only-of-type {\n",
       "        vertical-align: middle;\n",
       "    }\n",
       "\n",
       "    .dataframe tbody tr th {\n",
       "        vertical-align: top;\n",
       "    }\n",
       "\n",
       "    .dataframe thead th {\n",
       "        text-align: right;\n",
       "    }\n",
       "</style>\n",
       "<table border=\"1\" class=\"dataframe\">\n",
       "  <thead>\n",
       "    <tr style=\"text-align: right;\">\n",
       "      <th></th>\n",
       "      <th>Species</th>\n",
       "      <th>Weight</th>\n",
       "      <th>Length1</th>\n",
       "      <th>Length2</th>\n",
       "      <th>Length3</th>\n",
       "      <th>Height</th>\n",
       "      <th>Width</th>\n",
       "    </tr>\n",
       "  </thead>\n",
       "  <tbody>\n",
       "    <tr>\n",
       "      <th>0</th>\n",
       "      <td>Bream</td>\n",
       "      <td>242.0</td>\n",
       "      <td>23.2</td>\n",
       "      <td>25.4</td>\n",
       "      <td>30.0</td>\n",
       "      <td>11.5200</td>\n",
       "      <td>4.0200</td>\n",
       "    </tr>\n",
       "    <tr>\n",
       "      <th>1</th>\n",
       "      <td>Bream</td>\n",
       "      <td>290.0</td>\n",
       "      <td>24.0</td>\n",
       "      <td>26.3</td>\n",
       "      <td>31.2</td>\n",
       "      <td>12.4800</td>\n",
       "      <td>4.3056</td>\n",
       "    </tr>\n",
       "    <tr>\n",
       "      <th>2</th>\n",
       "      <td>Bream</td>\n",
       "      <td>340.0</td>\n",
       "      <td>23.9</td>\n",
       "      <td>26.5</td>\n",
       "      <td>31.1</td>\n",
       "      <td>12.3778</td>\n",
       "      <td>4.6961</td>\n",
       "    </tr>\n",
       "    <tr>\n",
       "      <th>3</th>\n",
       "      <td>Bream</td>\n",
       "      <td>363.0</td>\n",
       "      <td>26.3</td>\n",
       "      <td>29.0</td>\n",
       "      <td>33.5</td>\n",
       "      <td>12.7300</td>\n",
       "      <td>4.4555</td>\n",
       "    </tr>\n",
       "    <tr>\n",
       "      <th>4</th>\n",
       "      <td>Bream</td>\n",
       "      <td>430.0</td>\n",
       "      <td>26.5</td>\n",
       "      <td>29.0</td>\n",
       "      <td>34.0</td>\n",
       "      <td>12.4440</td>\n",
       "      <td>5.1340</td>\n",
       "    </tr>\n",
       "  </tbody>\n",
       "</table>\n",
       "</div>"
      ],
      "text/plain": [
       "  Species  Weight  Length1  Length2  Length3   Height   Width\n",
       "0   Bream   242.0     23.2     25.4     30.0  11.5200  4.0200\n",
       "1   Bream   290.0     24.0     26.3     31.2  12.4800  4.3056\n",
       "2   Bream   340.0     23.9     26.5     31.1  12.3778  4.6961\n",
       "3   Bream   363.0     26.3     29.0     33.5  12.7300  4.4555\n",
       "4   Bream   430.0     26.5     29.0     34.0  12.4440  5.1340"
      ]
     },
     "execution_count": 2,
     "metadata": {},
     "output_type": "execute_result"
    }
   ],
   "source": [
    "df = pd.read_csv('./datasets/Fish.csv')\n",
    "print(df.shape)\n",
    "print(df.columns)\n",
    "df.head()"
   ]
  },
  {
   "cell_type": "code",
   "execution_count": 3,
   "metadata": {},
   "outputs": [
    {
     "data": {
      "text/plain": [
       "Species\n",
       "Perch        56\n",
       "Bream        35\n",
       "Roach        20\n",
       "Pike         17\n",
       "Smelt        14\n",
       "Parkki       11\n",
       "Whitefish     6\n",
       "Name: count, dtype: int64"
      ]
     },
     "execution_count": 3,
     "metadata": {},
     "output_type": "execute_result"
    }
   ],
   "source": [
    "df['Species'].value_counts()"
   ]
  },
  {
   "cell_type": "code",
   "execution_count": 4,
   "metadata": {},
   "outputs": [
    {
     "data": {
      "application/vnd.plotly.v1+json": {
       "config": {
        "plotlyServerURL": "https://plot.ly"
       },
       "data": [
        {
         "hovertemplate": "Species=Bream<br>Width=%{x}<br>Height=%{y}<br>Weight=%{marker.size}<extra></extra>",
         "legendgroup": "Bream",
         "marker": {
          "color": "#636efa",
          "size": [
           242,
           290,
           340,
           363,
           430,
           450,
           500,
           390,
           450,
           500,
           475,
           500,
           500,
           340,
           600,
           600,
           700,
           700,
           610,
           650,
           575,
           685,
           620,
           680,
           700,
           725,
           720,
           714,
           850,
           1000,
           920,
           955,
           925,
           975,
           950
          ],
          "sizemode": "area",
          "sizeref": 4.125,
          "symbol": "circle"
         },
         "mode": "markers",
         "name": "Bream",
         "orientation": "v",
         "showlegend": true,
         "type": "scatter",
         "x": [
          4.02,
          4.3056,
          4.6961,
          4.4555,
          5.134,
          4.9274,
          5.2785,
          4.69,
          4.8438,
          4.9594,
          5.1042,
          4.8146,
          4.368,
          5.0728,
          5.1708,
          5.58,
          5.2854,
          5.1975,
          5.1338,
          5.7276,
          5.5695,
          5.3704,
          5.2801,
          6.1306,
          5.589,
          6.0532,
          6.09,
          5.8515,
          6.1984,
          6.603,
          6.3063,
          6.292,
          6.7497,
          6.7473,
          6.3705
         ],
         "xaxis": "x",
         "y": [
          11.52,
          12.48,
          12.3778,
          12.73,
          12.444,
          13.6024,
          14.1795,
          12.67,
          14.0049,
          14.2266,
          14.2628,
          14.3714,
          13.7592,
          13.9129,
          14.9544,
          15.438,
          14.8604,
          14.938,
          15.633,
          14.4738,
          15.1285,
          15.9936,
          15.5227,
          15.4686,
          16.2405,
          16.36,
          16.3618,
          16.517,
          16.8896,
          18.957,
          18.0369,
          18.084,
          18.7542,
          18.6354,
          17.6235
         ],
         "yaxis": "y"
        },
        {
         "hovertemplate": "Species=Roach<br>Width=%{x}<br>Height=%{y}<br>Weight=%{marker.size}<extra></extra>",
         "legendgroup": "Roach",
         "marker": {
          "color": "#EF553B",
          "size": [
           40,
           69,
           78,
           87,
           120,
           0,
           110,
           120,
           150,
           145,
           160,
           140,
           160,
           169,
           161,
           200,
           180,
           290,
           272,
           390
          ],
          "sizemode": "area",
          "sizeref": 4.125,
          "symbol": "circle"
         },
         "mode": "markers",
         "name": "Roach",
         "orientation": "v",
         "showlegend": true,
         "type": "scatter",
         "x": [
          2.268,
          2.8217,
          2.9044,
          3.1746,
          3.5742,
          3.3516,
          3.3957,
          3.2943,
          3.7544,
          3.5478,
          3.8203,
          3.325,
          3.8,
          3.8352,
          3.6312,
          4.1272,
          3.906,
          4.4968,
          4.7736,
          5.355
         ],
         "xaxis": "x",
         "y": [
          4.1472,
          5.2983,
          5.5756,
          5.6166,
          6.216,
          6.4752,
          6.1677,
          6.1146,
          5.8045,
          6.6339,
          7.0334,
          6.55,
          6.4,
          7.5344,
          6.9153,
          7.3968,
          7.0866,
          8.8768,
          8.568,
          9.485
         ],
         "yaxis": "y"
        },
        {
         "hovertemplate": "Species=Whitefish<br>Width=%{x}<br>Height=%{y}<br>Weight=%{marker.size}<extra></extra>",
         "legendgroup": "Whitefish",
         "marker": {
          "color": "#00cc96",
          "size": [
           270,
           270,
           306,
           540,
           800,
           1000
          ],
          "sizemode": "area",
          "sizeref": 4.125,
          "symbol": "circle"
         },
         "mode": "markers",
         "name": "Whitefish",
         "orientation": "v",
         "showlegend": true,
         "type": "scatter",
         "x": [
          4.2476,
          4.2485,
          4.6816,
          6.562,
          6.5736,
          6.525
         ],
         "xaxis": "x",
         "y": [
          8.3804,
          8.1454,
          8.778,
          10.744,
          11.7612,
          12.354
         ],
         "yaxis": "y"
        },
        {
         "hovertemplate": "Species=Parkki<br>Width=%{x}<br>Height=%{y}<br>Weight=%{marker.size}<extra></extra>",
         "legendgroup": "Parkki",
         "marker": {
          "color": "#ab63fa",
          "size": [
           55,
           60,
           90,
           120,
           150,
           140,
           170,
           145,
           200,
           273,
           300
          ],
          "sizemode": "area",
          "sizeref": 4.125,
          "symbol": "circle"
         },
         "mode": "markers",
         "name": "Parkki",
         "orientation": "v",
         "showlegend": true,
         "type": "scatter",
         "x": [
          2.3265,
          2.3142,
          2.673,
          2.9181,
          3.2928,
          3.2944,
          3.4104,
          3.1571,
          3.6636,
          4.144,
          4.234
         ],
         "xaxis": "x",
         "y": [
          6.8475,
          6.5772,
          7.4052,
          8.3922,
          8.8928,
          8.5376,
          9.396,
          9.7364,
          10.3458,
          11.088,
          11.368
         ],
         "yaxis": "y"
        },
        {
         "hovertemplate": "Species=Perch<br>Width=%{x}<br>Height=%{y}<br>Weight=%{marker.size}<extra></extra>",
         "legendgroup": "Perch",
         "marker": {
          "color": "#FFA15A",
          "size": [
           5.9,
           32,
           40,
           51.5,
           70,
           100,
           78,
           80,
           85,
           85,
           110,
           115,
           125,
           130,
           120,
           120,
           130,
           135,
           110,
           130,
           150,
           145,
           150,
           170,
           225,
           145,
           188,
           180,
           197,
           218,
           300,
           260,
           265,
           250,
           250,
           300,
           320,
           514,
           556,
           840,
           685,
           700,
           700,
           690,
           900,
           650,
           820,
           850,
           900,
           1015,
           820,
           1100,
           1000,
           1100,
           1000,
           1000
          ],
          "sizemode": "area",
          "sizeref": 4.125,
          "symbol": "circle"
         },
         "mode": "markers",
         "name": "Perch",
         "orientation": "v",
         "showlegend": true,
         "type": "scatter",
         "x": [
          1.408,
          1.9992,
          2.432,
          2.6316,
          2.9415,
          3.3216,
          3.1234,
          3.0502,
          3.0368,
          2.772,
          3.555,
          3.3075,
          3.6675,
          3.534,
          3.4075,
          3.525,
          3.525,
          3.525,
          3.995,
          3.624,
          3.624,
          3.63,
          3.626,
          3.725,
          3.723,
          3.825,
          4.1658,
          3.6835,
          4.239,
          4.144,
          5.1373,
          4.335,
          4.335,
          4.5662,
          4.2042,
          4.6354,
          4.7716,
          6.018,
          6.3875,
          7.7957,
          6.864,
          6.7408,
          6.2646,
          6.3666,
          7.4934,
          6.003,
          7.3514,
          7.1064,
          7.225,
          7.4624,
          6.63,
          6.8684,
          7.2772,
          7.4165,
          8.142,
          7.5958
         ],
         "xaxis": "x",
         "y": [
          2.112,
          3.528,
          3.824,
          4.5924,
          4.588,
          5.2224,
          5.1992,
          5.6358,
          5.1376,
          5.082,
          5.6925,
          5.9175,
          5.6925,
          6.384,
          6.11,
          5.64,
          6.11,
          5.875,
          5.5225,
          5.856,
          6.792,
          5.9532,
          5.2185,
          6.275,
          7.293,
          6.375,
          6.7334,
          6.4395,
          6.561,
          7.168,
          8.323,
          7.1672,
          7.0516,
          7.2828,
          7.8204,
          7.5852,
          7.6156,
          10.03,
          10.2565,
          11.4884,
          10.881,
          10.6091,
          10.835,
          10.5717,
          11.1366,
          11.1366,
          12.4313,
          11.9286,
          11.73,
          12.3808,
          11.135,
          12.8002,
          11.9328,
          12.5125,
          12.604,
          12.4888
         ],
         "yaxis": "y"
        },
        {
         "hovertemplate": "Species=Pike<br>Width=%{x}<br>Height=%{y}<br>Weight=%{marker.size}<extra></extra>",
         "legendgroup": "Pike",
         "marker": {
          "color": "#19d3f3",
          "size": [
           200,
           300,
           300,
           300,
           430,
           345,
           456,
           510,
           540,
           500,
           567,
           770,
           950,
           1250,
           1600,
           1550,
           1650
          ],
          "sizemode": "area",
          "sizeref": 4.125,
          "symbol": "circle"
         },
         "mode": "markers",
         "name": "Pike",
         "orientation": "v",
         "showlegend": true,
         "type": "scatter",
         "x": [
          3.3756,
          4.158,
          4.3844,
          4.0198,
          4.5765,
          3.977,
          4.3225,
          4.459,
          5.1296,
          4.896,
          4.87,
          5.376,
          6.1712,
          6.9849,
          6.144,
          6.144,
          7.48
         ],
         "xaxis": "x",
         "y": [
          5.568,
          5.7078,
          5.9364,
          6.2884,
          7.29,
          6.396,
          7.28,
          6.825,
          7.786,
          6.96,
          7.792,
          7.68,
          8.9262,
          10.6863,
          9.6,
          9.6,
          10.812
         ],
         "yaxis": "y"
        },
        {
         "hovertemplate": "Species=Smelt<br>Width=%{x}<br>Height=%{y}<br>Weight=%{marker.size}<extra></extra>",
         "legendgroup": "Smelt",
         "marker": {
          "color": "#FF6692",
          "size": [
           6.7,
           7.5,
           7,
           9.7,
           9.8,
           8.7,
           10,
           9.9,
           9.8,
           12.2,
           13.4,
           12.2,
           19.7,
           19.9
          ],
          "sizemode": "area",
          "sizeref": 4.125,
          "symbol": "circle"
         },
         "mode": "markers",
         "name": "Smelt",
         "orientation": "v",
         "showlegend": true,
         "type": "scatter",
         "x": [
          1.0476,
          1.16,
          1.1484,
          1.38,
          1.2772,
          1.2852,
          1.2838,
          1.1659,
          1.1484,
          1.3936,
          1.269,
          1.2558,
          2.0672,
          1.8792
         ],
         "xaxis": "x",
         "y": [
          1.7388,
          1.972,
          1.7284,
          2.196,
          2.0832,
          1.9782,
          2.2139,
          2.2139,
          2.2044,
          2.0904,
          2.43,
          2.277,
          2.8728,
          2.9322
         ],
         "yaxis": "y"
        }
       ],
       "layout": {
        "legend": {
         "itemsizing": "constant",
         "title": {
          "text": "Species"
         },
         "tracegroupgap": 0
        },
        "margin": {
         "t": 60
        },
        "template": {
         "data": {
          "bar": [
           {
            "error_x": {
             "color": "#2a3f5f"
            },
            "error_y": {
             "color": "#2a3f5f"
            },
            "marker": {
             "line": {
              "color": "#E5ECF6",
              "width": 0.5
             },
             "pattern": {
              "fillmode": "overlay",
              "size": 10,
              "solidity": 0.2
             }
            },
            "type": "bar"
           }
          ],
          "barpolar": [
           {
            "marker": {
             "line": {
              "color": "#E5ECF6",
              "width": 0.5
             },
             "pattern": {
              "fillmode": "overlay",
              "size": 10,
              "solidity": 0.2
             }
            },
            "type": "barpolar"
           }
          ],
          "carpet": [
           {
            "aaxis": {
             "endlinecolor": "#2a3f5f",
             "gridcolor": "white",
             "linecolor": "white",
             "minorgridcolor": "white",
             "startlinecolor": "#2a3f5f"
            },
            "baxis": {
             "endlinecolor": "#2a3f5f",
             "gridcolor": "white",
             "linecolor": "white",
             "minorgridcolor": "white",
             "startlinecolor": "#2a3f5f"
            },
            "type": "carpet"
           }
          ],
          "choropleth": [
           {
            "colorbar": {
             "outlinewidth": 0,
             "ticks": ""
            },
            "type": "choropleth"
           }
          ],
          "contour": [
           {
            "colorbar": {
             "outlinewidth": 0,
             "ticks": ""
            },
            "colorscale": [
             [
              0,
              "#0d0887"
             ],
             [
              0.1111111111111111,
              "#46039f"
             ],
             [
              0.2222222222222222,
              "#7201a8"
             ],
             [
              0.3333333333333333,
              "#9c179e"
             ],
             [
              0.4444444444444444,
              "#bd3786"
             ],
             [
              0.5555555555555556,
              "#d8576b"
             ],
             [
              0.6666666666666666,
              "#ed7953"
             ],
             [
              0.7777777777777778,
              "#fb9f3a"
             ],
             [
              0.8888888888888888,
              "#fdca26"
             ],
             [
              1,
              "#f0f921"
             ]
            ],
            "type": "contour"
           }
          ],
          "contourcarpet": [
           {
            "colorbar": {
             "outlinewidth": 0,
             "ticks": ""
            },
            "type": "contourcarpet"
           }
          ],
          "heatmap": [
           {
            "colorbar": {
             "outlinewidth": 0,
             "ticks": ""
            },
            "colorscale": [
             [
              0,
              "#0d0887"
             ],
             [
              0.1111111111111111,
              "#46039f"
             ],
             [
              0.2222222222222222,
              "#7201a8"
             ],
             [
              0.3333333333333333,
              "#9c179e"
             ],
             [
              0.4444444444444444,
              "#bd3786"
             ],
             [
              0.5555555555555556,
              "#d8576b"
             ],
             [
              0.6666666666666666,
              "#ed7953"
             ],
             [
              0.7777777777777778,
              "#fb9f3a"
             ],
             [
              0.8888888888888888,
              "#fdca26"
             ],
             [
              1,
              "#f0f921"
             ]
            ],
            "type": "heatmap"
           }
          ],
          "heatmapgl": [
           {
            "colorbar": {
             "outlinewidth": 0,
             "ticks": ""
            },
            "colorscale": [
             [
              0,
              "#0d0887"
             ],
             [
              0.1111111111111111,
              "#46039f"
             ],
             [
              0.2222222222222222,
              "#7201a8"
             ],
             [
              0.3333333333333333,
              "#9c179e"
             ],
             [
              0.4444444444444444,
              "#bd3786"
             ],
             [
              0.5555555555555556,
              "#d8576b"
             ],
             [
              0.6666666666666666,
              "#ed7953"
             ],
             [
              0.7777777777777778,
              "#fb9f3a"
             ],
             [
              0.8888888888888888,
              "#fdca26"
             ],
             [
              1,
              "#f0f921"
             ]
            ],
            "type": "heatmapgl"
           }
          ],
          "histogram": [
           {
            "marker": {
             "pattern": {
              "fillmode": "overlay",
              "size": 10,
              "solidity": 0.2
             }
            },
            "type": "histogram"
           }
          ],
          "histogram2d": [
           {
            "colorbar": {
             "outlinewidth": 0,
             "ticks": ""
            },
            "colorscale": [
             [
              0,
              "#0d0887"
             ],
             [
              0.1111111111111111,
              "#46039f"
             ],
             [
              0.2222222222222222,
              "#7201a8"
             ],
             [
              0.3333333333333333,
              "#9c179e"
             ],
             [
              0.4444444444444444,
              "#bd3786"
             ],
             [
              0.5555555555555556,
              "#d8576b"
             ],
             [
              0.6666666666666666,
              "#ed7953"
             ],
             [
              0.7777777777777778,
              "#fb9f3a"
             ],
             [
              0.8888888888888888,
              "#fdca26"
             ],
             [
              1,
              "#f0f921"
             ]
            ],
            "type": "histogram2d"
           }
          ],
          "histogram2dcontour": [
           {
            "colorbar": {
             "outlinewidth": 0,
             "ticks": ""
            },
            "colorscale": [
             [
              0,
              "#0d0887"
             ],
             [
              0.1111111111111111,
              "#46039f"
             ],
             [
              0.2222222222222222,
              "#7201a8"
             ],
             [
              0.3333333333333333,
              "#9c179e"
             ],
             [
              0.4444444444444444,
              "#bd3786"
             ],
             [
              0.5555555555555556,
              "#d8576b"
             ],
             [
              0.6666666666666666,
              "#ed7953"
             ],
             [
              0.7777777777777778,
              "#fb9f3a"
             ],
             [
              0.8888888888888888,
              "#fdca26"
             ],
             [
              1,
              "#f0f921"
             ]
            ],
            "type": "histogram2dcontour"
           }
          ],
          "mesh3d": [
           {
            "colorbar": {
             "outlinewidth": 0,
             "ticks": ""
            },
            "type": "mesh3d"
           }
          ],
          "parcoords": [
           {
            "line": {
             "colorbar": {
              "outlinewidth": 0,
              "ticks": ""
             }
            },
            "type": "parcoords"
           }
          ],
          "pie": [
           {
            "automargin": true,
            "type": "pie"
           }
          ],
          "scatter": [
           {
            "fillpattern": {
             "fillmode": "overlay",
             "size": 10,
             "solidity": 0.2
            },
            "type": "scatter"
           }
          ],
          "scatter3d": [
           {
            "line": {
             "colorbar": {
              "outlinewidth": 0,
              "ticks": ""
             }
            },
            "marker": {
             "colorbar": {
              "outlinewidth": 0,
              "ticks": ""
             }
            },
            "type": "scatter3d"
           }
          ],
          "scattercarpet": [
           {
            "marker": {
             "colorbar": {
              "outlinewidth": 0,
              "ticks": ""
             }
            },
            "type": "scattercarpet"
           }
          ],
          "scattergeo": [
           {
            "marker": {
             "colorbar": {
              "outlinewidth": 0,
              "ticks": ""
             }
            },
            "type": "scattergeo"
           }
          ],
          "scattergl": [
           {
            "marker": {
             "colorbar": {
              "outlinewidth": 0,
              "ticks": ""
             }
            },
            "type": "scattergl"
           }
          ],
          "scattermapbox": [
           {
            "marker": {
             "colorbar": {
              "outlinewidth": 0,
              "ticks": ""
             }
            },
            "type": "scattermapbox"
           }
          ],
          "scatterpolar": [
           {
            "marker": {
             "colorbar": {
              "outlinewidth": 0,
              "ticks": ""
             }
            },
            "type": "scatterpolar"
           }
          ],
          "scatterpolargl": [
           {
            "marker": {
             "colorbar": {
              "outlinewidth": 0,
              "ticks": ""
             }
            },
            "type": "scatterpolargl"
           }
          ],
          "scatterternary": [
           {
            "marker": {
             "colorbar": {
              "outlinewidth": 0,
              "ticks": ""
             }
            },
            "type": "scatterternary"
           }
          ],
          "surface": [
           {
            "colorbar": {
             "outlinewidth": 0,
             "ticks": ""
            },
            "colorscale": [
             [
              0,
              "#0d0887"
             ],
             [
              0.1111111111111111,
              "#46039f"
             ],
             [
              0.2222222222222222,
              "#7201a8"
             ],
             [
              0.3333333333333333,
              "#9c179e"
             ],
             [
              0.4444444444444444,
              "#bd3786"
             ],
             [
              0.5555555555555556,
              "#d8576b"
             ],
             [
              0.6666666666666666,
              "#ed7953"
             ],
             [
              0.7777777777777778,
              "#fb9f3a"
             ],
             [
              0.8888888888888888,
              "#fdca26"
             ],
             [
              1,
              "#f0f921"
             ]
            ],
            "type": "surface"
           }
          ],
          "table": [
           {
            "cells": {
             "fill": {
              "color": "#EBF0F8"
             },
             "line": {
              "color": "white"
             }
            },
            "header": {
             "fill": {
              "color": "#C8D4E3"
             },
             "line": {
              "color": "white"
             }
            },
            "type": "table"
           }
          ]
         },
         "layout": {
          "annotationdefaults": {
           "arrowcolor": "#2a3f5f",
           "arrowhead": 0,
           "arrowwidth": 1
          },
          "autotypenumbers": "strict",
          "coloraxis": {
           "colorbar": {
            "outlinewidth": 0,
            "ticks": ""
           }
          },
          "colorscale": {
           "diverging": [
            [
             0,
             "#8e0152"
            ],
            [
             0.1,
             "#c51b7d"
            ],
            [
             0.2,
             "#de77ae"
            ],
            [
             0.3,
             "#f1b6da"
            ],
            [
             0.4,
             "#fde0ef"
            ],
            [
             0.5,
             "#f7f7f7"
            ],
            [
             0.6,
             "#e6f5d0"
            ],
            [
             0.7,
             "#b8e186"
            ],
            [
             0.8,
             "#7fbc41"
            ],
            [
             0.9,
             "#4d9221"
            ],
            [
             1,
             "#276419"
            ]
           ],
           "sequential": [
            [
             0,
             "#0d0887"
            ],
            [
             0.1111111111111111,
             "#46039f"
            ],
            [
             0.2222222222222222,
             "#7201a8"
            ],
            [
             0.3333333333333333,
             "#9c179e"
            ],
            [
             0.4444444444444444,
             "#bd3786"
            ],
            [
             0.5555555555555556,
             "#d8576b"
            ],
            [
             0.6666666666666666,
             "#ed7953"
            ],
            [
             0.7777777777777778,
             "#fb9f3a"
            ],
            [
             0.8888888888888888,
             "#fdca26"
            ],
            [
             1,
             "#f0f921"
            ]
           ],
           "sequentialminus": [
            [
             0,
             "#0d0887"
            ],
            [
             0.1111111111111111,
             "#46039f"
            ],
            [
             0.2222222222222222,
             "#7201a8"
            ],
            [
             0.3333333333333333,
             "#9c179e"
            ],
            [
             0.4444444444444444,
             "#bd3786"
            ],
            [
             0.5555555555555556,
             "#d8576b"
            ],
            [
             0.6666666666666666,
             "#ed7953"
            ],
            [
             0.7777777777777778,
             "#fb9f3a"
            ],
            [
             0.8888888888888888,
             "#fdca26"
            ],
            [
             1,
             "#f0f921"
            ]
           ]
          },
          "colorway": [
           "#636efa",
           "#EF553B",
           "#00cc96",
           "#ab63fa",
           "#FFA15A",
           "#19d3f3",
           "#FF6692",
           "#B6E880",
           "#FF97FF",
           "#FECB52"
          ],
          "font": {
           "color": "#2a3f5f"
          },
          "geo": {
           "bgcolor": "white",
           "lakecolor": "white",
           "landcolor": "#E5ECF6",
           "showlakes": true,
           "showland": true,
           "subunitcolor": "white"
          },
          "hoverlabel": {
           "align": "left"
          },
          "hovermode": "closest",
          "mapbox": {
           "style": "light"
          },
          "paper_bgcolor": "white",
          "plot_bgcolor": "#E5ECF6",
          "polar": {
           "angularaxis": {
            "gridcolor": "white",
            "linecolor": "white",
            "ticks": ""
           },
           "bgcolor": "#E5ECF6",
           "radialaxis": {
            "gridcolor": "white",
            "linecolor": "white",
            "ticks": ""
           }
          },
          "scene": {
           "xaxis": {
            "backgroundcolor": "#E5ECF6",
            "gridcolor": "white",
            "gridwidth": 2,
            "linecolor": "white",
            "showbackground": true,
            "ticks": "",
            "zerolinecolor": "white"
           },
           "yaxis": {
            "backgroundcolor": "#E5ECF6",
            "gridcolor": "white",
            "gridwidth": 2,
            "linecolor": "white",
            "showbackground": true,
            "ticks": "",
            "zerolinecolor": "white"
           },
           "zaxis": {
            "backgroundcolor": "#E5ECF6",
            "gridcolor": "white",
            "gridwidth": 2,
            "linecolor": "white",
            "showbackground": true,
            "ticks": "",
            "zerolinecolor": "white"
           }
          },
          "shapedefaults": {
           "line": {
            "color": "#2a3f5f"
           }
          },
          "ternary": {
           "aaxis": {
            "gridcolor": "white",
            "linecolor": "white",
            "ticks": ""
           },
           "baxis": {
            "gridcolor": "white",
            "linecolor": "white",
            "ticks": ""
           },
           "bgcolor": "#E5ECF6",
           "caxis": {
            "gridcolor": "white",
            "linecolor": "white",
            "ticks": ""
           }
          },
          "title": {
           "x": 0.05
          },
          "xaxis": {
           "automargin": true,
           "gridcolor": "white",
           "linecolor": "white",
           "ticks": "",
           "title": {
            "standoff": 15
           },
           "zerolinecolor": "white",
           "zerolinewidth": 2
          },
          "yaxis": {
           "automargin": true,
           "gridcolor": "white",
           "linecolor": "white",
           "ticks": "",
           "title": {
            "standoff": 15
           },
           "zerolinecolor": "white",
           "zerolinewidth": 2
          }
         }
        },
        "xaxis": {
         "anchor": "y",
         "domain": [
          0,
          1
         ],
         "title": {
          "text": "Width"
         }
        },
        "yaxis": {
         "anchor": "x",
         "domain": [
          0,
          1
         ],
         "title": {
          "text": "Height"
         }
        }
       }
      }
     },
     "metadata": {},
     "output_type": "display_data"
    }
   ],
   "source": [
    "# scatter plot\n",
    "import plotly.express as px\n",
    "fig = px.scatter(df, x='Width', y='Height', color='Species', size='Weight')\n",
    "fig.show()"
   ]
  },
  {
   "cell_type": "code",
   "execution_count": 5,
   "metadata": {},
   "outputs": [
    {
     "data": {
      "application/vnd.plotly.v1+json": {
       "config": {
        "plotlyServerURL": "https://plot.ly"
       },
       "data": [
        {
         "hovertemplate": "Species=Bream<br>Width=%{x}<br>Height=%{y}<br>Weight=%{marker.size}<extra></extra>",
         "legendgroup": "Bream",
         "marker": {
          "color": "#636efa",
          "size": [
           242,
           290,
           340,
           363,
           430,
           450,
           500,
           390,
           450,
           500,
           475,
           500,
           500,
           340,
           600,
           600,
           700,
           700,
           610,
           650,
           575,
           685,
           620,
           680,
           700,
           725,
           720,
           714,
           850,
           1000,
           920,
           955,
           925,
           975,
           950
          ],
          "sizemode": "area",
          "sizeref": 4.125,
          "symbol": "circle"
         },
         "mode": "markers",
         "name": "Bream",
         "scene": "scene",
         "showlegend": true,
         "type": "scatter3d",
         "x": [
          4.02,
          4.3056,
          4.6961,
          4.4555,
          5.134,
          4.9274,
          5.2785,
          4.69,
          4.8438,
          4.9594,
          5.1042,
          4.8146,
          4.368,
          5.0728,
          5.1708,
          5.58,
          5.2854,
          5.1975,
          5.1338,
          5.7276,
          5.5695,
          5.3704,
          5.2801,
          6.1306,
          5.589,
          6.0532,
          6.09,
          5.8515,
          6.1984,
          6.603,
          6.3063,
          6.292,
          6.7497,
          6.7473,
          6.3705
         ],
         "y": [
          11.52,
          12.48,
          12.3778,
          12.73,
          12.444,
          13.6024,
          14.1795,
          12.67,
          14.0049,
          14.2266,
          14.2628,
          14.3714,
          13.7592,
          13.9129,
          14.9544,
          15.438,
          14.8604,
          14.938,
          15.633,
          14.4738,
          15.1285,
          15.9936,
          15.5227,
          15.4686,
          16.2405,
          16.36,
          16.3618,
          16.517,
          16.8896,
          18.957,
          18.0369,
          18.084,
          18.7542,
          18.6354,
          17.6235
         ],
         "z": [
          242,
          290,
          340,
          363,
          430,
          450,
          500,
          390,
          450,
          500,
          475,
          500,
          500,
          340,
          600,
          600,
          700,
          700,
          610,
          650,
          575,
          685,
          620,
          680,
          700,
          725,
          720,
          714,
          850,
          1000,
          920,
          955,
          925,
          975,
          950
         ]
        },
        {
         "hovertemplate": "Species=Roach<br>Width=%{x}<br>Height=%{y}<br>Weight=%{marker.size}<extra></extra>",
         "legendgroup": "Roach",
         "marker": {
          "color": "#EF553B",
          "size": [
           40,
           69,
           78,
           87,
           120,
           0,
           110,
           120,
           150,
           145,
           160,
           140,
           160,
           169,
           161,
           200,
           180,
           290,
           272,
           390
          ],
          "sizemode": "area",
          "sizeref": 4.125,
          "symbol": "circle"
         },
         "mode": "markers",
         "name": "Roach",
         "scene": "scene",
         "showlegend": true,
         "type": "scatter3d",
         "x": [
          2.268,
          2.8217,
          2.9044,
          3.1746,
          3.5742,
          3.3516,
          3.3957,
          3.2943,
          3.7544,
          3.5478,
          3.8203,
          3.325,
          3.8,
          3.8352,
          3.6312,
          4.1272,
          3.906,
          4.4968,
          4.7736,
          5.355
         ],
         "y": [
          4.1472,
          5.2983,
          5.5756,
          5.6166,
          6.216,
          6.4752,
          6.1677,
          6.1146,
          5.8045,
          6.6339,
          7.0334,
          6.55,
          6.4,
          7.5344,
          6.9153,
          7.3968,
          7.0866,
          8.8768,
          8.568,
          9.485
         ],
         "z": [
          40,
          69,
          78,
          87,
          120,
          0,
          110,
          120,
          150,
          145,
          160,
          140,
          160,
          169,
          161,
          200,
          180,
          290,
          272,
          390
         ]
        },
        {
         "hovertemplate": "Species=Whitefish<br>Width=%{x}<br>Height=%{y}<br>Weight=%{marker.size}<extra></extra>",
         "legendgroup": "Whitefish",
         "marker": {
          "color": "#00cc96",
          "size": [
           270,
           270,
           306,
           540,
           800,
           1000
          ],
          "sizemode": "area",
          "sizeref": 4.125,
          "symbol": "circle"
         },
         "mode": "markers",
         "name": "Whitefish",
         "scene": "scene",
         "showlegend": true,
         "type": "scatter3d",
         "x": [
          4.2476,
          4.2485,
          4.6816,
          6.562,
          6.5736,
          6.525
         ],
         "y": [
          8.3804,
          8.1454,
          8.778,
          10.744,
          11.7612,
          12.354
         ],
         "z": [
          270,
          270,
          306,
          540,
          800,
          1000
         ]
        },
        {
         "hovertemplate": "Species=Parkki<br>Width=%{x}<br>Height=%{y}<br>Weight=%{marker.size}<extra></extra>",
         "legendgroup": "Parkki",
         "marker": {
          "color": "#ab63fa",
          "size": [
           55,
           60,
           90,
           120,
           150,
           140,
           170,
           145,
           200,
           273,
           300
          ],
          "sizemode": "area",
          "sizeref": 4.125,
          "symbol": "circle"
         },
         "mode": "markers",
         "name": "Parkki",
         "scene": "scene",
         "showlegend": true,
         "type": "scatter3d",
         "x": [
          2.3265,
          2.3142,
          2.673,
          2.9181,
          3.2928,
          3.2944,
          3.4104,
          3.1571,
          3.6636,
          4.144,
          4.234
         ],
         "y": [
          6.8475,
          6.5772,
          7.4052,
          8.3922,
          8.8928,
          8.5376,
          9.396,
          9.7364,
          10.3458,
          11.088,
          11.368
         ],
         "z": [
          55,
          60,
          90,
          120,
          150,
          140,
          170,
          145,
          200,
          273,
          300
         ]
        },
        {
         "hovertemplate": "Species=Perch<br>Width=%{x}<br>Height=%{y}<br>Weight=%{marker.size}<extra></extra>",
         "legendgroup": "Perch",
         "marker": {
          "color": "#FFA15A",
          "size": [
           5.9,
           32,
           40,
           51.5,
           70,
           100,
           78,
           80,
           85,
           85,
           110,
           115,
           125,
           130,
           120,
           120,
           130,
           135,
           110,
           130,
           150,
           145,
           150,
           170,
           225,
           145,
           188,
           180,
           197,
           218,
           300,
           260,
           265,
           250,
           250,
           300,
           320,
           514,
           556,
           840,
           685,
           700,
           700,
           690,
           900,
           650,
           820,
           850,
           900,
           1015,
           820,
           1100,
           1000,
           1100,
           1000,
           1000
          ],
          "sizemode": "area",
          "sizeref": 4.125,
          "symbol": "circle"
         },
         "mode": "markers",
         "name": "Perch",
         "scene": "scene",
         "showlegend": true,
         "type": "scatter3d",
         "x": [
          1.408,
          1.9992,
          2.432,
          2.6316,
          2.9415,
          3.3216,
          3.1234,
          3.0502,
          3.0368,
          2.772,
          3.555,
          3.3075,
          3.6675,
          3.534,
          3.4075,
          3.525,
          3.525,
          3.525,
          3.995,
          3.624,
          3.624,
          3.63,
          3.626,
          3.725,
          3.723,
          3.825,
          4.1658,
          3.6835,
          4.239,
          4.144,
          5.1373,
          4.335,
          4.335,
          4.5662,
          4.2042,
          4.6354,
          4.7716,
          6.018,
          6.3875,
          7.7957,
          6.864,
          6.7408,
          6.2646,
          6.3666,
          7.4934,
          6.003,
          7.3514,
          7.1064,
          7.225,
          7.4624,
          6.63,
          6.8684,
          7.2772,
          7.4165,
          8.142,
          7.5958
         ],
         "y": [
          2.112,
          3.528,
          3.824,
          4.5924,
          4.588,
          5.2224,
          5.1992,
          5.6358,
          5.1376,
          5.082,
          5.6925,
          5.9175,
          5.6925,
          6.384,
          6.11,
          5.64,
          6.11,
          5.875,
          5.5225,
          5.856,
          6.792,
          5.9532,
          5.2185,
          6.275,
          7.293,
          6.375,
          6.7334,
          6.4395,
          6.561,
          7.168,
          8.323,
          7.1672,
          7.0516,
          7.2828,
          7.8204,
          7.5852,
          7.6156,
          10.03,
          10.2565,
          11.4884,
          10.881,
          10.6091,
          10.835,
          10.5717,
          11.1366,
          11.1366,
          12.4313,
          11.9286,
          11.73,
          12.3808,
          11.135,
          12.8002,
          11.9328,
          12.5125,
          12.604,
          12.4888
         ],
         "z": [
          5.9,
          32,
          40,
          51.5,
          70,
          100,
          78,
          80,
          85,
          85,
          110,
          115,
          125,
          130,
          120,
          120,
          130,
          135,
          110,
          130,
          150,
          145,
          150,
          170,
          225,
          145,
          188,
          180,
          197,
          218,
          300,
          260,
          265,
          250,
          250,
          300,
          320,
          514,
          556,
          840,
          685,
          700,
          700,
          690,
          900,
          650,
          820,
          850,
          900,
          1015,
          820,
          1100,
          1000,
          1100,
          1000,
          1000
         ]
        },
        {
         "hovertemplate": "Species=Pike<br>Width=%{x}<br>Height=%{y}<br>Weight=%{marker.size}<extra></extra>",
         "legendgroup": "Pike",
         "marker": {
          "color": "#19d3f3",
          "size": [
           200,
           300,
           300,
           300,
           430,
           345,
           456,
           510,
           540,
           500,
           567,
           770,
           950,
           1250,
           1600,
           1550,
           1650
          ],
          "sizemode": "area",
          "sizeref": 4.125,
          "symbol": "circle"
         },
         "mode": "markers",
         "name": "Pike",
         "scene": "scene",
         "showlegend": true,
         "type": "scatter3d",
         "x": [
          3.3756,
          4.158,
          4.3844,
          4.0198,
          4.5765,
          3.977,
          4.3225,
          4.459,
          5.1296,
          4.896,
          4.87,
          5.376,
          6.1712,
          6.9849,
          6.144,
          6.144,
          7.48
         ],
         "y": [
          5.568,
          5.7078,
          5.9364,
          6.2884,
          7.29,
          6.396,
          7.28,
          6.825,
          7.786,
          6.96,
          7.792,
          7.68,
          8.9262,
          10.6863,
          9.6,
          9.6,
          10.812
         ],
         "z": [
          200,
          300,
          300,
          300,
          430,
          345,
          456,
          510,
          540,
          500,
          567,
          770,
          950,
          1250,
          1600,
          1550,
          1650
         ]
        },
        {
         "hovertemplate": "Species=Smelt<br>Width=%{x}<br>Height=%{y}<br>Weight=%{marker.size}<extra></extra>",
         "legendgroup": "Smelt",
         "marker": {
          "color": "#FF6692",
          "size": [
           6.7,
           7.5,
           7,
           9.7,
           9.8,
           8.7,
           10,
           9.9,
           9.8,
           12.2,
           13.4,
           12.2,
           19.7,
           19.9
          ],
          "sizemode": "area",
          "sizeref": 4.125,
          "symbol": "circle"
         },
         "mode": "markers",
         "name": "Smelt",
         "scene": "scene",
         "showlegend": true,
         "type": "scatter3d",
         "x": [
          1.0476,
          1.16,
          1.1484,
          1.38,
          1.2772,
          1.2852,
          1.2838,
          1.1659,
          1.1484,
          1.3936,
          1.269,
          1.2558,
          2.0672,
          1.8792
         ],
         "y": [
          1.7388,
          1.972,
          1.7284,
          2.196,
          2.0832,
          1.9782,
          2.2139,
          2.2139,
          2.2044,
          2.0904,
          2.43,
          2.277,
          2.8728,
          2.9322
         ],
         "z": [
          6.7,
          7.5,
          7,
          9.7,
          9.8,
          8.7,
          10,
          9.9,
          9.8,
          12.2,
          13.4,
          12.2,
          19.7,
          19.9
         ]
        }
       ],
       "layout": {
        "legend": {
         "itemsizing": "constant",
         "title": {
          "text": "Species"
         },
         "tracegroupgap": 0
        },
        "margin": {
         "t": 60
        },
        "scene": {
         "domain": {
          "x": [
           0,
           1
          ],
          "y": [
           0,
           1
          ]
         },
         "xaxis": {
          "title": {
           "text": "Width"
          }
         },
         "yaxis": {
          "title": {
           "text": "Height"
          }
         },
         "zaxis": {
          "title": {
           "text": "Weight"
          }
         }
        },
        "template": {
         "data": {
          "bar": [
           {
            "error_x": {
             "color": "#2a3f5f"
            },
            "error_y": {
             "color": "#2a3f5f"
            },
            "marker": {
             "line": {
              "color": "#E5ECF6",
              "width": 0.5
             },
             "pattern": {
              "fillmode": "overlay",
              "size": 10,
              "solidity": 0.2
             }
            },
            "type": "bar"
           }
          ],
          "barpolar": [
           {
            "marker": {
             "line": {
              "color": "#E5ECF6",
              "width": 0.5
             },
             "pattern": {
              "fillmode": "overlay",
              "size": 10,
              "solidity": 0.2
             }
            },
            "type": "barpolar"
           }
          ],
          "carpet": [
           {
            "aaxis": {
             "endlinecolor": "#2a3f5f",
             "gridcolor": "white",
             "linecolor": "white",
             "minorgridcolor": "white",
             "startlinecolor": "#2a3f5f"
            },
            "baxis": {
             "endlinecolor": "#2a3f5f",
             "gridcolor": "white",
             "linecolor": "white",
             "minorgridcolor": "white",
             "startlinecolor": "#2a3f5f"
            },
            "type": "carpet"
           }
          ],
          "choropleth": [
           {
            "colorbar": {
             "outlinewidth": 0,
             "ticks": ""
            },
            "type": "choropleth"
           }
          ],
          "contour": [
           {
            "colorbar": {
             "outlinewidth": 0,
             "ticks": ""
            },
            "colorscale": [
             [
              0,
              "#0d0887"
             ],
             [
              0.1111111111111111,
              "#46039f"
             ],
             [
              0.2222222222222222,
              "#7201a8"
             ],
             [
              0.3333333333333333,
              "#9c179e"
             ],
             [
              0.4444444444444444,
              "#bd3786"
             ],
             [
              0.5555555555555556,
              "#d8576b"
             ],
             [
              0.6666666666666666,
              "#ed7953"
             ],
             [
              0.7777777777777778,
              "#fb9f3a"
             ],
             [
              0.8888888888888888,
              "#fdca26"
             ],
             [
              1,
              "#f0f921"
             ]
            ],
            "type": "contour"
           }
          ],
          "contourcarpet": [
           {
            "colorbar": {
             "outlinewidth": 0,
             "ticks": ""
            },
            "type": "contourcarpet"
           }
          ],
          "heatmap": [
           {
            "colorbar": {
             "outlinewidth": 0,
             "ticks": ""
            },
            "colorscale": [
             [
              0,
              "#0d0887"
             ],
             [
              0.1111111111111111,
              "#46039f"
             ],
             [
              0.2222222222222222,
              "#7201a8"
             ],
             [
              0.3333333333333333,
              "#9c179e"
             ],
             [
              0.4444444444444444,
              "#bd3786"
             ],
             [
              0.5555555555555556,
              "#d8576b"
             ],
             [
              0.6666666666666666,
              "#ed7953"
             ],
             [
              0.7777777777777778,
              "#fb9f3a"
             ],
             [
              0.8888888888888888,
              "#fdca26"
             ],
             [
              1,
              "#f0f921"
             ]
            ],
            "type": "heatmap"
           }
          ],
          "heatmapgl": [
           {
            "colorbar": {
             "outlinewidth": 0,
             "ticks": ""
            },
            "colorscale": [
             [
              0,
              "#0d0887"
             ],
             [
              0.1111111111111111,
              "#46039f"
             ],
             [
              0.2222222222222222,
              "#7201a8"
             ],
             [
              0.3333333333333333,
              "#9c179e"
             ],
             [
              0.4444444444444444,
              "#bd3786"
             ],
             [
              0.5555555555555556,
              "#d8576b"
             ],
             [
              0.6666666666666666,
              "#ed7953"
             ],
             [
              0.7777777777777778,
              "#fb9f3a"
             ],
             [
              0.8888888888888888,
              "#fdca26"
             ],
             [
              1,
              "#f0f921"
             ]
            ],
            "type": "heatmapgl"
           }
          ],
          "histogram": [
           {
            "marker": {
             "pattern": {
              "fillmode": "overlay",
              "size": 10,
              "solidity": 0.2
             }
            },
            "type": "histogram"
           }
          ],
          "histogram2d": [
           {
            "colorbar": {
             "outlinewidth": 0,
             "ticks": ""
            },
            "colorscale": [
             [
              0,
              "#0d0887"
             ],
             [
              0.1111111111111111,
              "#46039f"
             ],
             [
              0.2222222222222222,
              "#7201a8"
             ],
             [
              0.3333333333333333,
              "#9c179e"
             ],
             [
              0.4444444444444444,
              "#bd3786"
             ],
             [
              0.5555555555555556,
              "#d8576b"
             ],
             [
              0.6666666666666666,
              "#ed7953"
             ],
             [
              0.7777777777777778,
              "#fb9f3a"
             ],
             [
              0.8888888888888888,
              "#fdca26"
             ],
             [
              1,
              "#f0f921"
             ]
            ],
            "type": "histogram2d"
           }
          ],
          "histogram2dcontour": [
           {
            "colorbar": {
             "outlinewidth": 0,
             "ticks": ""
            },
            "colorscale": [
             [
              0,
              "#0d0887"
             ],
             [
              0.1111111111111111,
              "#46039f"
             ],
             [
              0.2222222222222222,
              "#7201a8"
             ],
             [
              0.3333333333333333,
              "#9c179e"
             ],
             [
              0.4444444444444444,
              "#bd3786"
             ],
             [
              0.5555555555555556,
              "#d8576b"
             ],
             [
              0.6666666666666666,
              "#ed7953"
             ],
             [
              0.7777777777777778,
              "#fb9f3a"
             ],
             [
              0.8888888888888888,
              "#fdca26"
             ],
             [
              1,
              "#f0f921"
             ]
            ],
            "type": "histogram2dcontour"
           }
          ],
          "mesh3d": [
           {
            "colorbar": {
             "outlinewidth": 0,
             "ticks": ""
            },
            "type": "mesh3d"
           }
          ],
          "parcoords": [
           {
            "line": {
             "colorbar": {
              "outlinewidth": 0,
              "ticks": ""
             }
            },
            "type": "parcoords"
           }
          ],
          "pie": [
           {
            "automargin": true,
            "type": "pie"
           }
          ],
          "scatter": [
           {
            "fillpattern": {
             "fillmode": "overlay",
             "size": 10,
             "solidity": 0.2
            },
            "type": "scatter"
           }
          ],
          "scatter3d": [
           {
            "line": {
             "colorbar": {
              "outlinewidth": 0,
              "ticks": ""
             }
            },
            "marker": {
             "colorbar": {
              "outlinewidth": 0,
              "ticks": ""
             }
            },
            "type": "scatter3d"
           }
          ],
          "scattercarpet": [
           {
            "marker": {
             "colorbar": {
              "outlinewidth": 0,
              "ticks": ""
             }
            },
            "type": "scattercarpet"
           }
          ],
          "scattergeo": [
           {
            "marker": {
             "colorbar": {
              "outlinewidth": 0,
              "ticks": ""
             }
            },
            "type": "scattergeo"
           }
          ],
          "scattergl": [
           {
            "marker": {
             "colorbar": {
              "outlinewidth": 0,
              "ticks": ""
             }
            },
            "type": "scattergl"
           }
          ],
          "scattermapbox": [
           {
            "marker": {
             "colorbar": {
              "outlinewidth": 0,
              "ticks": ""
             }
            },
            "type": "scattermapbox"
           }
          ],
          "scatterpolar": [
           {
            "marker": {
             "colorbar": {
              "outlinewidth": 0,
              "ticks": ""
             }
            },
            "type": "scatterpolar"
           }
          ],
          "scatterpolargl": [
           {
            "marker": {
             "colorbar": {
              "outlinewidth": 0,
              "ticks": ""
             }
            },
            "type": "scatterpolargl"
           }
          ],
          "scatterternary": [
           {
            "marker": {
             "colorbar": {
              "outlinewidth": 0,
              "ticks": ""
             }
            },
            "type": "scatterternary"
           }
          ],
          "surface": [
           {
            "colorbar": {
             "outlinewidth": 0,
             "ticks": ""
            },
            "colorscale": [
             [
              0,
              "#0d0887"
             ],
             [
              0.1111111111111111,
              "#46039f"
             ],
             [
              0.2222222222222222,
              "#7201a8"
             ],
             [
              0.3333333333333333,
              "#9c179e"
             ],
             [
              0.4444444444444444,
              "#bd3786"
             ],
             [
              0.5555555555555556,
              "#d8576b"
             ],
             [
              0.6666666666666666,
              "#ed7953"
             ],
             [
              0.7777777777777778,
              "#fb9f3a"
             ],
             [
              0.8888888888888888,
              "#fdca26"
             ],
             [
              1,
              "#f0f921"
             ]
            ],
            "type": "surface"
           }
          ],
          "table": [
           {
            "cells": {
             "fill": {
              "color": "#EBF0F8"
             },
             "line": {
              "color": "white"
             }
            },
            "header": {
             "fill": {
              "color": "#C8D4E3"
             },
             "line": {
              "color": "white"
             }
            },
            "type": "table"
           }
          ]
         },
         "layout": {
          "annotationdefaults": {
           "arrowcolor": "#2a3f5f",
           "arrowhead": 0,
           "arrowwidth": 1
          },
          "autotypenumbers": "strict",
          "coloraxis": {
           "colorbar": {
            "outlinewidth": 0,
            "ticks": ""
           }
          },
          "colorscale": {
           "diverging": [
            [
             0,
             "#8e0152"
            ],
            [
             0.1,
             "#c51b7d"
            ],
            [
             0.2,
             "#de77ae"
            ],
            [
             0.3,
             "#f1b6da"
            ],
            [
             0.4,
             "#fde0ef"
            ],
            [
             0.5,
             "#f7f7f7"
            ],
            [
             0.6,
             "#e6f5d0"
            ],
            [
             0.7,
             "#b8e186"
            ],
            [
             0.8,
             "#7fbc41"
            ],
            [
             0.9,
             "#4d9221"
            ],
            [
             1,
             "#276419"
            ]
           ],
           "sequential": [
            [
             0,
             "#0d0887"
            ],
            [
             0.1111111111111111,
             "#46039f"
            ],
            [
             0.2222222222222222,
             "#7201a8"
            ],
            [
             0.3333333333333333,
             "#9c179e"
            ],
            [
             0.4444444444444444,
             "#bd3786"
            ],
            [
             0.5555555555555556,
             "#d8576b"
            ],
            [
             0.6666666666666666,
             "#ed7953"
            ],
            [
             0.7777777777777778,
             "#fb9f3a"
            ],
            [
             0.8888888888888888,
             "#fdca26"
            ],
            [
             1,
             "#f0f921"
            ]
           ],
           "sequentialminus": [
            [
             0,
             "#0d0887"
            ],
            [
             0.1111111111111111,
             "#46039f"
            ],
            [
             0.2222222222222222,
             "#7201a8"
            ],
            [
             0.3333333333333333,
             "#9c179e"
            ],
            [
             0.4444444444444444,
             "#bd3786"
            ],
            [
             0.5555555555555556,
             "#d8576b"
            ],
            [
             0.6666666666666666,
             "#ed7953"
            ],
            [
             0.7777777777777778,
             "#fb9f3a"
            ],
            [
             0.8888888888888888,
             "#fdca26"
            ],
            [
             1,
             "#f0f921"
            ]
           ]
          },
          "colorway": [
           "#636efa",
           "#EF553B",
           "#00cc96",
           "#ab63fa",
           "#FFA15A",
           "#19d3f3",
           "#FF6692",
           "#B6E880",
           "#FF97FF",
           "#FECB52"
          ],
          "font": {
           "color": "#2a3f5f"
          },
          "geo": {
           "bgcolor": "white",
           "lakecolor": "white",
           "landcolor": "#E5ECF6",
           "showlakes": true,
           "showland": true,
           "subunitcolor": "white"
          },
          "hoverlabel": {
           "align": "left"
          },
          "hovermode": "closest",
          "mapbox": {
           "style": "light"
          },
          "paper_bgcolor": "white",
          "plot_bgcolor": "#E5ECF6",
          "polar": {
           "angularaxis": {
            "gridcolor": "white",
            "linecolor": "white",
            "ticks": ""
           },
           "bgcolor": "#E5ECF6",
           "radialaxis": {
            "gridcolor": "white",
            "linecolor": "white",
            "ticks": ""
           }
          },
          "scene": {
           "xaxis": {
            "backgroundcolor": "#E5ECF6",
            "gridcolor": "white",
            "gridwidth": 2,
            "linecolor": "white",
            "showbackground": true,
            "ticks": "",
            "zerolinecolor": "white"
           },
           "yaxis": {
            "backgroundcolor": "#E5ECF6",
            "gridcolor": "white",
            "gridwidth": 2,
            "linecolor": "white",
            "showbackground": true,
            "ticks": "",
            "zerolinecolor": "white"
           },
           "zaxis": {
            "backgroundcolor": "#E5ECF6",
            "gridcolor": "white",
            "gridwidth": 2,
            "linecolor": "white",
            "showbackground": true,
            "ticks": "",
            "zerolinecolor": "white"
           }
          },
          "shapedefaults": {
           "line": {
            "color": "#2a3f5f"
           }
          },
          "ternary": {
           "aaxis": {
            "gridcolor": "white",
            "linecolor": "white",
            "ticks": ""
           },
           "baxis": {
            "gridcolor": "white",
            "linecolor": "white",
            "ticks": ""
           },
           "bgcolor": "#E5ECF6",
           "caxis": {
            "gridcolor": "white",
            "linecolor": "white",
            "ticks": ""
           }
          },
          "title": {
           "x": 0.05
          },
          "xaxis": {
           "automargin": true,
           "gridcolor": "white",
           "linecolor": "white",
           "ticks": "",
           "title": {
            "standoff": 15
           },
           "zerolinecolor": "white",
           "zerolinewidth": 2
          },
          "yaxis": {
           "automargin": true,
           "gridcolor": "white",
           "linecolor": "white",
           "ticks": "",
           "title": {
            "standoff": 15
           },
           "zerolinecolor": "white",
           "zerolinewidth": 2
          }
         }
        }
       }
      }
     },
     "metadata": {},
     "output_type": "display_data"
    }
   ],
   "source": [
    "# render 3D scatter plot\n",
    "fig = px.scatter_3d(df, x='Width', y='Height', z='Weight', color='Species', size='Weight')\n",
    "fig.show()"
   ]
  },
  {
   "cell_type": "code",
   "execution_count": 6,
   "metadata": {},
   "outputs": [],
   "source": [
    "# crate train and test datasets\n",
    "\n",
    "from sklearn.model_selection import train_test_split\n",
    "X = df[['Length1', 'Length2', 'Length3', 'Height', 'Width', 'Weight']]\n",
    "y = df['Species']\n",
    "X_train, X_test, y_train, y_test = train_test_split(X, y, test_size=0.2, random_state=42)\n"
   ]
  },
  {
   "cell_type": "code",
   "execution_count": 7,
   "metadata": {},
   "outputs": [
    {
     "data": {
      "text/plain": [
       "((127, 6), (32, 6))"
      ]
     },
     "execution_count": 7,
     "metadata": {},
     "output_type": "execute_result"
    }
   ],
   "source": [
    "X_train.shape, X_test.shape"
   ]
  },
  {
   "cell_type": "code",
   "execution_count": 8,
   "metadata": {},
   "outputs": [
    {
     "data": {
      "text/plain": [
       "0.75"
      ]
     },
     "execution_count": 8,
     "metadata": {},
     "output_type": "execute_result"
    }
   ],
   "source": [
    "from sklearn.ensemble import RandomForestClassifier\n",
    "from sklearn.metrics import accuracy_score\n",
    "model = RandomForestClassifier()\n",
    "model.fit(X_train, y_train)\n",
    "y_pred = model.predict(X_test)\n",
    "accuracy_score(y_test, y_pred)"
   ]
  },
  {
   "cell_type": "code",
   "execution_count": 9,
   "metadata": {},
   "outputs": [
    {
     "data": {
      "text/plain": [
       "0.65625"
      ]
     },
     "execution_count": 9,
     "metadata": {},
     "output_type": "execute_result"
    }
   ],
   "source": [
    "# create model using only the length and weight features\n",
    "X_train, X_test, y_train, y_test = train_test_split(X[['Length1', 'Weight']], y, test_size=0.2, random_state=42)\n",
    "model = RandomForestClassifier()\n",
    "model.fit(X_train, y_train)\n",
    "y_pred = model.predict(X_test)\n",
    "accuracy_score(y_test, y_pred)"
   ]
  },
  {
   "cell_type": "code",
   "execution_count": 10,
   "metadata": {},
   "outputs": [],
   "source": [
    "X = df[['Length1', 'Length2', 'Length3', 'Height', 'Width', 'Weight']]\n",
    "y = df['Species']\n",
    "X_train, X_test, y_train, y_test = train_test_split(X, y, test_size=0.2, random_state=42)\n"
   ]
  },
  {
   "cell_type": "code",
   "execution_count": 11,
   "metadata": {},
   "outputs": [
    {
     "data": {
      "text/plain": [
       "0.625"
      ]
     },
     "execution_count": 11,
     "metadata": {},
     "output_type": "execute_result"
    }
   ],
   "source": [
    "# create a model using KneighborsClassifier\n",
    "from sklearn.neighbors import KNeighborsClassifier\n",
    "model = KNeighborsClassifier()\n",
    "model.fit(X_train, y_train)\n",
    "y_pred = model.predict(X_test)\n",
    "accuracy_score(y_test, y_pred)"
   ]
  },
  {
   "cell_type": "code",
   "execution_count": 12,
   "metadata": {},
   "outputs": [
    {
     "data": {
      "text/plain": [
       "0.78125"
      ]
     },
     "execution_count": 12,
     "metadata": {},
     "output_type": "execute_result"
    }
   ],
   "source": [
    "# create a model using DecisionTreeClassifier\n",
    "from sklearn.tree import DecisionTreeClassifier\n",
    "model = DecisionTreeClassifier()\n",
    "model.fit(X_train, y_train)\n",
    "y_pred = model.predict(X_test)\n",
    "accuracy_score(y_test, y_pred)"
   ]
  },
  {
   "cell_type": "code",
   "execution_count": null,
   "metadata": {},
   "outputs": [],
   "source": []
  }
 ],
 "metadata": {
  "kernelspec": {
   "display_name": "ai",
   "language": "python",
   "name": "python3"
  },
  "language_info": {
   "codemirror_mode": {
    "name": "ipython",
    "version": 3
   },
   "file_extension": ".py",
   "mimetype": "text/x-python",
   "name": "python",
   "nbconvert_exporter": "python",
   "pygments_lexer": "ipython3",
   "version": "3.12.2"
  }
 },
 "nbformat": 4,
 "nbformat_minor": 2
}
