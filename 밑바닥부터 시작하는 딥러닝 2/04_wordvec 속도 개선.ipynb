{
 "cells": [
  {
   "cell_type": "markdown",
   "metadata": {},
   "source": [
    "# 4 word2vec 속도 개선"
   ]
  },
  {
   "cell_type": "markdown",
   "metadata": {},
   "source": [
    "## 4.1 word2vec 개선 1\n",
    "\n",
    "앞 장의 CBOW모델은 단어 2개를 맥락으로 사용해, 이를 바탕으로 하나의 단어를 추측한다. 이때 입력 측 가중치$W_{in}$와의 행렬 곱으로 은닉층이 계산되고, 다시 출력층 가중치$W_{out}$와의 행렬 곱으로 각 단어의 점수를 구한다. 그리고 이 점수에 소프트맥스 함수를 적용해 각 단어의 출현 확률을 얻고, 이 확률을 정답 레이블과 비교하여 손실을 구한다.\n",
    "\n",
    "말뭉치가 거대해 지면 다음과 같은 문제가 발생한다.\n",
    "\n",
    "* 입력층의 원핫 표현과 가중치 행렬$W_{in}$의 곱 계산이 너무 느리다.\n",
    "* 출력층의 가중치 행렬$W_{out}$과의 곱, 소프트맥스 계산도 느리다."
   ]
  },
  {
   "cell_type": "markdown",
   "metadata": {},
   "source": [
    "### 4.1.1 Embedding 계층\n",
    "\n",
    "* Embedding 계층은 단어 ID에 해당하는 행을 추출하는 계층이다.\n",
    "* Embedding 계층을 사용하면 단어의 분산 표현을 얻을 수 있다."
   ]
  },
  {
   "cell_type": "markdown",
   "metadata": {},
   "source": [
    "### 4.1.2"
   ]
  },
  {
   "cell_type": "code",
   "execution_count": 7,
   "metadata": {},
   "outputs": [],
   "source": [
    "import numpy as np\n",
    "\n",
    "class Embedding:\n",
    "  def __init__(self, W):\n",
    "    self.params = [W]\n",
    "    self.grads = [np.zeros_like(W)]\n",
    "    self.idx = None\n",
    "    \n",
    "  def forward(self, idx):\n",
    "    W = self.params\n",
    "    self.idx = idx\n",
    "    out = W[idx]\n",
    "    return out\n",
    "  \n",
    "  def backward(self, dout):\n",
    "    dW, = self.grads\n",
    "    dW[...] = 0\n",
    "    np.add.at(dW, self.idx, dout) # type: ignore\n",
    "    return None"
   ]
  },
  {
   "cell_type": "code",
   "execution_count": null,
   "metadata": {},
   "outputs": [],
   "source": []
  }
 ],
 "metadata": {
  "kernelspec": {
   "display_name": "ai",
   "language": "python",
   "name": "python3"
  },
  "language_info": {
   "codemirror_mode": {
    "name": "ipython",
    "version": 3
   },
   "file_extension": ".py",
   "mimetype": "text/x-python",
   "name": "python",
   "nbconvert_exporter": "python",
   "pygments_lexer": "ipython3",
   "version": "3.11.0"
  }
 },
 "nbformat": 4,
 "nbformat_minor": 2
}
