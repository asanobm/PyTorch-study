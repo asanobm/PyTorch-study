{
 "cells": [
  {
   "cell_type": "markdown",
   "metadata": {},
   "source": [
    "# 2 자연어와 단어의 분산 표현\n",
    "\n",
    "* 2.1 자연어 처리란?\n",
    "* 2.2 시소러스\n",
    "* 2.3 통계 기반 기법\n",
    "* 2.4 통계 기반 기법 개선하기"
   ]
  },
  {
   "cell_type": "markdown",
   "metadata": {},
   "source": [
    "## 2.1 자연어 처리란\n",
    "\n",
    "\n",
    "자연어 처리(Natural Language Processing, NLP)는 인간의 언어를 이해하고 해석하는 일을 컴퓨터를 이용해서 수행하는 분야이다. \n",
    "\n",
    "자연어 처리는 음성 인식, 기계 번역, 질의 응답 시스템 등 다양한 응용 분야가 있다."
   ]
  },
  {
   "cell_type": "markdown",
   "metadata": {},
   "source": [
    "### 2.1.1 단어의 의미\n",
    "\n",
    "자연어를 컴퓨터에게 이해시키기 위해서는 단어의 의미를 이해시켜야 한다. 단어의 의미를 이해시키기 위해서는 단어를 어떻게 표현하고 저장하느냐가 중요하다."
   ]
  },
  {
   "cell_type": "markdown",
   "metadata": {},
   "source": [
    "## 2.2 시소러스\n",
    "\n",
    "시소러스(Thesaurus)는 유의어 사전으로, 단어의 관련성을 나타낸 정보를 가지고 있다. "
   ]
  },
  {
   "cell_type": "markdown",
   "metadata": {},
   "source": [
    "### 2.2.1 WordNet\n",
    "\n",
    "WordNet은 프린스턴 대학교에서 만든 시소러스로, 시소러스의 대표적인 예이다.\n",
    "\n",
    "WordNet은 유의어 사전으로, 유의어 집합인 시노님(synonym)을 연결하고, 상하위어(hypernym, hyponym) 등의 관계를 정의한다.\n",
    "\n",
    "WordNet은 단어 네트워크로 구성되어 있으며, 단어 네트워크는 단어 간의 관계를 표현한다."
   ]
  },
  {
   "cell_type": "markdown",
   "metadata": {},
   "source": [
    "### 2.2.2 시소러스의 문제점\n",
    "\n",
    "* 시대 변화에 대응하기 어렵다.\n",
    "* 사람을 쓰는 비용이 크다.\n",
    "* 단어의 미묘한 차이를 표현할 수 없다."
   ]
  },
  {
   "cell_type": "markdown",
   "metadata": {},
   "source": [
    "## 2.3 통계 기반 기법\n",
    "\n",
    "통계 기반 기법은 말뭉치(corpus)를 이용하여 단어의 의미를 이해하는 방법이다.\n",
    "\n",
    "> 자연어 처리에 사용되는 대량의 텍스트 데이터를 말뭉치라고 한다.\n",
    "> 말뭉치에는 텍스트 데이터에 대한 추가 정보가 포함되는 경우가 있다."
   ]
  },
  {
   "cell_type": "markdown",
   "metadata": {},
   "source": [
    "### 2.3.1 파이썬으로 말뭉치 전처리하기\n",
    "\n",
    "말뭉치를 이용하여 단어의 의미를 이해하기 위해서는 말뭉치를 전처리하는 과정이 필요하다.\n",
    "\n",
    "유명한 말뭉치로는 위키백과, 구글 뉴스, 블로그, 트위터 등이 있다."
   ]
  },
  {
   "cell_type": "code",
   "execution_count": 1,
   "metadata": {},
   "outputs": [],
   "source": [
    "text = 'You say goodbye and i say hello.'"
   ]
  },
  {
   "cell_type": "code",
   "execution_count": 2,
   "metadata": {},
   "outputs": [
    {
     "name": "stdout",
     "output_type": "stream",
     "text": [
      "소문자로 변환: you say goodbye and i say hello.\n",
      ".사이에 띄어쓰기: you say goodbye and i say hello .\n",
      "띄어쓰기로 분할: ['you', 'say', 'goodbye', 'and', 'i', 'say', 'hello', '.']\n"
     ]
    }
   ],
   "source": [
    "print(f\"소문자로 변환: {text.lower()}\")\n",
    "print(f\".사이에 띄어쓰기: {text.lower().replace('.', ' .')}\")\n",
    "print(f\"띄어쓰기로 분할: {text.lower().replace('.', ' .').split( )}\")"
   ]
  },
  {
   "cell_type": "code",
   "execution_count": 3,
   "metadata": {},
   "outputs": [
    {
     "name": "stdout",
     "output_type": "stream",
     "text": [
      "단어 ID: {'you': 0, 'say': 1, 'goodbye': 2, 'and': 3, 'i': 4, 'hello': 5, '.': 6}\n",
      "ID 단어: {0: 'you', 1: 'say', 2: 'goodbye', 3: 'and', 4: 'i', 5: 'hello', 6: '.'}\n"
     ]
    }
   ],
   "source": [
    "word_to_id = {}\n",
    "id_to_word = {}\n",
    "\n",
    "for word in text.lower().replace('.', ' .').split():\n",
    "  if word not in word_to_id:\n",
    "    new_id = len(word_to_id)\n",
    "    word_to_id[word] = new_id\n",
    "    id_to_word[new_id] = word\n",
    "    \n",
    "print(f\"단어 ID: {word_to_id}\")\n",
    "print(f\"ID 단어: {id_to_word}\")"
   ]
  },
  {
   "cell_type": "code",
   "execution_count": 4,
   "metadata": {},
   "outputs": [
    {
     "name": "stdout",
     "output_type": "stream",
     "text": [
      "단어 ID 목록: [0 1 2 3 4 1 5 6]\n"
     ]
    }
   ],
   "source": [
    "# 단어 목록을 단어 ID 목록으로 변환\n",
    "import numpy as np\n",
    "corpus = [word_to_id[w] for w in text.lower().replace('.', ' .').split()]\n",
    "corpus = np.array(corpus)\n",
    "print(f\"단어 ID 목록: {corpus}\")"
   ]
  },
  {
   "cell_type": "code",
   "execution_count": 5,
   "metadata": {},
   "outputs": [],
   "source": [
    "def preprocess(text: str) -> tuple:\n",
    "  \"\"\"문장을 단어 ID 목록, 단어 ID 사전, ID 단어 사전으로 변환\n",
    "\n",
    "  Args:\n",
    "      text (str): 변환할 문장\n",
    "\n",
    "  Returns:\n",
    "      tuple: 단어 ID 목록, 단어 ID 사전, ID 단어 사전\n",
    "  \"\"\"\n",
    "  text = text.lower()\n",
    "  text = text.replace('.', ' .')\n",
    "  words = text.split(' ')\n",
    "  \n",
    "  word_to_id = {}\n",
    "  id_to_word = {}\n",
    "  \n",
    "  for word in words:\n",
    "    if word not in word_to_id:\n",
    "      new_id = len(word_to_id)\n",
    "      word_to_id[word] = new_id\n",
    "      id_to_word[new_id] = word\n",
    "      \n",
    "  corpus = np.array([word_to_id[w] for w in words])\n",
    "  \n",
    "  return corpus, word_to_id, id_to_word"
   ]
  },
  {
   "cell_type": "code",
   "execution_count": 6,
   "metadata": {},
   "outputs": [
    {
     "name": "stdout",
     "output_type": "stream",
     "text": [
      "단어 ID 목록: [0 1 2 3 4 1 5 6]\n",
      "단어 ID: {'you': 0, 'say': 1, 'goodbye': 2, 'and': 3, 'i': 4, 'hello': 5, '.': 6}\n",
      "ID 단어: {0: 'you', 1: 'say', 2: 'goodbye', 3: 'and', 4: 'i', 5: 'hello', 6: '.'}\n"
     ]
    }
   ],
   "source": [
    "corpus, word_to_id, id_to_word = preprocess(text)\n",
    "print(f\"단어 ID 목록: {corpus}\")\n",
    "print(f\"단어 ID: {word_to_id}\")\n",
    "print(f\"ID 단어: {id_to_word}\")"
   ]
  },
  {
   "cell_type": "markdown",
   "metadata": {},
   "source": [
    "### 2.3.2 단어의 분산 표현\n",
    "\n",
    "단어의 분산 표현은 단어를 고정 길이의 밀집 벡터(dense vector)로 표현하는 방법이다.\n",
    "\n",
    "**분산표현**\n",
    "\n",
    "단어의 의미를 정확하게 파악할 수 있는 벡터 표현"
   ]
  },
  {
   "cell_type": "markdown",
   "metadata": {},
   "source": [
    "### 2.3.3 분포 가설\n",
    "\n",
    "분포 가설은 단어의 의미는 주변 단어에 의해 형성된다는 가설이다.\n",
    "\n",
    "단어 자체에는 의미가 없고, 그 단어가 사용된 맥락이 의미를 형성한다는 것이다.\n",
    "\n",
    "'맥락'은 특정 단어를 중심에 둔 그 주변 단어를 말한다.\n",
    "\n",
    "'윈도우 크기'는 맥락의 크기를 말한다. 즉 윈도우 크기가 1이면 좌우 한 단어씩을 맥락으로 사용한다."
   ]
  },
  {
   "cell_type": "markdown",
   "metadata": {},
   "source": [
    "### 2.3.4 동시발생 행렬\n",
    "\n",
    "동시발생 행렬은 맥락의 정보를 담고 있는 행렬이다.\n",
    "\n",
    "**통계 기반 기법**\n",
    "\n",
    "말뭉치를 사용하여 단어의 의미를 파악하는 방법"
   ]
  },
  {
   "cell_type": "code",
   "execution_count": 7,
   "metadata": {},
   "outputs": [],
   "source": [
    "# 동시발생 행렬\n",
    "\n",
    "def create_co_matrix(corpus: np.ndarray, vocab_size: int, window_size: int=1) -> np.ndarray:\n",
    "  \"\"\"동시발생 행렬 생성\n",
    "\n",
    "  Args:\n",
    "      corpus (np.ndarray): 단어 ID 목록\n",
    "      vocab_size (int): 어휘 수\n",
    "      window_size (int, optional): 윈도우 크기. Defaults to 1.\n",
    "\n",
    "  Returns:\n",
    "      np.ndarray: 동시발생 행렬\n",
    "  \"\"\"\n",
    "  corpus_size = len(corpus)\n",
    "  co_matrix = np.zeros((vocab_size, vocab_size), dtype=np.int32)\n",
    "  \n",
    "  for idx, word_id in enumerate(corpus):\n",
    "    for i in range(1, window_size+1):\n",
    "      left_idx = idx - i\n",
    "      right_idx = idx + i\n",
    "      \n",
    "      if left_idx >= 0:\n",
    "        left_word_id = corpus[left_idx]\n",
    "        co_matrix[word_id, left_word_id] += 1\n",
    "        \n",
    "      if right_idx < corpus_size:\n",
    "        right_word_id = corpus[right_idx]\n",
    "        co_matrix[word_id, right_word_id] += 1\n",
    "        \n",
    "  return co_matrix"
   ]
  },
  {
   "cell_type": "code",
   "execution_count": 8,
   "metadata": {},
   "outputs": [
    {
     "data": {
      "image/png": "[encoded data removed]",
      "text/plain": [
       "<Figure size 500x500 with 1 Axes>"
      ]
     },
     "metadata": {},
     "output_type": "display_data"
    }
   ],
   "source": [
    "import matplotlib.pyplot as plt\n",
    "vocab_size = len(word_to_id)\n",
    "co_matrix = create_co_matrix(corpus, vocab_size)\n",
    "\n",
    "# rendering\n",
    "def render_co_matrix(co_matrix: np.ndarray, word_to_id: dict):\n",
    "  plt.figure(figsize=(5, 5))\n",
    "  plt.imshow(co_matrix, cmap='Blues', interpolation='none')\n",
    "  plt.xticks(ticks=range(vocab_size), labels=list(word_to_id.keys()))\n",
    "  plt.yticks(ticks=range(vocab_size), labels=list(word_to_id.keys()))\n",
    "  plt.show()\n",
    "  \n",
    "render_co_matrix(co_matrix, word_to_id)"
   ]
  },
  {
   "cell_type": "markdown",
   "metadata": {},
   "source": [
    "### 2.3.5 벡터 간 유사도\n",
    "\n",
    "벡터 간 유사도는 벡터 사이의 유사도를 나타내는 척도이다.\n",
    "\n",
    "벡터의 내적이나 유클리드 거리 등을 사용하여 벡터 간 유사도를 계산할 수 있다. 단 단어 벡터의 유사도를 계산할 때는 코사인 유사도를 주로 이용한다.\n",
    "\n",
    "두 벡터$x = (x_1, x_2, \\cdots, x_n)$, $y = (y_1, y_2, \\cdots, y_n)$의 코사인 유사도는 다음과 같이 정의된다.\n",
    "\n",
    "$$\n",
    "similarity(x,y)=\\frac{x \\cdot y}{||x|| \\cdot ||y||} = \\frac{\\sum_{i=1}^{n}x_iy_i}{\\sqrt{\\sum_{i=1}^{n}x_i^2}\\sqrt{\\sum_{i=1}^{n}y_i^2}}\n",
    "$$\n",
    "\n",
    "분자에는 벡터의 내적이, 분모에는 각 벡터의 노름(norm)이 들어간다.\n",
    "\n",
    "노름은 벡터의 크기를 나타내는 것으로, $||x|| = \\sqrt{x_1^2 + x_2^2 + \\cdots + x_n^2}$로 정의된다."
   ]
  },
  {
   "cell_type": "code",
   "execution_count": 9,
   "metadata": {},
   "outputs": [],
   "source": [
    "# 코사인 유사도 계산 함수\n",
    "def cos_similarity(x ,y):\n",
    "  nx = x / np.sqrt(np.sum(x**2))\n",
    "  ny = y / np.sqrt(np.sum(y**2))\n",
    "  return np.dot(nx, ny)"
   ]
  },
  {
   "cell_type": "markdown",
   "metadata": {},
   "source": [
    "인수$x$와$y$는 넘파이 배열이라고 가정한다. 이 함수는 먼저 벡터 x와 y를 정규화 한 후 두 벡터의 내적을 계산한다."
   ]
  },
  {
   "cell_type": "code",
   "execution_count": 10,
   "metadata": {},
   "outputs": [],
   "source": [
    "# 0으로 나누기 방지\n",
    "def cos_similarity(x, y, eps=1e-8):\n",
    "  nx = x / (np.sqrt(np.sum(x**2)) + eps)\n",
    "  ny = y / (np.sqrt(np.sum(y**2)) + eps)\n",
    "  return np.dot(nx, ny)"
   ]
  },
  {
   "cell_type": "code",
   "execution_count": 11,
   "metadata": {},
   "outputs": [
    {
     "name": "stdout",
     "output_type": "stream",
     "text": [
      "you ID: 0\n",
      "i ID: 4\n",
      "you 벡터: [0 1 0 0 0 0 0]\n",
      "i 벡터: [0 1 0 1 0 0 0]\n",
      "you와 i의 유사도: 0.7071067691154799\n"
     ]
    }
   ],
   "source": [
    "# \"you\"와 \"i\"의 유사도 계산\n",
    "\n",
    "you_id = word_to_id['you']\n",
    "i_id = word_to_id['i']\n",
    "print(f\"you ID: {you_id}\")\n",
    "print(f\"i ID: {i_id}\")\n",
    "\n",
    "you_vec = co_matrix[you_id]\n",
    "i_vec = co_matrix[i_id]\n",
    "print(f\"you 벡터: {you_vec}\")\n",
    "print(f\"i 벡터: {i_vec}\")\n",
    "\n",
    "print(f\"you와 i의 유사도: {cos_similarity(you_vec, i_vec)}\")"
   ]
  },
  {
   "cell_type": "code",
   "execution_count": 12,
   "metadata": {},
   "outputs": [
    {
     "data": {
      "image/png": "[encoded data removed]",
      "text/plain": [
       "<Figure size 500x500 with 1 Axes>"
      ]
     },
     "metadata": {},
     "output_type": "display_data"
    }
   ],
   "source": [
    "def culculate_similarity_matrix(co_matrix: np.ndarray) -> np.ndarray:\n",
    "  \"\"\"동시발생 행렬로부터 유사도 행렬 생성\n",
    "\n",
    "  Args:\n",
    "      co_matrix (np.ndarray): 동시발생 행렬\n",
    "\n",
    "  Returns:\n",
    "      np.ndarray: 유사도 행렬\n",
    "  \"\"\"\n",
    "  similarity_matrix = np.zeros_like(co_matrix, dtype=np.float32)\n",
    "  for i in range(len(co_matrix)):\n",
    "    for j in range(len(co_matrix)):\n",
    "      similarity_matrix[i, j] = cos_similarity(co_matrix[i], co_matrix[j])\n",
    "  return similarity_matrix\n",
    "\n",
    "similarity_matrix = culculate_similarity_matrix(co_matrix)\n",
    "render_co_matrix(similarity_matrix, word_to_id)"
   ]
  },
  {
   "cell_type": "markdown",
   "metadata": {},
   "source": [
    "### 2.3.6 유사 단어의 랭킹 표시\n",
    "\n",
    "most similar 함수는 특정 단어에 대해 비슷한 단어를 유사도 순으로 출력한다."
   ]
  },
  {
   "cell_type": "code",
   "execution_count": 13,
   "metadata": {},
   "outputs": [],
   "source": [
    "def most_similar(query: str, word_to_id: dict, id_to_word: dict, word_matrix: np.ndarray, top: int=5):\n",
    "  \"\"\"유사 단어 검색\n",
    "\n",
    "  Args:\n",
    "      query (str): 검색어\n",
    "      word_to_id (dict): 단어 ID 사전\n",
    "      id_to_word (dict): ID 단어 사전\n",
    "      word_matrix (np.ndarray): 단어 벡터 행렬\n",
    "      top (int, optional): 상위 몇 개까지 출력할지. Defaults to 5.\n",
    "\n",
    "  Returns:\n",
    "      list: 유사 단어\n",
    "  \"\"\"\n",
    "  if query not in word_to_id:\n",
    "    print(f\"{query}를 찾을 수 없습니다.\")\n",
    "    return\n",
    "  \n",
    "  print(f\"\\n[query] {query}\")\n",
    "  query_id = word_to_id[query]\n",
    "  query_vec = word_matrix[query_id]\n",
    "  \n",
    "  # 코사인 유사도 계산\n",
    "  vocab_size = len(id_to_word)\n",
    "  similarity = np.zeros(vocab_size)\n",
    "  for i in range(vocab_size):\n",
    "    similarity[i] = cos_similarity(word_matrix[i], query_vec)\n",
    "  \n",
    "  # 유사도 기준으로 내림차순 출력\n",
    "  count = 0\n",
    "  for i in (-1 * similarity).argsort():\n",
    "    if id_to_word[i] == query:\n",
    "      continue\n",
    "    print(f\"{id_to_word[i]}: {similarity[i]}\")\n",
    "    \n",
    "    count += 1\n",
    "    if count >= top:\n",
    "      return"
   ]
  },
  {
   "cell_type": "code",
   "execution_count": 14,
   "metadata": {},
   "outputs": [
    {
     "name": "stdout",
     "output_type": "stream",
     "text": [
      "\n",
      "[query] you\n",
      "goodbye: 0.7071067691154799\n",
      "i: 0.7071067691154799\n",
      "hello: 0.7071067691154799\n",
      "say: 0.0\n",
      "and: 0.0\n"
     ]
    }
   ],
   "source": [
    "text = 'You say goodbye and i say hello.'\n",
    "corpus, word_to_id, id_to_word = preprocess(text)\n",
    "vocab_size = len(word_to_id)\n",
    "C = create_co_matrix(corpus, vocab_size)\n",
    "\n",
    "most_similar('you', word_to_id, id_to_word, C, top=5)"
   ]
  },
  {
   "cell_type": "markdown",
   "metadata": {},
   "source": [
    "동시발행 행렬을 이용하면 단어를 벡터로 표현할 수 있다."
   ]
  },
  {
   "cell_type": "markdown",
   "metadata": {},
   "source": [
    "## 2.4 통계 기반 기법 개선하기"
   ]
  },
  {
   "cell_type": "markdown",
   "metadata": {},
   "source": [
    "### 2.4.1 상호정보량\n",
    "\n",
    "동시발행 행렬의 원소는 두 단어가 동시에 발행한 횟수를 나타낸다. 따라서 \"the\" 같은 불용어가 많이 등장하면 그 빈도수가 높아지는 문제가 있다.\n",
    "\n",
    "이를 해결하기 위해 점별 상호정보량(Pointwise Mutual Information, PMI)라는 척도를 사용한다.\n",
    "\n",
    "PMI는 두 확률변수가 동시에 일어날 확률과 각각이 일어날 확률의 곱의 로그값으로 정의된다.\n",
    "\n",
    "$$\n",
    "PMI(x,y) = \\log_2\\frac{P(x,y)}{P(x)P(y)}\n",
    "$$\n",
    "\n",
    "$P(x)$는 $x$가 일어날 확률, $P(y)$는 $y$가 일어날 확률, $P(x,y)$는 $x$와 $y$가 동시에 일어날 확률을 나타낸다.\n",
    "\n",
    "이 식을 자연어 예에 적용하면 $P(x)$는 단어$x$가 말뭉치에서 등장하는 확률, $P(y)$는 단어$y$가 말뭉치에서 등장하는 확률, $P(x,y)$는 단어$x$와$y$가 동시에 등장하는 확률을 나타낸다.\n",
    "\n",
    "10,000개의 단어로 이루어진 말뭉치에서 \"the\"가 1,000번 등장하고, \"car\"가 20번 등장한다면 $P(the)=0.1$, $P(car)=0.002$이다.\n",
    "\n",
    "$$\n",
    "PMI(x,y) = log_{2}\\frac{P(x,y)}{P(x)P(y)}=log_{2}\\frac{\\frac{C(x,y)}{N}}{\\frac{C(x)}{N}\\frac{C(y)}{N}}=log_{2}\\frac{C(x,y)N}{C(x)C(y)}\n",
    "$$\n",
    "\n",
    "* 말뭉치의 단어 수(N)를 10,000이라고 가정\n",
    "* \"the\"와 \"car\"와 \"drive\"가 각각 1000, 20, 10번 등장한다,* 그리고\n",
    "* \"the\"와 \"car\"가 동시에 10번 등장한다. \n",
    "* \"car\"와 \"drive\"가 동시에 5번 등장한다.\n",
    "\n",
    "$$\n",
    "PMI(the,car) = log_{2}\\frac{10 \\times 10000}{1000 \\times 20} = ?\n",
    "$$\n",
    "$$\n",
    "PMI(car,drive) = log_{2}\\frac{5 \\times 10000}{20 \\times 10} = ?\n",
    "$$\n",
    "\n",
    "\"car\"는 \"the\"보다 \"drive\"와 더 관련이 강해진다. 이는 단어가 단독으로 출현하는 횟수가 고려 되었기 때문이다.\n",
    "\n",
    "\"the\"가 자주 출현했으므로 PMI 점수가 낮아진다.\n",
    "\n",
    "**양의 상호정보량(Positive PMI, PPMI)**\n",
    "$$\n",
    "PPMI(x,y) = max(0,PMI(x,y))\n",
    "$$\n",
    "\n",
    "PMI가 음수일 때는 0으로 취급하는 방법이다."
   ]
  },
  {
   "cell_type": "code",
   "execution_count": 15,
   "metadata": {},
   "outputs": [],
   "source": [
    "def ppmi(C, verbose=False, eps=1e-8):\n",
    "  M = np.zeros_like(C, dtype=np.float32)\n",
    "  N = np.sum(C)\n",
    "  S = np.sum(C, axis=0)\n",
    "  total = C.shape[0] * C.shape[1]\n",
    "  cnt = 0\n",
    "  \n",
    "  for i in range(C.shape[0]):\n",
    "    for j in range(C.shape[1]):\n",
    "      pmi = np.log2(C[i, j] * N / (S[j]*S[i]) + eps)\n",
    "      M[i, j] = max(0, pmi)\n",
    "      \n",
    "      if verbose:\n",
    "        cnt += 1\n",
    "        if cnt % (total//100) == 0:\n",
    "          print(f\"{100*cnt/total:.1f}% 완료\" % (100*cnt/total))\n",
    "  return M"
   ]
  },
  {
   "cell_type": "markdown",
   "metadata": {},
   "source": [
    "인수 C는 동시발생 행렬, verbose는 진행상황 출력 여부를 나타낸다.\n",
    "\n",
    "단어 $x$와 $y$의 동시발생 횟수를 $C(x,y)$, 단어 $x$의 출현 횟수를 $C(x)$, 단어 $y$의 출현 횟수를 $C(y)$라고 하면, PPMI는 다음과 같이 정의된다.\n",
    "$$\n",
    "PPMI(x,y) = max(0,log_{2}\\frac{C(x,y)N}{C(x)C(y)})\n",
    "$$"
   ]
  },
  {
   "cell_type": "code",
   "execution_count": 16,
   "metadata": {},
   "outputs": [
    {
     "name": "stdout",
     "output_type": "stream",
     "text": [
      "동시발생 행렬\n",
      "[[0 1 0 0 0 0 0]\n",
      " [1 0 1 0 1 1 0]\n",
      " [0 1 0 1 0 0 0]\n",
      " [0 0 1 0 1 0 0]\n",
      " [0 1 0 1 0 0 0]\n",
      " [0 1 0 0 0 0 1]\n",
      " [0 0 0 0 0 1 0]]\n",
      "--------------------------------------------------\n",
      "\n",
      "PPMI\n",
      "[[0.    1.807 0.    0.    0.    0.    0.   ]\n",
      " [1.807 0.    0.807 0.    0.807 0.807 0.   ]\n",
      " [0.    0.807 0.    1.807 0.    0.    0.   ]\n",
      " [0.    0.    1.807 0.    1.807 0.    0.   ]\n",
      " [0.    0.807 0.    1.807 0.    0.    0.   ]\n",
      " [0.    0.807 0.    0.    0.    0.    2.807]\n",
      " [0.    0.    0.    0.    0.    2.807 0.   ]]\n"
     ]
    }
   ],
   "source": [
    "text = 'You say goodbye and i say hello.'\n",
    "corpus, word_to_id, id_to_word = preprocess(text)\n",
    "vocab_size = len(word_to_id)\n",
    "C = create_co_matrix(corpus, vocab_size)\n",
    "W = ppmi(C)\n",
    "\n",
    "np.set_printoptions(precision=3) # 유효 자릿수를 세 자리로 표시\n",
    "print(f\"동시발생 행렬\")\n",
    "print(C)\n",
    "print('-'*50)\n",
    "print(f\"\\nPPMI\")\n",
    "print(W)"
   ]
  },
  {
   "cell_type": "code",
   "execution_count": 17,
   "metadata": {},
   "outputs": [
    {
     "data": {
      "image/png": "[encoded data removed]",
      "text/plain": [
       "<Figure size 500x500 with 1 Axes>"
      ]
     },
     "metadata": {},
     "output_type": "display_data"
    }
   ],
   "source": [
    "# render PPMI\n",
    "render_co_matrix(W, word_to_id)"
   ]
  },
  {
   "cell_type": "markdown",
   "metadata": {},
   "source": [
    "### 2.4.2 차원 감소\n",
    "\n",
    "*차원 감소(dimensionality reduction)*는 말뭉치의 단어 수를 줄이는 방법이다. (중요한 정보는 최대한 유지하면서)\n",
    "\n",
    "\n",
    "**특잇값 분해(Singular Value Decomposition, SVD)**\n",
    "\n",
    "SVD는 임의의 행렬을 세 행렬의 곱으로 분해하는 방법이다.\n",
    "$$\n",
    "X = USV^T\n",
    "$$\n",
    "\n",
    "$X$는 $N \\times M$ 행렬, $U$는 $N \\times N$ 직교행렬, $S$는 $N \\times M$ 직사각 대각행렬, $V$는 $M \\times M$ 직교행렬이다.\n",
    "\n",
    "$U$와 $V$는 직교행렬이므로, $U^TU=I$, $V^TV=I$이다.\n",
    "\n",
    "$S$의 대각성분이 특잇값이며, 특잇값은 내림차순으로 정렬되어 있다.\n",
    "\n",
    "$S$의 대각성분 중 상위 $r$개만 남기고 나머지는 0으로 채워서 $S'$를 만든다.\n",
    "\n",
    "$$\n",
    "S' = \\begin{pmatrix}\n",
    "\\sigma_1 & 0 & \\cdots & 0 \\\\\n",
    "0 & \\sigma_2 & \\cdots & 0 \\\\\n",
    "\\vdots & \\vdots & \\ddots & \\vdots \\\\\n",
    "0 & 0 & \\cdots & \\sigma_r \\\\\n",
    "0 & 0 & \\cdots & 0 \\\\\n",
    "\\vdots & \\vdots & \\ddots & \\vdots \\\\\n",
    "0 & 0 & \\cdots & 0 \\\\\n",
    "\\end{pmatrix}\n",
    "$$"
   ]
  },
  {
   "cell_type": "markdown",
   "metadata": {},
   "source": [
    "### 2.4.3 SVG에 의한 차원 감소"
   ]
  },
  {
   "cell_type": "code",
   "execution_count": 19,
   "metadata": {},
   "outputs": [
    {
     "name": "stdout",
     "output_type": "stream",
     "text": [
      "\n",
      "동시발생 행렬\n",
      "[0 1 0 0 0 0 0]\n",
      "\n",
      "PPMI\n",
      "[0.    1.807 0.    0.    0.    0.    0.   ]\n",
      "\n",
      "SVD\n",
      "[-3.409e-01 -1.110e-16 -3.886e-16 -1.205e-01  0.000e+00  9.323e-01\n",
      "  2.226e-16]\n"
     ]
    }
   ],
   "source": [
    "text = 'You say goodbye and i say hello.'\n",
    "corpus, word_to_id, id_to_word = preprocess(text)\n",
    "vocab_size = len(word_to_id)\n",
    "C = create_co_matrix(corpus, vocab_size, window_size=1)\n",
    "W = ppmi(C)\n",
    "\n",
    "# SVD\n",
    "U, S, V = np.linalg.svd(W)\n",
    "\n",
    "print(f\"\\n동시발생 행렬\")\n",
    "print(C[0])\n",
    "\n",
    "print(f\"\\nPPMI\")\n",
    "print(W[0])\n",
    "\n",
    "print(f\"\\nSVD\")\n",
    "print(U[0])"
   ]
  },
  {
   "cell_type": "code",
   "execution_count": 20,
   "metadata": {},
   "outputs": [
    {
     "name": "stdout",
     "output_type": "stream",
     "text": [
      "\n",
      "SVD 2차원\n",
      "[-3.409e-01 -1.110e-16]\n"
     ]
    }
   ],
   "source": [
    "# 2차원으로 축소\n",
    "print(f\"\\nSVD 2차원\")\n",
    "print(U[0, :2])"
   ]
  },
  {
   "cell_type": "code",
   "execution_count": 21,
   "metadata": {},
   "outputs": [
    {
     "data": {
      "image/png": "[encoded data removed]",
      "text/plain": [
       "<Figure size 640x480 with 1 Axes>"
      ]
     },
     "metadata": {},
     "output_type": "display_data"
    }
   ],
   "source": [
    "for word, word_id in word_to_id.items():\n",
    "  plt.annotate(word, (U[word_id, 0], U[word_id, 1]))\n",
    "plt.scatter(U[:, 0], U[:, 1], alpha=0.5)\n",
    "plt.show()"
   ]
  },
  {
   "cell_type": "markdown",
   "metadata": {},
   "source": [
    "그림을 보면 \"goodbye\"와 \"hello\", \"you\"와 \"i\"가 가까이 있음을 알 수 있다."
   ]
  },
  {
   "cell_type": "markdown",
   "metadata": {},
   "source": [
    "### 2.4.4 PTB 데이터셋\n",
    "\n",
    "펜 트리뱅크(Penn Treebank, PTB)는 주어진 문장을 구문 분석하는 트리 구조로 되어 있는 데이터셋이다.\n",
    "\n",
    "PTB 말뭉치는 word2vec의 발명자 토마스 미코로프의 웹페이지에서 다운로드할 수 있다."
   ]
  },
  {
   "cell_type": "code",
   "execution_count": 25,
   "metadata": {},
   "outputs": [
    {
     "name": "stdout",
     "output_type": "stream",
     "text": [
      "말뭉치 크기: 929589\n",
      "corpus[:30]: [ 0  1  2  3  4  5  6  7  8  9 10 11 12 13 14 15 16 17 18 19 20 21 22 23\n",
      " 24 25 26 27 28 29]\n",
      "----------------------------------------------------------------------------------------------------\n",
      "id_to_word[0]: aer\n",
      "id_to_word[1]: banknote\n",
      "id_to_word[2]: berlitz\n",
      "----------------------------------------------------------------------------------------------------\n",
      "word_to_id['car']: 3856\n",
      "word_to_id['happy']: 4428\n",
      "word_to_id['lexus']: 7426\n"
     ]
    }
   ],
   "source": [
    "import sys\n",
    "sys.path.append('..')\n",
    "from dataset import ptb\n",
    "\n",
    "corpus, word_to_id, id_to_word = ptb.load_data('train')\n",
    "print(f\"말뭉치 크기: {len(corpus)}\")\n",
    "print(f\"corpus[:30]: {corpus[:30]}\")\n",
    "print(\"-\"*100)\n",
    "print(f\"id_to_word[0]: {id_to_word[0]}\")\n",
    "print(f\"id_to_word[1]: {id_to_word[1]}\")\n",
    "print(f\"id_to_word[2]: {id_to_word[2]}\")\n",
    "print(\"-\"*100)\n",
    "print(f\"word_to_id['car']: {word_to_id['car']}\")\n",
    "print(f\"word_to_id['happy']: {word_to_id['happy']}\")\n",
    "print(f\"word_to_id['lexus']: {word_to_id['lexus']}\")"
   ]
  },
  {
   "cell_type": "markdown",
   "metadata": {},
   "source": [
    "### 2.4.5 PTB 데이터셋 평가\n",
    "\n",
    "PTB 데이터셋에 통계 기반 기법을 적용한다. 이번에는 큰 행렬에 SVD를 적용해 차원을 감소시킨다."
   ]
  },
  {
   "cell_type": "code",
   "execution_count": 29,
   "metadata": {},
   "outputs": [
    {
     "name": "stdout",
     "output_type": "stream",
     "text": [
      "PPMI 계산 ... \n",
      "SVD 계산 ... \n",
      "\n",
      "[query] you\n",
      " i: 0.6847985982894897\n",
      " we: 0.639617383480072\n",
      " do: 0.5899771451950073\n",
      " anybody: 0.5426907539367676\n",
      " 'll: 0.5313369631767273\n",
      "\n",
      "[query] year\n",
      " quarter: 0.6507624983787537\n",
      " month: 0.6260066628456116\n",
      " fiscal: 0.5701863169670105\n",
      " earlier: 0.569119930267334\n",
      " third: 0.5684657096862793\n",
      "\n",
      "[query] car\n",
      " auto: 0.6192052364349365\n",
      " luxury: 0.569644033908844\n",
      " cars: 0.4744391441345215\n",
      " corsica: 0.4675040543079376\n",
      " vehicle: 0.43756982684135437\n",
      "\n",
      "[query] toyota\n",
      " motor: 0.7409532070159912\n",
      " nissan: 0.673519492149353\n",
      " motors: 0.6221210360527039\n",
      " honda: 0.6133593320846558\n",
      " mazda: 0.5579687356948853\n"
     ]
    }
   ],
   "source": [
    "import sys\n",
    "sys.path.append('..')\n",
    "import numpy as np\n",
    "from common.util import most_similar, create_co_matrix, ppmi\n",
    "from dataset import ptb\n",
    "\n",
    "window_size = 2\n",
    "wordvec_size = 100\n",
    "\n",
    "corpus, word_to_id, id_to_word = ptb.load_data('train')\n",
    "vocab_size = len(word_to_id)\n",
    "C = create_co_matrix(corpus, vocab_size, window_size)\n",
    "print('PPMI 계산 ... ')\n",
    "W = ppmi(C)\n",
    "\n",
    "print('SVD 계산 ... ')\n",
    "try: \n",
    "  from sklearn.utils.extmath import randomized_svd\n",
    "  U, S, V = randomized_svd(W, n_components=wordvec_size, n_iter=5, random_state=None)\n",
    "except ImportError:\n",
    "  U, S, V = np.linalg.svd(W)\n",
    "  \n",
    "word_vecs = U[:, :wordvec_size]\n",
    "querys = ['you', 'year', 'car', 'toyota']\n",
    "for query in querys:\n",
    "  most_similar(query, word_to_id, id_to_word, word_vecs, top=5)\n",
    "  "
   ]
  },
  {
   "cell_type": "code",
   "execution_count": null,
   "metadata": {},
   "outputs": [],
   "source": []
  }
 ],
 "metadata": {
  "kernelspec": {
   "display_name": "ai",
   "language": "python",
   "name": "python3"
  },
  "language_info": {
   "codemirror_mode": {
    "name": "ipython",
    "version": 3
   },
   "file_extension": ".py",
   "mimetype": "text/x-python",
   "name": "python",
   "nbconvert_exporter": "python",
   "pygments_lexer": "ipython3",
   "version": "3.11.0"
  }
 },
 "nbformat": 4,
 "nbformat_minor": 2
}
